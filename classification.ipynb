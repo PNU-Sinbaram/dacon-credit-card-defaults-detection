{
 "cells": [
  {
   "source": [
    "# EDA  "
   ],
   "cell_type": "markdown",
   "metadata": {}
  },
  {
   "cell_type": "code",
   "execution_count": null,
   "metadata": {},
   "outputs": [],
   "source": [
    "!git clone https://github.com/sinbaramDL/dacon-credit-card-defaults-detection"
   ]
  },
  {
   "cell_type": "code",
   "execution_count": null,
   "metadata": {},
   "outputs": [],
   "source": [
    "cd /content/dacon-credit-card-defaults-detection"
   ]
  },
  {
   "cell_type": "code",
   "execution_count": 44,
   "metadata": {},
   "outputs": [],
   "source": [
    "%matplotlib inline\n",
    "\n",
    "import numpy as np\n",
    "import pandas as pd\n",
    "import matplotlib.pyplot as plt\n",
    "import seaborn as sns\n",
    "# seed 설정\n",
    "np.random.seed(42)\n",
    "\n",
    "sns.set_style(\"white\")\n",
    "sns.set_context(\"talk\")\n",
    "\n",
    "# 한글 사용 설정 \n",
    "plt.rcParams['axes.unicode_minus'] = False"
   ]
  },
  {
   "cell_type": "code",
   "execution_count": 45,
   "metadata": {},
   "outputs": [],
   "source": [
    "train = pd.read_csv(\"datasets/train.csv\")\n",
    "test = pd.read_csv(\"datasets/test.csv\")"
   ]
  },
  {
   "cell_type": "code",
   "execution_count": 46,
   "metadata": {},
   "outputs": [
    {
     "output_type": "execute_result",
     "data": {
      "text/plain": [
       "               index gender    car reality     child_num  income_total  \\\n",
       "count   26457.000000  26457  26457   26457  26457.000000  2.645700e+04   \n",
       "unique           NaN      2      2       2           NaN           NaN   \n",
       "top              NaN      F      N       Y           NaN           NaN   \n",
       "freq             NaN  17697  16410   17830           NaN           NaN   \n",
       "mean    13228.000000    NaN    NaN     NaN      0.428658  1.873065e+05   \n",
       "std      7637.622372    NaN    NaN     NaN      0.747326  1.018784e+05   \n",
       "min         0.000000    NaN    NaN     NaN      0.000000  2.700000e+04   \n",
       "25%      6614.000000    NaN    NaN     NaN      0.000000  1.215000e+05   \n",
       "50%     13228.000000    NaN    NaN     NaN      0.000000  1.575000e+05   \n",
       "75%     19842.000000    NaN    NaN     NaN      1.000000  2.250000e+05   \n",
       "max     26456.000000    NaN    NaN     NaN     19.000000  1.575000e+06   \n",
       "\n",
       "       income_type                       edu_type family_type  \\\n",
       "count        26457                          26457       26457   \n",
       "unique           5                              5           5   \n",
       "top        Working  Secondary / secondary special     Married   \n",
       "freq         13645                          17995       18196   \n",
       "mean           NaN                            NaN         NaN   \n",
       "std            NaN                            NaN         NaN   \n",
       "min            NaN                            NaN         NaN   \n",
       "25%            NaN                            NaN         NaN   \n",
       "50%            NaN                            NaN         NaN   \n",
       "75%            NaN                            NaN         NaN   \n",
       "max            NaN                            NaN         NaN   \n",
       "\n",
       "               house_type    DAYS_BIRTH  DAYS_EMPLOYED  FLAG_MOBIL  \\\n",
       "count               26457  26457.000000   26457.000000     26457.0   \n",
       "unique                  6           NaN            NaN         NaN   \n",
       "top     House / apartment           NaN            NaN         NaN   \n",
       "freq                23653           NaN            NaN         NaN   \n",
       "mean                  NaN -15958.053899   59068.750728         1.0   \n",
       "std                   NaN   4201.589022  137475.427503         0.0   \n",
       "min                   NaN -25152.000000  -15713.000000         1.0   \n",
       "25%                   NaN -19431.000000   -3153.000000         1.0   \n",
       "50%                   NaN -15547.000000   -1539.000000         1.0   \n",
       "75%                   NaN -12446.000000    -407.000000         1.0   \n",
       "max                   NaN  -7705.000000  365243.000000         1.0   \n",
       "\n",
       "          work_phone         phone         email occyp_type   family_size  \\\n",
       "count   26457.000000  26457.000000  26457.000000      18286  26457.000000   \n",
       "unique           NaN           NaN           NaN         18           NaN   \n",
       "top              NaN           NaN           NaN   Laborers           NaN   \n",
       "freq             NaN           NaN           NaN       4512           NaN   \n",
       "mean        0.224742      0.294251      0.091280        NaN      2.196848   \n",
       "std         0.417420      0.455714      0.288013        NaN      0.916717   \n",
       "min         0.000000      0.000000      0.000000        NaN      1.000000   \n",
       "25%         0.000000      0.000000      0.000000        NaN      2.000000   \n",
       "50%         0.000000      0.000000      0.000000        NaN      2.000000   \n",
       "75%         0.000000      1.000000      0.000000        NaN      3.000000   \n",
       "max         1.000000      1.000000      1.000000        NaN     20.000000   \n",
       "\n",
       "         begin_month        credit  \n",
       "count   26457.000000  26457.000000  \n",
       "unique           NaN           NaN  \n",
       "top              NaN           NaN  \n",
       "freq             NaN           NaN  \n",
       "mean      -26.123294      1.519560  \n",
       "std        16.559550      0.702283  \n",
       "min       -60.000000      0.000000  \n",
       "25%       -39.000000      1.000000  \n",
       "50%       -24.000000      2.000000  \n",
       "75%       -12.000000      2.000000  \n",
       "max         0.000000      2.000000  "
      ],
      "text/html": "<div>\n<style scoped>\n    .dataframe tbody tr th:only-of-type {\n        vertical-align: middle;\n    }\n\n    .dataframe tbody tr th {\n        vertical-align: top;\n    }\n\n    .dataframe thead th {\n        text-align: right;\n    }\n</style>\n<table border=\"1\" class=\"dataframe\">\n  <thead>\n    <tr style=\"text-align: right;\">\n      <th></th>\n      <th>index</th>\n      <th>gender</th>\n      <th>car</th>\n      <th>reality</th>\n      <th>child_num</th>\n      <th>income_total</th>\n      <th>income_type</th>\n      <th>edu_type</th>\n      <th>family_type</th>\n      <th>house_type</th>\n      <th>DAYS_BIRTH</th>\n      <th>DAYS_EMPLOYED</th>\n      <th>FLAG_MOBIL</th>\n      <th>work_phone</th>\n      <th>phone</th>\n      <th>email</th>\n      <th>occyp_type</th>\n      <th>family_size</th>\n      <th>begin_month</th>\n      <th>credit</th>\n    </tr>\n  </thead>\n  <tbody>\n    <tr>\n      <th>count</th>\n      <td>26457.000000</td>\n      <td>26457</td>\n      <td>26457</td>\n      <td>26457</td>\n      <td>26457.000000</td>\n      <td>2.645700e+04</td>\n      <td>26457</td>\n      <td>26457</td>\n      <td>26457</td>\n      <td>26457</td>\n      <td>26457.000000</td>\n      <td>26457.000000</td>\n      <td>26457.0</td>\n      <td>26457.000000</td>\n      <td>26457.000000</td>\n      <td>26457.000000</td>\n      <td>18286</td>\n      <td>26457.000000</td>\n      <td>26457.000000</td>\n      <td>26457.000000</td>\n    </tr>\n    <tr>\n      <th>unique</th>\n      <td>NaN</td>\n      <td>2</td>\n      <td>2</td>\n      <td>2</td>\n      <td>NaN</td>\n      <td>NaN</td>\n      <td>5</td>\n      <td>5</td>\n      <td>5</td>\n      <td>6</td>\n      <td>NaN</td>\n      <td>NaN</td>\n      <td>NaN</td>\n      <td>NaN</td>\n      <td>NaN</td>\n      <td>NaN</td>\n      <td>18</td>\n      <td>NaN</td>\n      <td>NaN</td>\n      <td>NaN</td>\n    </tr>\n    <tr>\n      <th>top</th>\n      <td>NaN</td>\n      <td>F</td>\n      <td>N</td>\n      <td>Y</td>\n      <td>NaN</td>\n      <td>NaN</td>\n      <td>Working</td>\n      <td>Secondary / secondary special</td>\n      <td>Married</td>\n      <td>House / apartment</td>\n      <td>NaN</td>\n      <td>NaN</td>\n      <td>NaN</td>\n      <td>NaN</td>\n      <td>NaN</td>\n      <td>NaN</td>\n      <td>Laborers</td>\n      <td>NaN</td>\n      <td>NaN</td>\n      <td>NaN</td>\n    </tr>\n    <tr>\n      <th>freq</th>\n      <td>NaN</td>\n      <td>17697</td>\n      <td>16410</td>\n      <td>17830</td>\n      <td>NaN</td>\n      <td>NaN</td>\n      <td>13645</td>\n      <td>17995</td>\n      <td>18196</td>\n      <td>23653</td>\n      <td>NaN</td>\n      <td>NaN</td>\n      <td>NaN</td>\n      <td>NaN</td>\n      <td>NaN</td>\n      <td>NaN</td>\n      <td>4512</td>\n      <td>NaN</td>\n      <td>NaN</td>\n      <td>NaN</td>\n    </tr>\n    <tr>\n      <th>mean</th>\n      <td>13228.000000</td>\n      <td>NaN</td>\n      <td>NaN</td>\n      <td>NaN</td>\n      <td>0.428658</td>\n      <td>1.873065e+05</td>\n      <td>NaN</td>\n      <td>NaN</td>\n      <td>NaN</td>\n      <td>NaN</td>\n      <td>-15958.053899</td>\n      <td>59068.750728</td>\n      <td>1.0</td>\n      <td>0.224742</td>\n      <td>0.294251</td>\n      <td>0.091280</td>\n      <td>NaN</td>\n      <td>2.196848</td>\n      <td>-26.123294</td>\n      <td>1.519560</td>\n    </tr>\n    <tr>\n      <th>std</th>\n      <td>7637.622372</td>\n      <td>NaN</td>\n      <td>NaN</td>\n      <td>NaN</td>\n      <td>0.747326</td>\n      <td>1.018784e+05</td>\n      <td>NaN</td>\n      <td>NaN</td>\n      <td>NaN</td>\n      <td>NaN</td>\n      <td>4201.589022</td>\n      <td>137475.427503</td>\n      <td>0.0</td>\n      <td>0.417420</td>\n      <td>0.455714</td>\n      <td>0.288013</td>\n      <td>NaN</td>\n      <td>0.916717</td>\n      <td>16.559550</td>\n      <td>0.702283</td>\n    </tr>\n    <tr>\n      <th>min</th>\n      <td>0.000000</td>\n      <td>NaN</td>\n      <td>NaN</td>\n      <td>NaN</td>\n      <td>0.000000</td>\n      <td>2.700000e+04</td>\n      <td>NaN</td>\n      <td>NaN</td>\n      <td>NaN</td>\n      <td>NaN</td>\n      <td>-25152.000000</td>\n      <td>-15713.000000</td>\n      <td>1.0</td>\n      <td>0.000000</td>\n      <td>0.000000</td>\n      <td>0.000000</td>\n      <td>NaN</td>\n      <td>1.000000</td>\n      <td>-60.000000</td>\n      <td>0.000000</td>\n    </tr>\n    <tr>\n      <th>25%</th>\n      <td>6614.000000</td>\n      <td>NaN</td>\n      <td>NaN</td>\n      <td>NaN</td>\n      <td>0.000000</td>\n      <td>1.215000e+05</td>\n      <td>NaN</td>\n      <td>NaN</td>\n      <td>NaN</td>\n      <td>NaN</td>\n      <td>-19431.000000</td>\n      <td>-3153.000000</td>\n      <td>1.0</td>\n      <td>0.000000</td>\n      <td>0.000000</td>\n      <td>0.000000</td>\n      <td>NaN</td>\n      <td>2.000000</td>\n      <td>-39.000000</td>\n      <td>1.000000</td>\n    </tr>\n    <tr>\n      <th>50%</th>\n      <td>13228.000000</td>\n      <td>NaN</td>\n      <td>NaN</td>\n      <td>NaN</td>\n      <td>0.000000</td>\n      <td>1.575000e+05</td>\n      <td>NaN</td>\n      <td>NaN</td>\n      <td>NaN</td>\n      <td>NaN</td>\n      <td>-15547.000000</td>\n      <td>-1539.000000</td>\n      <td>1.0</td>\n      <td>0.000000</td>\n      <td>0.000000</td>\n      <td>0.000000</td>\n      <td>NaN</td>\n      <td>2.000000</td>\n      <td>-24.000000</td>\n      <td>2.000000</td>\n    </tr>\n    <tr>\n      <th>75%</th>\n      <td>19842.000000</td>\n      <td>NaN</td>\n      <td>NaN</td>\n      <td>NaN</td>\n      <td>1.000000</td>\n      <td>2.250000e+05</td>\n      <td>NaN</td>\n      <td>NaN</td>\n      <td>NaN</td>\n      <td>NaN</td>\n      <td>-12446.000000</td>\n      <td>-407.000000</td>\n      <td>1.0</td>\n      <td>0.000000</td>\n      <td>1.000000</td>\n      <td>0.000000</td>\n      <td>NaN</td>\n      <td>3.000000</td>\n      <td>-12.000000</td>\n      <td>2.000000</td>\n    </tr>\n    <tr>\n      <th>max</th>\n      <td>26456.000000</td>\n      <td>NaN</td>\n      <td>NaN</td>\n      <td>NaN</td>\n      <td>19.000000</td>\n      <td>1.575000e+06</td>\n      <td>NaN</td>\n      <td>NaN</td>\n      <td>NaN</td>\n      <td>NaN</td>\n      <td>-7705.000000</td>\n      <td>365243.000000</td>\n      <td>1.0</td>\n      <td>1.000000</td>\n      <td>1.000000</td>\n      <td>1.000000</td>\n      <td>NaN</td>\n      <td>20.000000</td>\n      <td>0.000000</td>\n      <td>2.000000</td>\n    </tr>\n  </tbody>\n</table>\n</div>"
     },
     "metadata": {},
     "execution_count": 46
    }
   ],
   "source": [
    "train.describe(include='all')"
   ]
  },
  {
   "cell_type": "code",
   "execution_count": 47,
   "metadata": {},
   "outputs": [
    {
     "output_type": "execute_result",
     "data": {
      "text/plain": [
       "array(['Commercial associate', 'Working', 'State servant', 'Pensioner',\n",
       "       'Student'], dtype=object)"
      ]
     },
     "metadata": {},
     "execution_count": 47
    }
   ],
   "source": [
    "train['income_type'].unique()"
   ]
  },
  {
   "cell_type": "code",
   "execution_count": 48,
   "metadata": {},
   "outputs": [
    {
     "output_type": "stream",
     "name": "stdout",
     "text": [
      "<class 'pandas.core.frame.DataFrame'>\nRangeIndex: 26457 entries, 0 to 26456\nData columns (total 20 columns):\n #   Column         Non-Null Count  Dtype  \n---  ------         --------------  -----  \n 0   index          26457 non-null  int64  \n 1   gender         26457 non-null  object \n 2   car            26457 non-null  object \n 3   reality        26457 non-null  object \n 4   child_num      26457 non-null  int64  \n 5   income_total   26457 non-null  float64\n 6   income_type    26457 non-null  object \n 7   edu_type       26457 non-null  object \n 8   family_type    26457 non-null  object \n 9   house_type     26457 non-null  object \n 10  DAYS_BIRTH     26457 non-null  int64  \n 11  DAYS_EMPLOYED  26457 non-null  int64  \n 12  FLAG_MOBIL     26457 non-null  int64  \n 13  work_phone     26457 non-null  int64  \n 14  phone          26457 non-null  int64  \n 15  email          26457 non-null  int64  \n 16  occyp_type     18286 non-null  object \n 17  family_size    26457 non-null  float64\n 18  begin_month    26457 non-null  float64\n 19  credit         26457 non-null  float64\ndtypes: float64(4), int64(8), object(8)\nmemory usage: 4.0+ MB\n"
     ]
    }
   ],
   "source": [
    "train.info()"
   ]
  },
  {
   "cell_type": "code",
   "execution_count": 49,
   "metadata": {},
   "outputs": [
    {
     "output_type": "execute_result",
     "data": {
      "text/plain": [
       "   index gender car reality  child_num  income_total           income_type  \\\n",
       "0      0      F   N       N          0      202500.0  Commercial associate   \n",
       "1      1      F   N       Y          1      247500.0  Commercial associate   \n",
       "2      2      M   Y       Y          0      450000.0               Working   \n",
       "3      3      F   N       Y          0      202500.0  Commercial associate   \n",
       "4      4      F   Y       Y          0      157500.0         State servant   \n",
       "5      5      F   N       Y          2      270000.0               Working   \n",
       "6      6      F   N       N          0      315000.0               Working   \n",
       "7      7      M   N       Y          0      270000.0  Commercial associate   \n",
       "8      8      M   Y       Y          1      180000.0  Commercial associate   \n",
       "9      9      F   N       Y          0      103500.0               Working   \n",
       "\n",
       "                        edu_type     family_type           house_type  \\\n",
       "0               Higher education         Married  Municipal apartment   \n",
       "1  Secondary / secondary special  Civil marriage    House / apartment   \n",
       "2               Higher education         Married    House / apartment   \n",
       "3  Secondary / secondary special         Married    House / apartment   \n",
       "4               Higher education         Married    House / apartment   \n",
       "5  Secondary / secondary special         Married    House / apartment   \n",
       "6  Secondary / secondary special       Separated    House / apartment   \n",
       "7  Secondary / secondary special         Married    House / apartment   \n",
       "8               Higher education         Married    House / apartment   \n",
       "9  Secondary / secondary special         Married    House / apartment   \n",
       "\n",
       "   DAYS_BIRTH  DAYS_EMPLOYED  FLAG_MOBIL  work_phone  phone  email  \\\n",
       "0      -13899          -4709           1           0      0      0   \n",
       "1      -11380          -1540           1           0      0      1   \n",
       "2      -19087          -4434           1           0      1      0   \n",
       "3      -15088          -2092           1           0      1      0   \n",
       "4      -15037          -2105           1           0      0      0   \n",
       "5      -13413          -4996           1           0      0      1   \n",
       "6      -17570          -1978           1           0      0      1   \n",
       "7      -14896          -5420           1           0      0      1   \n",
       "8      -15131          -1466           1           0      0      1   \n",
       "9      -15785          -1308           1           0      0      0   \n",
       "\n",
       "              occyp_type  family_size  begin_month  credit  \n",
       "0                    NaN          2.0         -6.0     1.0  \n",
       "1               Laborers          3.0         -5.0     1.0  \n",
       "2               Managers          2.0        -22.0     2.0  \n",
       "3            Sales staff          2.0        -37.0     0.0  \n",
       "4               Managers          2.0        -26.0     2.0  \n",
       "5  High skill tech staff          4.0        -18.0     1.0  \n",
       "6             Core staff          1.0        -41.0     2.0  \n",
       "7                Drivers          2.0        -53.0     0.0  \n",
       "8                    NaN          3.0        -38.0     2.0  \n",
       "9         Medicine staff          2.0         -5.0     2.0  "
      ],
      "text/html": "<div>\n<style scoped>\n    .dataframe tbody tr th:only-of-type {\n        vertical-align: middle;\n    }\n\n    .dataframe tbody tr th {\n        vertical-align: top;\n    }\n\n    .dataframe thead th {\n        text-align: right;\n    }\n</style>\n<table border=\"1\" class=\"dataframe\">\n  <thead>\n    <tr style=\"text-align: right;\">\n      <th></th>\n      <th>index</th>\n      <th>gender</th>\n      <th>car</th>\n      <th>reality</th>\n      <th>child_num</th>\n      <th>income_total</th>\n      <th>income_type</th>\n      <th>edu_type</th>\n      <th>family_type</th>\n      <th>house_type</th>\n      <th>DAYS_BIRTH</th>\n      <th>DAYS_EMPLOYED</th>\n      <th>FLAG_MOBIL</th>\n      <th>work_phone</th>\n      <th>phone</th>\n      <th>email</th>\n      <th>occyp_type</th>\n      <th>family_size</th>\n      <th>begin_month</th>\n      <th>credit</th>\n    </tr>\n  </thead>\n  <tbody>\n    <tr>\n      <th>0</th>\n      <td>0</td>\n      <td>F</td>\n      <td>N</td>\n      <td>N</td>\n      <td>0</td>\n      <td>202500.0</td>\n      <td>Commercial associate</td>\n      <td>Higher education</td>\n      <td>Married</td>\n      <td>Municipal apartment</td>\n      <td>-13899</td>\n      <td>-4709</td>\n      <td>1</td>\n      <td>0</td>\n      <td>0</td>\n      <td>0</td>\n      <td>NaN</td>\n      <td>2.0</td>\n      <td>-6.0</td>\n      <td>1.0</td>\n    </tr>\n    <tr>\n      <th>1</th>\n      <td>1</td>\n      <td>F</td>\n      <td>N</td>\n      <td>Y</td>\n      <td>1</td>\n      <td>247500.0</td>\n      <td>Commercial associate</td>\n      <td>Secondary / secondary special</td>\n      <td>Civil marriage</td>\n      <td>House / apartment</td>\n      <td>-11380</td>\n      <td>-1540</td>\n      <td>1</td>\n      <td>0</td>\n      <td>0</td>\n      <td>1</td>\n      <td>Laborers</td>\n      <td>3.0</td>\n      <td>-5.0</td>\n      <td>1.0</td>\n    </tr>\n    <tr>\n      <th>2</th>\n      <td>2</td>\n      <td>M</td>\n      <td>Y</td>\n      <td>Y</td>\n      <td>0</td>\n      <td>450000.0</td>\n      <td>Working</td>\n      <td>Higher education</td>\n      <td>Married</td>\n      <td>House / apartment</td>\n      <td>-19087</td>\n      <td>-4434</td>\n      <td>1</td>\n      <td>0</td>\n      <td>1</td>\n      <td>0</td>\n      <td>Managers</td>\n      <td>2.0</td>\n      <td>-22.0</td>\n      <td>2.0</td>\n    </tr>\n    <tr>\n      <th>3</th>\n      <td>3</td>\n      <td>F</td>\n      <td>N</td>\n      <td>Y</td>\n      <td>0</td>\n      <td>202500.0</td>\n      <td>Commercial associate</td>\n      <td>Secondary / secondary special</td>\n      <td>Married</td>\n      <td>House / apartment</td>\n      <td>-15088</td>\n      <td>-2092</td>\n      <td>1</td>\n      <td>0</td>\n      <td>1</td>\n      <td>0</td>\n      <td>Sales staff</td>\n      <td>2.0</td>\n      <td>-37.0</td>\n      <td>0.0</td>\n    </tr>\n    <tr>\n      <th>4</th>\n      <td>4</td>\n      <td>F</td>\n      <td>Y</td>\n      <td>Y</td>\n      <td>0</td>\n      <td>157500.0</td>\n      <td>State servant</td>\n      <td>Higher education</td>\n      <td>Married</td>\n      <td>House / apartment</td>\n      <td>-15037</td>\n      <td>-2105</td>\n      <td>1</td>\n      <td>0</td>\n      <td>0</td>\n      <td>0</td>\n      <td>Managers</td>\n      <td>2.0</td>\n      <td>-26.0</td>\n      <td>2.0</td>\n    </tr>\n    <tr>\n      <th>5</th>\n      <td>5</td>\n      <td>F</td>\n      <td>N</td>\n      <td>Y</td>\n      <td>2</td>\n      <td>270000.0</td>\n      <td>Working</td>\n      <td>Secondary / secondary special</td>\n      <td>Married</td>\n      <td>House / apartment</td>\n      <td>-13413</td>\n      <td>-4996</td>\n      <td>1</td>\n      <td>0</td>\n      <td>0</td>\n      <td>1</td>\n      <td>High skill tech staff</td>\n      <td>4.0</td>\n      <td>-18.0</td>\n      <td>1.0</td>\n    </tr>\n    <tr>\n      <th>6</th>\n      <td>6</td>\n      <td>F</td>\n      <td>N</td>\n      <td>N</td>\n      <td>0</td>\n      <td>315000.0</td>\n      <td>Working</td>\n      <td>Secondary / secondary special</td>\n      <td>Separated</td>\n      <td>House / apartment</td>\n      <td>-17570</td>\n      <td>-1978</td>\n      <td>1</td>\n      <td>0</td>\n      <td>0</td>\n      <td>1</td>\n      <td>Core staff</td>\n      <td>1.0</td>\n      <td>-41.0</td>\n      <td>2.0</td>\n    </tr>\n    <tr>\n      <th>7</th>\n      <td>7</td>\n      <td>M</td>\n      <td>N</td>\n      <td>Y</td>\n      <td>0</td>\n      <td>270000.0</td>\n      <td>Commercial associate</td>\n      <td>Secondary / secondary special</td>\n      <td>Married</td>\n      <td>House / apartment</td>\n      <td>-14896</td>\n      <td>-5420</td>\n      <td>1</td>\n      <td>0</td>\n      <td>0</td>\n      <td>1</td>\n      <td>Drivers</td>\n      <td>2.0</td>\n      <td>-53.0</td>\n      <td>0.0</td>\n    </tr>\n    <tr>\n      <th>8</th>\n      <td>8</td>\n      <td>M</td>\n      <td>Y</td>\n      <td>Y</td>\n      <td>1</td>\n      <td>180000.0</td>\n      <td>Commercial associate</td>\n      <td>Higher education</td>\n      <td>Married</td>\n      <td>House / apartment</td>\n      <td>-15131</td>\n      <td>-1466</td>\n      <td>1</td>\n      <td>0</td>\n      <td>0</td>\n      <td>1</td>\n      <td>NaN</td>\n      <td>3.0</td>\n      <td>-38.0</td>\n      <td>2.0</td>\n    </tr>\n    <tr>\n      <th>9</th>\n      <td>9</td>\n      <td>F</td>\n      <td>N</td>\n      <td>Y</td>\n      <td>0</td>\n      <td>103500.0</td>\n      <td>Working</td>\n      <td>Secondary / secondary special</td>\n      <td>Married</td>\n      <td>House / apartment</td>\n      <td>-15785</td>\n      <td>-1308</td>\n      <td>1</td>\n      <td>0</td>\n      <td>0</td>\n      <td>0</td>\n      <td>Medicine staff</td>\n      <td>2.0</td>\n      <td>-5.0</td>\n      <td>2.0</td>\n    </tr>\n  </tbody>\n</table>\n</div>"
     },
     "metadata": {},
     "execution_count": 49
    }
   ],
   "source": [
    "train.head(10)"
   ]
  },
  {
   "source": [
    "# Feature Engineering"
   ],
   "cell_type": "markdown",
   "metadata": {}
  },
  {
   "cell_type": "code",
   "execution_count": 50,
   "metadata": {},
   "outputs": [],
   "source": [
    "train = train.drop([\"index\"], axis=1)\n",
    "test = test.drop([\"index\"], axis=1)"
   ]
  },
  {
   "cell_type": "code",
   "execution_count": 51,
   "metadata": {},
   "outputs": [
    {
     "output_type": "execute_result",
     "data": {
      "text/plain": [
       "      gender car reality  child_num  income_total    income_type  \\\n",
       "419        M   Y       Y          0      135000.0        Working   \n",
       "716        F   N       Y          0      157500.0      Pensioner   \n",
       "877        M   Y       N          2      180000.0  State servant   \n",
       "1056       F   N       Y          0       90000.0      Pensioner   \n",
       "1315       F   Y       Y          0      130500.0        Working   \n",
       "...      ...  ..     ...        ...           ...            ...   \n",
       "26374      F   Y       N          0      112500.0        Working   \n",
       "26393      M   Y       Y          0      247500.0        Working   \n",
       "26428      F   Y       Y          2      270000.0        Working   \n",
       "26446      F   N       Y          0      135000.0        Working   \n",
       "26451      F   N       Y          0      202500.0        Working   \n",
       "\n",
       "                            edu_type     family_type           house_type  \\\n",
       "419    Secondary / secondary special         Married    House / apartment   \n",
       "716    Secondary / secondary special           Widow    House / apartment   \n",
       "877    Secondary / secondary special         Married    House / apartment   \n",
       "1056   Secondary / secondary special         Married    House / apartment   \n",
       "1315   Secondary / secondary special         Married    House / apartment   \n",
       "...                              ...             ...                  ...   \n",
       "26374  Secondary / secondary special         Married  Municipal apartment   \n",
       "26393  Secondary / secondary special         Married    House / apartment   \n",
       "26428  Secondary / secondary special  Civil marriage    House / apartment   \n",
       "26446  Secondary / secondary special  Civil marriage    House / apartment   \n",
       "26451               Higher education         Married    House / apartment   \n",
       "\n",
       "       DAYS_BIRTH  DAYS_EMPLOYED  FLAG_MOBIL  work_phone  phone  email  \\\n",
       "419        -18820          -3185           1           0      1      0   \n",
       "716        -21497         365243           1           0      0      0   \n",
       "877        -12240          -4663           1           0      0      0   \n",
       "1056       -24665         365243           1           0      0      0   \n",
       "1315       -16137          -9391           1           0      1      0   \n",
       "...           ...            ...         ...         ...    ...    ...   \n",
       "26374      -17372           -978           1           0      1      0   \n",
       "26393      -14122          -3383           1           0      0      0   \n",
       "26428      -12745           -525           1           0      0      1   \n",
       "26446      -16300          -9698           1           0      0      1   \n",
       "26451      -12831           -803           1           1      1      0   \n",
       "\n",
       "               occyp_type  family_size  begin_month  credit  \n",
       "419    Low-skill Laborers          2.0         -7.0     1.0  \n",
       "716                   NaN          1.0         -4.0     1.0  \n",
       "877            Core staff          4.0        -24.0     2.0  \n",
       "1056                  NaN          2.0        -35.0     2.0  \n",
       "1315             Laborers          2.0        -29.0     2.0  \n",
       "...                   ...          ...          ...     ...  \n",
       "26374         Sales staff          2.0        -15.0     1.0  \n",
       "26393            Managers          2.0        -31.0     2.0  \n",
       "26428          Core staff          4.0        -23.0     1.0  \n",
       "26446            Managers          2.0        -41.0     2.0  \n",
       "26451         Accountants          2.0        -44.0     1.0  \n",
       "\n",
       "[1634 rows x 19 columns]"
      ],
      "text/html": "<div>\n<style scoped>\n    .dataframe tbody tr th:only-of-type {\n        vertical-align: middle;\n    }\n\n    .dataframe tbody tr th {\n        vertical-align: top;\n    }\n\n    .dataframe thead th {\n        text-align: right;\n    }\n</style>\n<table border=\"1\" class=\"dataframe\">\n  <thead>\n    <tr style=\"text-align: right;\">\n      <th></th>\n      <th>gender</th>\n      <th>car</th>\n      <th>reality</th>\n      <th>child_num</th>\n      <th>income_total</th>\n      <th>income_type</th>\n      <th>edu_type</th>\n      <th>family_type</th>\n      <th>house_type</th>\n      <th>DAYS_BIRTH</th>\n      <th>DAYS_EMPLOYED</th>\n      <th>FLAG_MOBIL</th>\n      <th>work_phone</th>\n      <th>phone</th>\n      <th>email</th>\n      <th>occyp_type</th>\n      <th>family_size</th>\n      <th>begin_month</th>\n      <th>credit</th>\n    </tr>\n  </thead>\n  <tbody>\n    <tr>\n      <th>419</th>\n      <td>M</td>\n      <td>Y</td>\n      <td>Y</td>\n      <td>0</td>\n      <td>135000.0</td>\n      <td>Working</td>\n      <td>Secondary / secondary special</td>\n      <td>Married</td>\n      <td>House / apartment</td>\n      <td>-18820</td>\n      <td>-3185</td>\n      <td>1</td>\n      <td>0</td>\n      <td>1</td>\n      <td>0</td>\n      <td>Low-skill Laborers</td>\n      <td>2.0</td>\n      <td>-7.0</td>\n      <td>1.0</td>\n    </tr>\n    <tr>\n      <th>716</th>\n      <td>F</td>\n      <td>N</td>\n      <td>Y</td>\n      <td>0</td>\n      <td>157500.0</td>\n      <td>Pensioner</td>\n      <td>Secondary / secondary special</td>\n      <td>Widow</td>\n      <td>House / apartment</td>\n      <td>-21497</td>\n      <td>365243</td>\n      <td>1</td>\n      <td>0</td>\n      <td>0</td>\n      <td>0</td>\n      <td>NaN</td>\n      <td>1.0</td>\n      <td>-4.0</td>\n      <td>1.0</td>\n    </tr>\n    <tr>\n      <th>877</th>\n      <td>M</td>\n      <td>Y</td>\n      <td>N</td>\n      <td>2</td>\n      <td>180000.0</td>\n      <td>State servant</td>\n      <td>Secondary / secondary special</td>\n      <td>Married</td>\n      <td>House / apartment</td>\n      <td>-12240</td>\n      <td>-4663</td>\n      <td>1</td>\n      <td>0</td>\n      <td>0</td>\n      <td>0</td>\n      <td>Core staff</td>\n      <td>4.0</td>\n      <td>-24.0</td>\n      <td>2.0</td>\n    </tr>\n    <tr>\n      <th>1056</th>\n      <td>F</td>\n      <td>N</td>\n      <td>Y</td>\n      <td>0</td>\n      <td>90000.0</td>\n      <td>Pensioner</td>\n      <td>Secondary / secondary special</td>\n      <td>Married</td>\n      <td>House / apartment</td>\n      <td>-24665</td>\n      <td>365243</td>\n      <td>1</td>\n      <td>0</td>\n      <td>0</td>\n      <td>0</td>\n      <td>NaN</td>\n      <td>2.0</td>\n      <td>-35.0</td>\n      <td>2.0</td>\n    </tr>\n    <tr>\n      <th>1315</th>\n      <td>F</td>\n      <td>Y</td>\n      <td>Y</td>\n      <td>0</td>\n      <td>130500.0</td>\n      <td>Working</td>\n      <td>Secondary / secondary special</td>\n      <td>Married</td>\n      <td>House / apartment</td>\n      <td>-16137</td>\n      <td>-9391</td>\n      <td>1</td>\n      <td>0</td>\n      <td>1</td>\n      <td>0</td>\n      <td>Laborers</td>\n      <td>2.0</td>\n      <td>-29.0</td>\n      <td>2.0</td>\n    </tr>\n    <tr>\n      <th>...</th>\n      <td>...</td>\n      <td>...</td>\n      <td>...</td>\n      <td>...</td>\n      <td>...</td>\n      <td>...</td>\n      <td>...</td>\n      <td>...</td>\n      <td>...</td>\n      <td>...</td>\n      <td>...</td>\n      <td>...</td>\n      <td>...</td>\n      <td>...</td>\n      <td>...</td>\n      <td>...</td>\n      <td>...</td>\n      <td>...</td>\n      <td>...</td>\n    </tr>\n    <tr>\n      <th>26374</th>\n      <td>F</td>\n      <td>Y</td>\n      <td>N</td>\n      <td>0</td>\n      <td>112500.0</td>\n      <td>Working</td>\n      <td>Secondary / secondary special</td>\n      <td>Married</td>\n      <td>Municipal apartment</td>\n      <td>-17372</td>\n      <td>-978</td>\n      <td>1</td>\n      <td>0</td>\n      <td>1</td>\n      <td>0</td>\n      <td>Sales staff</td>\n      <td>2.0</td>\n      <td>-15.0</td>\n      <td>1.0</td>\n    </tr>\n    <tr>\n      <th>26393</th>\n      <td>M</td>\n      <td>Y</td>\n      <td>Y</td>\n      <td>0</td>\n      <td>247500.0</td>\n      <td>Working</td>\n      <td>Secondary / secondary special</td>\n      <td>Married</td>\n      <td>House / apartment</td>\n      <td>-14122</td>\n      <td>-3383</td>\n      <td>1</td>\n      <td>0</td>\n      <td>0</td>\n      <td>0</td>\n      <td>Managers</td>\n      <td>2.0</td>\n      <td>-31.0</td>\n      <td>2.0</td>\n    </tr>\n    <tr>\n      <th>26428</th>\n      <td>F</td>\n      <td>Y</td>\n      <td>Y</td>\n      <td>2</td>\n      <td>270000.0</td>\n      <td>Working</td>\n      <td>Secondary / secondary special</td>\n      <td>Civil marriage</td>\n      <td>House / apartment</td>\n      <td>-12745</td>\n      <td>-525</td>\n      <td>1</td>\n      <td>0</td>\n      <td>0</td>\n      <td>1</td>\n      <td>Core staff</td>\n      <td>4.0</td>\n      <td>-23.0</td>\n      <td>1.0</td>\n    </tr>\n    <tr>\n      <th>26446</th>\n      <td>F</td>\n      <td>N</td>\n      <td>Y</td>\n      <td>0</td>\n      <td>135000.0</td>\n      <td>Working</td>\n      <td>Secondary / secondary special</td>\n      <td>Civil marriage</td>\n      <td>House / apartment</td>\n      <td>-16300</td>\n      <td>-9698</td>\n      <td>1</td>\n      <td>0</td>\n      <td>0</td>\n      <td>1</td>\n      <td>Managers</td>\n      <td>2.0</td>\n      <td>-41.0</td>\n      <td>2.0</td>\n    </tr>\n    <tr>\n      <th>26451</th>\n      <td>F</td>\n      <td>N</td>\n      <td>Y</td>\n      <td>0</td>\n      <td>202500.0</td>\n      <td>Working</td>\n      <td>Higher education</td>\n      <td>Married</td>\n      <td>House / apartment</td>\n      <td>-12831</td>\n      <td>-803</td>\n      <td>1</td>\n      <td>1</td>\n      <td>1</td>\n      <td>0</td>\n      <td>Accountants</td>\n      <td>2.0</td>\n      <td>-44.0</td>\n      <td>1.0</td>\n    </tr>\n  </tbody>\n</table>\n<p>1634 rows × 19 columns</p>\n</div>"
     },
     "metadata": {},
     "execution_count": 51
    }
   ],
   "source": [
    "train[train.duplicated()]"
   ]
  },
  {
   "cell_type": "code",
   "execution_count": 52,
   "metadata": {},
   "outputs": [],
   "source": [
    "train.drop_duplicates(subset=None, inplace=True)"
   ]
  },
  {
   "cell_type": "code",
   "execution_count": 53,
   "metadata": {},
   "outputs": [
    {
     "output_type": "execute_result",
     "data": {
      "text/plain": [
       "1    24823\n",
       "Name: FLAG_MOBIL, dtype: int64"
      ]
     },
     "metadata": {},
     "execution_count": 53
    }
   ],
   "source": [
    "train[\"FLAG_MOBIL\"].value_counts()"
   ]
  },
  {
   "cell_type": "code",
   "execution_count": 54,
   "metadata": {},
   "outputs": [],
   "source": [
    "train = train.drop([\"FLAG_MOBIL\"], axis=1)\n",
    "test = test.drop([\"FLAG_MOBIL\"], axis=1)"
   ]
  },
  {
   "source": [
    "## Feature Creation"
   ],
   "cell_type": "markdown",
   "metadata": {}
  },
  {
   "cell_type": "code",
   "execution_count": 55,
   "metadata": {},
   "outputs": [
    {
     "output_type": "stream",
     "name": "stdout",
     "text": [
      "(24823, 18)\n(10000, 17)\n(34823, 18)\n"
     ]
    }
   ],
   "source": [
    "data = pd.concat([train, test], axis=0)\n",
    "print(train.shape)\n",
    "print(test.shape)\n",
    "print(data.shape)"
   ]
  },
  {
   "source": [
    "### occyp_type을 credit 평균치로 환산"
   ],
   "cell_type": "markdown",
   "metadata": {}
  },
  {
   "cell_type": "code",
   "execution_count": 56,
   "metadata": {},
   "outputs": [
    {
     "output_type": "execute_result",
     "data": {
      "text/plain": [
       "       occyp_type\n",
       "count       34823\n",
       "unique         19\n",
       "top         OTHER\n",
       "freq        10765"
      ],
      "text/html": "<div>\n<style scoped>\n    .dataframe tbody tr th:only-of-type {\n        vertical-align: middle;\n    }\n\n    .dataframe tbody tr th {\n        vertical-align: top;\n    }\n\n    .dataframe thead th {\n        text-align: right;\n    }\n</style>\n<table border=\"1\" class=\"dataframe\">\n  <thead>\n    <tr style=\"text-align: right;\">\n      <th></th>\n      <th>occyp_type</th>\n    </tr>\n  </thead>\n  <tbody>\n    <tr>\n      <th>count</th>\n      <td>34823</td>\n    </tr>\n    <tr>\n      <th>unique</th>\n      <td>19</td>\n    </tr>\n    <tr>\n      <th>top</th>\n      <td>OTHER</td>\n    </tr>\n    <tr>\n      <th>freq</th>\n      <td>10765</td>\n    </tr>\n  </tbody>\n</table>\n</div>"
     },
     "metadata": {},
     "execution_count": 56
    }
   ],
   "source": [
    "data['occyp_type'].fillna('OTHER',inplace = True)\n",
    "#occyp_mean_score = data.groupby(['occyp_type']).mean()['credit']\n",
    "#data['occyp_mean_score'] = data['occyp_type'].apply(lambda x : occyp_mean_score[x] )\n",
    "data[[\"occyp_type\"]].describe(include='all')"
   ]
  },
  {
   "source": [
    "### houst_type credit 평균치로 환산"
   ],
   "cell_type": "markdown",
   "metadata": {}
  },
  {
   "cell_type": "code",
   "execution_count": 57,
   "metadata": {},
   "outputs": [],
   "source": [
    "#house_mean_score = data.groupby(['house_type']).mean()['credit']\n",
    "#data['house_mean_score'] = data['house_type'].apply(lambda x : house_mean_score[x] )\n",
    "#data[[\"house_mean_score\", \"house_type\"]].describe(include='all')"
   ]
  },
  {
   "source": [
    "### family related feature creation\n",
    "1. 전체소득 / 가족수 --> 인당 인컴 수준\n",
    "2. family_size - childnum --> 어른 수 linear해서 큰의미가 없을 것 같긴하지만 3을 위해서 활용\n",
    "3. 전체소득 / 2에서 나온 것 --> 어른당 얼마정도 사용가능한지 연산"
   ],
   "cell_type": "markdown",
   "metadata": {}
  },
  {
   "cell_type": "code",
   "execution_count": 58,
   "metadata": {},
   "outputs": [
    {
     "output_type": "execute_result",
     "data": {
      "text/plain": [
       "       income_total  total_income/famliy_size         adult\n",
       "count  34823.000000              34823.000000  34823.000000\n",
       "mean       0.199265                  0.066308      1.767912\n",
       "std        0.456867                  0.157829      0.422579\n",
       "min        0.000000                  0.000000     -0.000000\n",
       "25%        0.000000                  0.000000      2.000000\n",
       "50%        0.000000                  0.000000      2.000000\n",
       "75%        0.000000                  0.000000      2.000000\n",
       "max        6.000000                  2.000000      2.000000"
      ],
      "text/html": "<div>\n<style scoped>\n    .dataframe tbody tr th:only-of-type {\n        vertical-align: middle;\n    }\n\n    .dataframe tbody tr th {\n        vertical-align: top;\n    }\n\n    .dataframe thead th {\n        text-align: right;\n    }\n</style>\n<table border=\"1\" class=\"dataframe\">\n  <thead>\n    <tr style=\"text-align: right;\">\n      <th></th>\n      <th>income_total</th>\n      <th>total_income/famliy_size</th>\n      <th>adult</th>\n    </tr>\n  </thead>\n  <tbody>\n    <tr>\n      <th>count</th>\n      <td>34823.000000</td>\n      <td>34823.000000</td>\n      <td>34823.000000</td>\n    </tr>\n    <tr>\n      <th>mean</th>\n      <td>0.199265</td>\n      <td>0.066308</td>\n      <td>1.767912</td>\n    </tr>\n    <tr>\n      <th>std</th>\n      <td>0.456867</td>\n      <td>0.157829</td>\n      <td>0.422579</td>\n    </tr>\n    <tr>\n      <th>min</th>\n      <td>0.000000</td>\n      <td>0.000000</td>\n      <td>-0.000000</td>\n    </tr>\n    <tr>\n      <th>25%</th>\n      <td>0.000000</td>\n      <td>0.000000</td>\n      <td>2.000000</td>\n    </tr>\n    <tr>\n      <th>50%</th>\n      <td>0.000000</td>\n      <td>0.000000</td>\n      <td>2.000000</td>\n    </tr>\n    <tr>\n      <th>75%</th>\n      <td>0.000000</td>\n      <td>0.000000</td>\n      <td>2.000000</td>\n    </tr>\n    <tr>\n      <th>max</th>\n      <td>6.000000</td>\n      <td>2.000000</td>\n      <td>2.000000</td>\n    </tr>\n  </tbody>\n</table>\n</div>"
     },
     "metadata": {},
     "execution_count": 58
    }
   ],
   "source": [
    "counts, bin_dividers = np.histogram(data['income_total'], bins=7)\n",
    "data['income_total'] = pd.factorize(pd.cut(data['income_total'], bins = bin_dividers, include_lowest=True, labels=[0,1,2,3,4,5,6]))[0] \n",
    "data['total_income/famliy_size'] = data['income_total']/(data['family_size']+1)\n",
    "data['adult'] = data['family_size'] - data['child_num']\n",
    "data['adult'] = data['adult'].apply(lambda x : x if x > 0.0 else -x)\n",
    "data['total_income/adult'] = data['income_total'] / (data['adult'] + 1)\n",
    "data[[\"income_total\", \"total_income/famliy_size\", \"adult\"]].describe(include='all')"
   ]
  },
  {
   "source": [
    "### DAYS_BIRTH, DAYS_EMPLOYED, begin_month 처리"
   ],
   "cell_type": "markdown",
   "metadata": {}
  },
  {
   "cell_type": "code",
   "execution_count": 59,
   "metadata": {},
   "outputs": [
    {
     "output_type": "execute_result",
     "data": {
      "text/plain": [
       "array(['Commercial associate', 'Working', 'State servant', 'Pensioner',\n",
       "       'Student'], dtype=object)"
      ]
     },
     "metadata": {},
     "execution_count": 59
    }
   ],
   "source": [
    "data[\"DAYS_EMPLOYED\"] = -data[\"DAYS_EMPLOYED\"]\n",
    "data['DAYS_EMPLOYED'] = data['DAYS_EMPLOYED'].apply(lambda x : x if x > 0.0 else -x)\n",
    "data[\"DAYS_BIRTH\"] = -data[\"DAYS_BIRTH\"]\n",
    "data[\"begin_month\"] = -data[\"begin_month\"]\n",
    "data[[\"DAYS_EMPLOYED\", \"DAYS_BIRTH\", \"begin_month\"]].describe(include=\"all\")\n",
    "\n",
    "data[\"income_type\"].unique()"
   ]
  },
  {
   "source": [
    "### credit card 발급일 관련\n",
    "1. when_begin_age = begin_month / Days_birth --> 나이대 대비 얼마쯤에 발급한 것인지\n",
    "2. when_begin_employed = begin_month / Employed --> 고용된 것 대비 얼마만에 발급한 것인지\n",
    "3. begin_income = begin_month / incometotal--> 버는 것 대비 빌린거는 얼마나 되었는지 --> 좀 이상하긴하네..\n",
    "* 음.. 전처리부분이 고려가 안되어서 그거 고려해서 생각해야할 듯 함 일단 늘리기만 하기 오늘은 (employed - 3만 얼마인가 있음)\n",
    "* 그리고 얘들은 구간을 나눠서 대표값으로 처리해버리면 더 안좋아질 수도 있을 것 같긴함"
   ],
   "cell_type": "markdown",
   "metadata": {}
  },
  {
   "cell_type": "code",
   "execution_count": 60,
   "metadata": {},
   "outputs": [
    {
     "output_type": "execute_result",
     "data": {
      "text/plain": [
       "       when_begin_age  when_begin_employed  begin_income\n",
       "count    34823.000000         34823.000000  34823.000000\n",
       "mean         0.001736             0.021616     23.640757\n",
       "std          0.001188             0.046126     16.166102\n",
       "min         -0.000000            -0.000000     -0.000000\n",
       "25%          0.000753             0.002131     10.000000\n",
       "50%          0.001557             0.008427     21.000000\n",
       "75%          0.002514             0.020049     36.000000\n",
       "max          0.006404             0.756757     60.000000"
      ],
      "text/html": "<div>\n<style scoped>\n    .dataframe tbody tr th:only-of-type {\n        vertical-align: middle;\n    }\n\n    .dataframe tbody tr th {\n        vertical-align: top;\n    }\n\n    .dataframe thead th {\n        text-align: right;\n    }\n</style>\n<table border=\"1\" class=\"dataframe\">\n  <thead>\n    <tr style=\"text-align: right;\">\n      <th></th>\n      <th>when_begin_age</th>\n      <th>when_begin_employed</th>\n      <th>begin_income</th>\n    </tr>\n  </thead>\n  <tbody>\n    <tr>\n      <th>count</th>\n      <td>34823.000000</td>\n      <td>34823.000000</td>\n      <td>34823.000000</td>\n    </tr>\n    <tr>\n      <th>mean</th>\n      <td>0.001736</td>\n      <td>0.021616</td>\n      <td>23.640757</td>\n    </tr>\n    <tr>\n      <th>std</th>\n      <td>0.001188</td>\n      <td>0.046126</td>\n      <td>16.166102</td>\n    </tr>\n    <tr>\n      <th>min</th>\n      <td>-0.000000</td>\n      <td>-0.000000</td>\n      <td>-0.000000</td>\n    </tr>\n    <tr>\n      <th>25%</th>\n      <td>0.000753</td>\n      <td>0.002131</td>\n      <td>10.000000</td>\n    </tr>\n    <tr>\n      <th>50%</th>\n      <td>0.001557</td>\n      <td>0.008427</td>\n      <td>21.000000</td>\n    </tr>\n    <tr>\n      <th>75%</th>\n      <td>0.002514</td>\n      <td>0.020049</td>\n      <td>36.000000</td>\n    </tr>\n    <tr>\n      <th>max</th>\n      <td>0.006404</td>\n      <td>0.756757</td>\n      <td>60.000000</td>\n    </tr>\n  </tbody>\n</table>\n</div>"
     },
     "metadata": {},
     "execution_count": 60
    }
   ],
   "source": [
    "data['when_begin_age'] = data['begin_month'] / (data['DAYS_BIRTH'] + 1)\n",
    "data['when_begin_employed'] = data['begin_month'] / (data['DAYS_EMPLOYED'] + 1)\n",
    "data['begin_income'] = data['begin_month'] / (data['income_total'] + 1)\n",
    "data[[\"when_begin_age\", \"when_begin_employed\", \"begin_income\"]].describe(include=\"all\")"
   ]
  },
  {
   "source": [
    "### 나이 관련\n",
    "전처리에서 구간별로 나눠진 나이를 활용하면 아래의 적용이 힘들 것 같고 아래의 식은 기존의 컬럼 활용 구간별로 적용은 따로 한개 더 만드는게 좋을 듯 1. age_income = income_total / DAYS_BIRTH --> 나이대비 얼마나 버는지 2. age_employed = DAYS_EMPLOYED / DAYS_BIRTH --> 일한지는 살아생전에 얼만마 대는지? 3. DAYS_BIRTH / 365 --> 나이 연률화"
   ],
   "cell_type": "markdown",
   "metadata": {}
  },
  {
   "cell_type": "code",
   "execution_count": 61,
   "metadata": {},
   "outputs": [
    {
     "output_type": "execute_result",
     "data": {
      "text/plain": [
       "         income_age  employed_age    yearly_age\n",
       "count  34823.000000  34823.000000  34823.000000\n",
       "mean       0.000013      3.002016     43.248571\n",
       "std        0.000032      6.344389     11.516792\n",
       "min        0.000000      0.001239     20.000000\n",
       "25%        0.000000      0.084206     34.000000\n",
       "50%        0.000000      0.179396     42.000000\n",
       "75%        0.000000      0.377240     53.000000\n",
       "max        0.000493     44.837098     68.000000"
      ],
      "text/html": "<div>\n<style scoped>\n    .dataframe tbody tr th:only-of-type {\n        vertical-align: middle;\n    }\n\n    .dataframe tbody tr th {\n        vertical-align: top;\n    }\n\n    .dataframe thead th {\n        text-align: right;\n    }\n</style>\n<table border=\"1\" class=\"dataframe\">\n  <thead>\n    <tr style=\"text-align: right;\">\n      <th></th>\n      <th>income_age</th>\n      <th>employed_age</th>\n      <th>yearly_age</th>\n    </tr>\n  </thead>\n  <tbody>\n    <tr>\n      <th>count</th>\n      <td>34823.000000</td>\n      <td>34823.000000</td>\n      <td>34823.000000</td>\n    </tr>\n    <tr>\n      <th>mean</th>\n      <td>0.000013</td>\n      <td>3.002016</td>\n      <td>43.248571</td>\n    </tr>\n    <tr>\n      <th>std</th>\n      <td>0.000032</td>\n      <td>6.344389</td>\n      <td>11.516792</td>\n    </tr>\n    <tr>\n      <th>min</th>\n      <td>0.000000</td>\n      <td>0.001239</td>\n      <td>20.000000</td>\n    </tr>\n    <tr>\n      <th>25%</th>\n      <td>0.000000</td>\n      <td>0.084206</td>\n      <td>34.000000</td>\n    </tr>\n    <tr>\n      <th>50%</th>\n      <td>0.000000</td>\n      <td>0.179396</td>\n      <td>42.000000</td>\n    </tr>\n    <tr>\n      <th>75%</th>\n      <td>0.000000</td>\n      <td>0.377240</td>\n      <td>53.000000</td>\n    </tr>\n    <tr>\n      <th>max</th>\n      <td>0.000493</td>\n      <td>44.837098</td>\n      <td>68.000000</td>\n    </tr>\n  </tbody>\n</table>\n</div>"
     },
     "metadata": {},
     "execution_count": 61
    }
   ],
   "source": [
    "data['income_age'] = data['income_total'] / (data['DAYS_BIRTH'] + 1)\n",
    "data['employed_age'] = data['DAYS_EMPLOYED'] / (data['DAYS_BIRTH'] + 1)\n",
    "data['yearly_age'] = data['DAYS_BIRTH'] // 365 \n",
    "data[[\"income_age\", \"employed_age\", \"yearly_age\"]].describe(include='all')"
   ]
  },
  {
   "source": [
    "### 고용 관련\n",
    "전처리 부분에서 0,1로 고용유무로 구분하는 컬럼하나와 그냥 두는 컬럼 2개다 활용하는 것이 좋은 듯 함 고용기간 별구간나누는 것 까지는 잘 모르겠음 1. income_total / employed --> 고용된 것 대비 얼마나 버는지 2. DAYS_EMPLOYED /365 연률화"
   ],
   "cell_type": "markdown",
   "metadata": {}
  },
  {
   "cell_type": "code",
   "execution_count": 62,
   "metadata": {},
   "outputs": [
    {
     "output_type": "execute_result",
     "data": {
      "text/plain": [
       "       income_employed  yearly_employed\n",
       "count     34823.000000     34823.000000\n",
       "mean          0.000169       174.008500\n",
       "std           0.000741       371.742072\n",
       "min           0.000000         0.000000\n",
       "25%           0.000000         3.000000\n",
       "50%           0.000000         6.000000\n",
       "75%           0.000000        15.000000\n",
       "max           0.027778      1000.000000"
      ],
      "text/html": "<div>\n<style scoped>\n    .dataframe tbody tr th:only-of-type {\n        vertical-align: middle;\n    }\n\n    .dataframe tbody tr th {\n        vertical-align: top;\n    }\n\n    .dataframe thead th {\n        text-align: right;\n    }\n</style>\n<table border=\"1\" class=\"dataframe\">\n  <thead>\n    <tr style=\"text-align: right;\">\n      <th></th>\n      <th>income_employed</th>\n      <th>yearly_employed</th>\n    </tr>\n  </thead>\n  <tbody>\n    <tr>\n      <th>count</th>\n      <td>34823.000000</td>\n      <td>34823.000000</td>\n    </tr>\n    <tr>\n      <th>mean</th>\n      <td>0.000169</td>\n      <td>174.008500</td>\n    </tr>\n    <tr>\n      <th>std</th>\n      <td>0.000741</td>\n      <td>371.742072</td>\n    </tr>\n    <tr>\n      <th>min</th>\n      <td>0.000000</td>\n      <td>0.000000</td>\n    </tr>\n    <tr>\n      <th>25%</th>\n      <td>0.000000</td>\n      <td>3.000000</td>\n    </tr>\n    <tr>\n      <th>50%</th>\n      <td>0.000000</td>\n      <td>6.000000</td>\n    </tr>\n    <tr>\n      <th>75%</th>\n      <td>0.000000</td>\n      <td>15.000000</td>\n    </tr>\n    <tr>\n      <th>max</th>\n      <td>0.027778</td>\n      <td>1000.000000</td>\n    </tr>\n  </tbody>\n</table>\n</div>"
     },
     "metadata": {},
     "execution_count": 62
    }
   ],
   "source": [
    "data['income_employed'] = data['income_total'] / (data['DAYS_EMPLOYED'] + 1)\n",
    "data['yearly_employed'] = data['DAYS_EMPLOYED'] // 365\n",
    "data[[\"income_employed\", \"yearly_employed\"]].describe(include='all')"
   ]
  },
  {
   "source": [
    "### AND 연산 뻥튀기\n",
    "1. 차와 집 동시 소유 - 전처리에서 Y =1 N =0 으로 전처리 필요\n",
    "2. 이메일과 전화 동시 소유 -> 그래도 가지고 있는애들이 소득이 조금 높아보이긴 하기 떄문에 활용"
   ],
   "cell_type": "markdown",
   "metadata": {}
  },
  {
   "cell_type": "code",
   "execution_count": 63,
   "metadata": {},
   "outputs": [
    {
     "output_type": "execute_result",
     "data": {
      "text/plain": [
       "           car&home   email&phone\n",
       "count  34823.000000  34823.000000\n",
       "mean       0.251587      0.027769\n",
       "std        0.433931      0.164313\n",
       "min        0.000000      0.000000\n",
       "25%        0.000000      0.000000\n",
       "50%        0.000000      0.000000\n",
       "75%        1.000000      0.000000\n",
       "max        1.000000      1.000000"
      ],
      "text/html": "<div>\n<style scoped>\n    .dataframe tbody tr th:only-of-type {\n        vertical-align: middle;\n    }\n\n    .dataframe tbody tr th {\n        vertical-align: top;\n    }\n\n    .dataframe thead th {\n        text-align: right;\n    }\n</style>\n<table border=\"1\" class=\"dataframe\">\n  <thead>\n    <tr style=\"text-align: right;\">\n      <th></th>\n      <th>car&amp;home</th>\n      <th>email&amp;phone</th>\n    </tr>\n  </thead>\n  <tbody>\n    <tr>\n      <th>count</th>\n      <td>34823.000000</td>\n      <td>34823.000000</td>\n    </tr>\n    <tr>\n      <th>mean</th>\n      <td>0.251587</td>\n      <td>0.027769</td>\n    </tr>\n    <tr>\n      <th>std</th>\n      <td>0.433931</td>\n      <td>0.164313</td>\n    </tr>\n    <tr>\n      <th>min</th>\n      <td>0.000000</td>\n      <td>0.000000</td>\n    </tr>\n    <tr>\n      <th>25%</th>\n      <td>0.000000</td>\n      <td>0.000000</td>\n    </tr>\n    <tr>\n      <th>50%</th>\n      <td>0.000000</td>\n      <td>0.000000</td>\n    </tr>\n    <tr>\n      <th>75%</th>\n      <td>1.000000</td>\n      <td>0.000000</td>\n    </tr>\n    <tr>\n      <th>max</th>\n      <td>1.000000</td>\n      <td>1.000000</td>\n    </tr>\n  </tbody>\n</table>\n</div>"
     },
     "metadata": {},
     "execution_count": 63
    }
   ],
   "source": [
    "data['gender'] = data['gender'].replace(['F','M'], [0, 1])\n",
    "data['car'] = data['car'].replace(['N', 'Y'], [0, 1])\n",
    "data['reality'] = data['reality'].replace(['N', 'Y'], [0,1])\n",
    "data['car&home'] = data['car'] * data['reality']\n",
    "data['email&phone'] = data['email'] * data['phone']\n",
    "data[[\"car&home\", \"email&phone\"]].describe(include='all')"
   ]
  },
  {
   "source": [
    "### 총소득 관련\n",
    "1. total_earned_money = income_total x (DAYS_EMPLOYED / 365) --> 이떄까지 번 것, DAYS_EMPLOYED가 양수로 바뀔 필요있을 것 같음\n",
    "2. total/family = total_earned_money / family_num\n",
    "3. total/age = total_earned_money / DAYS_BIRTH --> 나이대비 이때까지 얼마 벌었는지\n",
    "4. log(income_total) --> 소득의 비선형성 고려"
   ],
   "cell_type": "markdown",
   "metadata": {}
  },
  {
   "cell_type": "code",
   "execution_count": 64,
   "metadata": {},
   "outputs": [
    {
     "output_type": "execute_result",
     "data": {
      "text/plain": [
       "       total_earned_money  total/family     total/age    log_income\n",
       "count        34823.000000  34823.000000  34823.000000  34823.000000\n",
       "mean            16.099133      5.965170      0.000795      0.132148\n",
       "std            127.995360     50.197684      0.006164      0.287665\n",
       "min              0.000000      0.000000      0.000000      0.000000\n",
       "25%              0.000000      0.000000      0.000000      0.000000\n",
       "50%              0.000000      0.000000      0.000000      0.000000\n",
       "75%              0.000000      0.000000      0.000000      0.000000\n",
       "max           3001.997260   1500.998630      0.137751      1.945910"
      ],
      "text/html": "<div>\n<style scoped>\n    .dataframe tbody tr th:only-of-type {\n        vertical-align: middle;\n    }\n\n    .dataframe tbody tr th {\n        vertical-align: top;\n    }\n\n    .dataframe thead th {\n        text-align: right;\n    }\n</style>\n<table border=\"1\" class=\"dataframe\">\n  <thead>\n    <tr style=\"text-align: right;\">\n      <th></th>\n      <th>total_earned_money</th>\n      <th>total/family</th>\n      <th>total/age</th>\n      <th>log_income</th>\n    </tr>\n  </thead>\n  <tbody>\n    <tr>\n      <th>count</th>\n      <td>34823.000000</td>\n      <td>34823.000000</td>\n      <td>34823.000000</td>\n      <td>34823.000000</td>\n    </tr>\n    <tr>\n      <th>mean</th>\n      <td>16.099133</td>\n      <td>5.965170</td>\n      <td>0.000795</td>\n      <td>0.132148</td>\n    </tr>\n    <tr>\n      <th>std</th>\n      <td>127.995360</td>\n      <td>50.197684</td>\n      <td>0.006164</td>\n      <td>0.287665</td>\n    </tr>\n    <tr>\n      <th>min</th>\n      <td>0.000000</td>\n      <td>0.000000</td>\n      <td>0.000000</td>\n      <td>0.000000</td>\n    </tr>\n    <tr>\n      <th>25%</th>\n      <td>0.000000</td>\n      <td>0.000000</td>\n      <td>0.000000</td>\n      <td>0.000000</td>\n    </tr>\n    <tr>\n      <th>50%</th>\n      <td>0.000000</td>\n      <td>0.000000</td>\n      <td>0.000000</td>\n      <td>0.000000</td>\n    </tr>\n    <tr>\n      <th>75%</th>\n      <td>0.000000</td>\n      <td>0.000000</td>\n      <td>0.000000</td>\n      <td>0.000000</td>\n    </tr>\n    <tr>\n      <th>max</th>\n      <td>3001.997260</td>\n      <td>1500.998630</td>\n      <td>0.137751</td>\n      <td>1.945910</td>\n    </tr>\n  </tbody>\n</table>\n</div>"
     },
     "metadata": {},
     "execution_count": 64
    }
   ],
   "source": [
    "data['total_earned_money'] = data['income_total'] * (data['DAYS_EMPLOYED'] / 365)\n",
    "data['total/family'] = data['total_earned_money'] / (data['family_size'] + 1)\n",
    "data['total/age'] = data['total_earned_money'] / (data['DAYS_BIRTH'] + 1)\n",
    "data['log_income'] = np.log(data['income_total'] + 1)\n",
    "data[[\"total_earned_money\", \"total/family\", \"total/age\", \"log_income\"]].describe(include='all')"
   ]
  },
  {
   "source": [
    "# Data Preprocessing"
   ],
   "cell_type": "markdown",
   "metadata": {}
  },
  {
   "cell_type": "code",
   "execution_count": 65,
   "metadata": {},
   "outputs": [],
   "source": [
    "train=data[:len(data)-10000]\n",
    "test=data[len(data)-10000:]\n",
    "train_x = train.drop(\"credit\", axis = 1)\n",
    "train_y = train['credit']\n",
    "test=test.drop('credit', axis=1)"
   ]
  },
  {
   "cell_type": "code",
   "execution_count": 66,
   "metadata": {},
   "outputs": [
    {
     "output_type": "execute_result",
     "data": {
      "text/plain": [
       "              gender           car       reality     child_num  income_total  \\\n",
       "count   24823.000000  24823.000000  24823.000000  24823.000000  24823.000000   \n",
       "unique           NaN           NaN           NaN           NaN           NaN   \n",
       "top              NaN           NaN           NaN           NaN           NaN   \n",
       "freq             NaN           NaN           NaN           NaN           NaN   \n",
       "mean        0.331346      0.379487      0.672723      0.431052      0.201587   \n",
       "std         0.470707      0.485269      0.469229      0.750627      0.457582   \n",
       "min         0.000000      0.000000      0.000000      0.000000      0.000000   \n",
       "25%         0.000000      0.000000      0.000000      0.000000      0.000000   \n",
       "50%         0.000000      0.000000      1.000000      0.000000      0.000000   \n",
       "75%         1.000000      1.000000      1.000000      1.000000      0.000000   \n",
       "max         1.000000      1.000000      1.000000     19.000000      6.000000   \n",
       "\n",
       "       income_type                       edu_type family_type  \\\n",
       "count        24823                          24823       24823   \n",
       "unique           5                              5           5   \n",
       "top        Working  Secondary / secondary special     Married   \n",
       "freq         12787                          16872       17059   \n",
       "mean           NaN                            NaN         NaN   \n",
       "std            NaN                            NaN         NaN   \n",
       "min            NaN                            NaN         NaN   \n",
       "25%            NaN                            NaN         NaN   \n",
       "50%            NaN                            NaN         NaN   \n",
       "75%            NaN                            NaN         NaN   \n",
       "max            NaN                            NaN         NaN   \n",
       "\n",
       "               house_type   DAYS_BIRTH  ...  employed_age    yearly_age  \\\n",
       "count               24823  24823.00000  ...  24823.000000  24823.000000   \n",
       "unique                  6          NaN  ...           NaN           NaN   \n",
       "top     House / apartment          NaN  ...           NaN           NaN   \n",
       "freq                22170          NaN  ...           NaN           NaN   \n",
       "mean                  NaN  15950.93647  ...      2.992024     43.193893   \n",
       "std                   NaN   4204.79398  ...      6.331864     11.522661   \n",
       "min                   NaN   7705.00000  ...      0.001239     21.000000   \n",
       "25%                   NaN  12443.00000  ...      0.082736     34.000000   \n",
       "50%                   NaN  15534.00000  ...      0.179236     42.000000   \n",
       "75%                   NaN  19426.00000  ...      0.375050     53.000000   \n",
       "max                   NaN  25152.00000  ...     44.837098     68.000000   \n",
       "\n",
       "        income_employed  yearly_employed      car&home   email&phone  \\\n",
       "count      24823.000000     24823.000000  24823.000000  24823.000000   \n",
       "unique              NaN              NaN           NaN           NaN   \n",
       "top                 NaN              NaN           NaN           NaN   \n",
       "freq                NaN              NaN           NaN           NaN   \n",
       "mean           0.000172       173.476937      0.251903      0.028482   \n",
       "std            0.000758       371.285055      0.434115      0.166348   \n",
       "min            0.000000         0.000000      0.000000      0.000000   \n",
       "25%            0.000000         3.000000      0.000000      0.000000   \n",
       "50%            0.000000         6.000000      0.000000      0.000000   \n",
       "75%            0.000000        15.000000      1.000000      0.000000   \n",
       "max            0.027778      1000.000000      1.000000      1.000000   \n",
       "\n",
       "        total_earned_money  total/family     total/age    log_income  \n",
       "count         24823.000000  24823.000000  24823.000000  24823.000000  \n",
       "unique                 NaN           NaN           NaN           NaN  \n",
       "top                    NaN           NaN           NaN           NaN  \n",
       "freq                   NaN           NaN           NaN           NaN  \n",
       "mean             16.870871      6.316066      0.000831      0.133777  \n",
       "std             131.624593     52.344221      0.006335      0.288893  \n",
       "min               0.000000      0.000000      0.000000      0.000000  \n",
       "25%               0.000000      0.000000      0.000000      0.000000  \n",
       "50%               0.000000      0.000000      0.000000      0.000000  \n",
       "75%               0.000000      0.000000      0.000000      0.000000  \n",
       "max            3001.997260   1500.998630      0.137751      1.945910  \n",
       "\n",
       "[11 rows x 34 columns]"
      ],
      "text/html": "<div>\n<style scoped>\n    .dataframe tbody tr th:only-of-type {\n        vertical-align: middle;\n    }\n\n    .dataframe tbody tr th {\n        vertical-align: top;\n    }\n\n    .dataframe thead th {\n        text-align: right;\n    }\n</style>\n<table border=\"1\" class=\"dataframe\">\n  <thead>\n    <tr style=\"text-align: right;\">\n      <th></th>\n      <th>gender</th>\n      <th>car</th>\n      <th>reality</th>\n      <th>child_num</th>\n      <th>income_total</th>\n      <th>income_type</th>\n      <th>edu_type</th>\n      <th>family_type</th>\n      <th>house_type</th>\n      <th>DAYS_BIRTH</th>\n      <th>...</th>\n      <th>employed_age</th>\n      <th>yearly_age</th>\n      <th>income_employed</th>\n      <th>yearly_employed</th>\n      <th>car&amp;home</th>\n      <th>email&amp;phone</th>\n      <th>total_earned_money</th>\n      <th>total/family</th>\n      <th>total/age</th>\n      <th>log_income</th>\n    </tr>\n  </thead>\n  <tbody>\n    <tr>\n      <th>count</th>\n      <td>24823.000000</td>\n      <td>24823.000000</td>\n      <td>24823.000000</td>\n      <td>24823.000000</td>\n      <td>24823.000000</td>\n      <td>24823</td>\n      <td>24823</td>\n      <td>24823</td>\n      <td>24823</td>\n      <td>24823.00000</td>\n      <td>...</td>\n      <td>24823.000000</td>\n      <td>24823.000000</td>\n      <td>24823.000000</td>\n      <td>24823.000000</td>\n      <td>24823.000000</td>\n      <td>24823.000000</td>\n      <td>24823.000000</td>\n      <td>24823.000000</td>\n      <td>24823.000000</td>\n      <td>24823.000000</td>\n    </tr>\n    <tr>\n      <th>unique</th>\n      <td>NaN</td>\n      <td>NaN</td>\n      <td>NaN</td>\n      <td>NaN</td>\n      <td>NaN</td>\n      <td>5</td>\n      <td>5</td>\n      <td>5</td>\n      <td>6</td>\n      <td>NaN</td>\n      <td>...</td>\n      <td>NaN</td>\n      <td>NaN</td>\n      <td>NaN</td>\n      <td>NaN</td>\n      <td>NaN</td>\n      <td>NaN</td>\n      <td>NaN</td>\n      <td>NaN</td>\n      <td>NaN</td>\n      <td>NaN</td>\n    </tr>\n    <tr>\n      <th>top</th>\n      <td>NaN</td>\n      <td>NaN</td>\n      <td>NaN</td>\n      <td>NaN</td>\n      <td>NaN</td>\n      <td>Working</td>\n      <td>Secondary / secondary special</td>\n      <td>Married</td>\n      <td>House / apartment</td>\n      <td>NaN</td>\n      <td>...</td>\n      <td>NaN</td>\n      <td>NaN</td>\n      <td>NaN</td>\n      <td>NaN</td>\n      <td>NaN</td>\n      <td>NaN</td>\n      <td>NaN</td>\n      <td>NaN</td>\n      <td>NaN</td>\n      <td>NaN</td>\n    </tr>\n    <tr>\n      <th>freq</th>\n      <td>NaN</td>\n      <td>NaN</td>\n      <td>NaN</td>\n      <td>NaN</td>\n      <td>NaN</td>\n      <td>12787</td>\n      <td>16872</td>\n      <td>17059</td>\n      <td>22170</td>\n      <td>NaN</td>\n      <td>...</td>\n      <td>NaN</td>\n      <td>NaN</td>\n      <td>NaN</td>\n      <td>NaN</td>\n      <td>NaN</td>\n      <td>NaN</td>\n      <td>NaN</td>\n      <td>NaN</td>\n      <td>NaN</td>\n      <td>NaN</td>\n    </tr>\n    <tr>\n      <th>mean</th>\n      <td>0.331346</td>\n      <td>0.379487</td>\n      <td>0.672723</td>\n      <td>0.431052</td>\n      <td>0.201587</td>\n      <td>NaN</td>\n      <td>NaN</td>\n      <td>NaN</td>\n      <td>NaN</td>\n      <td>15950.93647</td>\n      <td>...</td>\n      <td>2.992024</td>\n      <td>43.193893</td>\n      <td>0.000172</td>\n      <td>173.476937</td>\n      <td>0.251903</td>\n      <td>0.028482</td>\n      <td>16.870871</td>\n      <td>6.316066</td>\n      <td>0.000831</td>\n      <td>0.133777</td>\n    </tr>\n    <tr>\n      <th>std</th>\n      <td>0.470707</td>\n      <td>0.485269</td>\n      <td>0.469229</td>\n      <td>0.750627</td>\n      <td>0.457582</td>\n      <td>NaN</td>\n      <td>NaN</td>\n      <td>NaN</td>\n      <td>NaN</td>\n      <td>4204.79398</td>\n      <td>...</td>\n      <td>6.331864</td>\n      <td>11.522661</td>\n      <td>0.000758</td>\n      <td>371.285055</td>\n      <td>0.434115</td>\n      <td>0.166348</td>\n      <td>131.624593</td>\n      <td>52.344221</td>\n      <td>0.006335</td>\n      <td>0.288893</td>\n    </tr>\n    <tr>\n      <th>min</th>\n      <td>0.000000</td>\n      <td>0.000000</td>\n      <td>0.000000</td>\n      <td>0.000000</td>\n      <td>0.000000</td>\n      <td>NaN</td>\n      <td>NaN</td>\n      <td>NaN</td>\n      <td>NaN</td>\n      <td>7705.00000</td>\n      <td>...</td>\n      <td>0.001239</td>\n      <td>21.000000</td>\n      <td>0.000000</td>\n      <td>0.000000</td>\n      <td>0.000000</td>\n      <td>0.000000</td>\n      <td>0.000000</td>\n      <td>0.000000</td>\n      <td>0.000000</td>\n      <td>0.000000</td>\n    </tr>\n    <tr>\n      <th>25%</th>\n      <td>0.000000</td>\n      <td>0.000000</td>\n      <td>0.000000</td>\n      <td>0.000000</td>\n      <td>0.000000</td>\n      <td>NaN</td>\n      <td>NaN</td>\n      <td>NaN</td>\n      <td>NaN</td>\n      <td>12443.00000</td>\n      <td>...</td>\n      <td>0.082736</td>\n      <td>34.000000</td>\n      <td>0.000000</td>\n      <td>3.000000</td>\n      <td>0.000000</td>\n      <td>0.000000</td>\n      <td>0.000000</td>\n      <td>0.000000</td>\n      <td>0.000000</td>\n      <td>0.000000</td>\n    </tr>\n    <tr>\n      <th>50%</th>\n      <td>0.000000</td>\n      <td>0.000000</td>\n      <td>1.000000</td>\n      <td>0.000000</td>\n      <td>0.000000</td>\n      <td>NaN</td>\n      <td>NaN</td>\n      <td>NaN</td>\n      <td>NaN</td>\n      <td>15534.00000</td>\n      <td>...</td>\n      <td>0.179236</td>\n      <td>42.000000</td>\n      <td>0.000000</td>\n      <td>6.000000</td>\n      <td>0.000000</td>\n      <td>0.000000</td>\n      <td>0.000000</td>\n      <td>0.000000</td>\n      <td>0.000000</td>\n      <td>0.000000</td>\n    </tr>\n    <tr>\n      <th>75%</th>\n      <td>1.000000</td>\n      <td>1.000000</td>\n      <td>1.000000</td>\n      <td>1.000000</td>\n      <td>0.000000</td>\n      <td>NaN</td>\n      <td>NaN</td>\n      <td>NaN</td>\n      <td>NaN</td>\n      <td>19426.00000</td>\n      <td>...</td>\n      <td>0.375050</td>\n      <td>53.000000</td>\n      <td>0.000000</td>\n      <td>15.000000</td>\n      <td>1.000000</td>\n      <td>0.000000</td>\n      <td>0.000000</td>\n      <td>0.000000</td>\n      <td>0.000000</td>\n      <td>0.000000</td>\n    </tr>\n    <tr>\n      <th>max</th>\n      <td>1.000000</td>\n      <td>1.000000</td>\n      <td>1.000000</td>\n      <td>19.000000</td>\n      <td>6.000000</td>\n      <td>NaN</td>\n      <td>NaN</td>\n      <td>NaN</td>\n      <td>NaN</td>\n      <td>25152.00000</td>\n      <td>...</td>\n      <td>44.837098</td>\n      <td>68.000000</td>\n      <td>0.027778</td>\n      <td>1000.000000</td>\n      <td>1.000000</td>\n      <td>1.000000</td>\n      <td>3001.997260</td>\n      <td>1500.998630</td>\n      <td>0.137751</td>\n      <td>1.945910</td>\n    </tr>\n  </tbody>\n</table>\n<p>11 rows × 34 columns</p>\n</div>"
     },
     "metadata": {},
     "execution_count": 66
    }
   ],
   "source": [
    "# Before preprocessing\n",
    "train_x.describe(include='all')"
   ]
  },
  {
   "cell_type": "code",
   "execution_count": 67,
   "metadata": {},
   "outputs": [
    {
     "output_type": "stream",
     "name": "stdout",
     "text": [
      "gender 2\n",
      "car 2\n",
      "reality 2\n",
      "child_num 9\n",
      "income_total 7\n",
      "income_type 5\n",
      "edu_type 5\n",
      "family_type 5\n",
      "house_type 6\n",
      "work_phone 2\n",
      "phone 2\n",
      "email 2\n",
      "occyp_type 19\n",
      "family_size 10\n",
      "begin_month 61\n",
      "total_income/famliy_size 18\n",
      "adult 3\n",
      "total_income/adult 9\n",
      "begin_income 159\n",
      "Column begin_income does not exist in test set\n",
      "yearly_age 48\n",
      "Column yearly_age does not exist in test set\n",
      "yearly_employed 45\n",
      "car&home 2\n",
      "email&phone 2\n",
      "log_income 7\n",
      "C:\\Users\\sinji\\AppData\\Local\\Programs\\Python\\Python39\\lib\\site-packages\\pandas\\core\\frame.py:4462: SettingWithCopyWarning: \n",
      "A value is trying to be set on a copy of a slice from a DataFrame\n",
      "\n",
      "See the caveats in the documentation: https://pandas.pydata.org/pandas-docs/stable/user_guide/indexing.html#returning-a-view-versus-a-copy\n",
      "  return super().fillna(\n"
     ]
    }
   ],
   "source": [
    "from sklearn import preprocessing\n",
    "\n",
    "nunique = train.nunique()\n",
    "types = train.dtypes\n",
    "\n",
    "categorical_columns = []\n",
    "categorical_dims =  {}\n",
    "for col in train_x.columns:\n",
    "    if types[col] == 'object' or nunique[col] < 200:\n",
    "        print(col, train_x[col].nunique())\n",
    "        l_enc = preprocessing.LabelEncoder()\n",
    "        train_x[col] = train_x[col].fillna(\"NaN\")\n",
    "        train_x[col] = l_enc.fit_transform(train_x[col].values)\n",
    "        try:\n",
    "            test[col] = test[col].fillna(\"NaN\")\n",
    "            test[col] = l_enc.transform(test[col].values)\n",
    "        except:\n",
    "            print(f\"Column {col} does not exist in test set\")\n",
    "        categorical_columns.append(col)\n",
    "        categorical_dims[col] = len(l_enc.classes_)\n",
    "    else:\n",
    "        training_mean = train_x.loc[train.index, col].mean()\n",
    "        train.fillna(training_mean, inplace=True)\n",
    "        test.fillna(training_mean, inplace=True)"
   ]
  },
  {
   "cell_type": "code",
   "execution_count": 70,
   "metadata": {},
   "outputs": [
    {
     "output_type": "execute_result",
     "data": {
      "text/plain": [
       "              gender           car       reality     child_num  income_total  \\\n",
       "count   24823.000000  24823.000000  24823.000000  24823.000000  24823.000000   \n",
       "unique           NaN           NaN           NaN           NaN           NaN   \n",
       "top              NaN           NaN           NaN           NaN           NaN   \n",
       "freq             NaN           NaN           NaN           NaN           NaN   \n",
       "mean        0.331346      0.379487      0.672723      0.431052      0.201587   \n",
       "std         0.470707      0.485269      0.469229      0.750627      0.457582   \n",
       "min         0.000000      0.000000      0.000000      0.000000      0.000000   \n",
       "25%         0.000000      0.000000      0.000000      0.000000      0.000000   \n",
       "50%         0.000000      0.000000      1.000000      0.000000      0.000000   \n",
       "75%         1.000000      1.000000      1.000000      1.000000      0.000000   \n",
       "max         1.000000      1.000000      1.000000     19.000000      6.000000   \n",
       "\n",
       "       income_type                       edu_type family_type  \\\n",
       "count        24823                          24823       24823   \n",
       "unique           5                              5           5   \n",
       "top        Working  Secondary / secondary special     Married   \n",
       "freq         12787                          16872       17059   \n",
       "mean           NaN                            NaN         NaN   \n",
       "std            NaN                            NaN         NaN   \n",
       "min            NaN                            NaN         NaN   \n",
       "25%            NaN                            NaN         NaN   \n",
       "50%            NaN                            NaN         NaN   \n",
       "75%            NaN                            NaN         NaN   \n",
       "max            NaN                            NaN         NaN   \n",
       "\n",
       "               house_type   DAYS_BIRTH  ...  employed_age    yearly_age  \\\n",
       "count               24823  24823.00000  ...  24823.000000  24823.000000   \n",
       "unique                  6          NaN  ...           NaN           NaN   \n",
       "top     House / apartment          NaN  ...           NaN           NaN   \n",
       "freq                22170          NaN  ...           NaN           NaN   \n",
       "mean                  NaN  15950.93647  ...      2.992024     43.193893   \n",
       "std                   NaN   4204.79398  ...      6.331864     11.522661   \n",
       "min                   NaN   7705.00000  ...      0.001239     21.000000   \n",
       "25%                   NaN  12443.00000  ...      0.082736     34.000000   \n",
       "50%                   NaN  15534.00000  ...      0.179236     42.000000   \n",
       "75%                   NaN  19426.00000  ...      0.375050     53.000000   \n",
       "max                   NaN  25152.00000  ...     44.837098     68.000000   \n",
       "\n",
       "        income_employed  yearly_employed      car&home   email&phone  \\\n",
       "count      24823.000000     24823.000000  24823.000000  24823.000000   \n",
       "unique              NaN              NaN           NaN           NaN   \n",
       "top                 NaN              NaN           NaN           NaN   \n",
       "freq                NaN              NaN           NaN           NaN   \n",
       "mean           0.000172       173.476937      0.251903      0.028482   \n",
       "std            0.000758       371.285055      0.434115      0.166348   \n",
       "min            0.000000         0.000000      0.000000      0.000000   \n",
       "25%            0.000000         3.000000      0.000000      0.000000   \n",
       "50%            0.000000         6.000000      0.000000      0.000000   \n",
       "75%            0.000000        15.000000      1.000000      0.000000   \n",
       "max            0.027778      1000.000000      1.000000      1.000000   \n",
       "\n",
       "        total_earned_money  total/family     total/age    log_income  \n",
       "count         24823.000000  24823.000000  24823.000000  24823.000000  \n",
       "unique                 NaN           NaN           NaN           NaN  \n",
       "top                    NaN           NaN           NaN           NaN  \n",
       "freq                   NaN           NaN           NaN           NaN  \n",
       "mean             16.870871      6.316066      0.000831      0.133777  \n",
       "std             131.624593     52.344221      0.006335      0.288893  \n",
       "min               0.000000      0.000000      0.000000      0.000000  \n",
       "25%               0.000000      0.000000      0.000000      0.000000  \n",
       "50%               0.000000      0.000000      0.000000      0.000000  \n",
       "75%               0.000000      0.000000      0.000000      0.000000  \n",
       "max            3001.997260   1500.998630      0.137751      1.945910  \n",
       "\n",
       "[11 rows x 35 columns]"
      ],
      "text/html": "<div>\n<style scoped>\n    .dataframe tbody tr th:only-of-type {\n        vertical-align: middle;\n    }\n\n    .dataframe tbody tr th {\n        vertical-align: top;\n    }\n\n    .dataframe thead th {\n        text-align: right;\n    }\n</style>\n<table border=\"1\" class=\"dataframe\">\n  <thead>\n    <tr style=\"text-align: right;\">\n      <th></th>\n      <th>gender</th>\n      <th>car</th>\n      <th>reality</th>\n      <th>child_num</th>\n      <th>income_total</th>\n      <th>income_type</th>\n      <th>edu_type</th>\n      <th>family_type</th>\n      <th>house_type</th>\n      <th>DAYS_BIRTH</th>\n      <th>...</th>\n      <th>employed_age</th>\n      <th>yearly_age</th>\n      <th>income_employed</th>\n      <th>yearly_employed</th>\n      <th>car&amp;home</th>\n      <th>email&amp;phone</th>\n      <th>total_earned_money</th>\n      <th>total/family</th>\n      <th>total/age</th>\n      <th>log_income</th>\n    </tr>\n  </thead>\n  <tbody>\n    <tr>\n      <th>count</th>\n      <td>24823.000000</td>\n      <td>24823.000000</td>\n      <td>24823.000000</td>\n      <td>24823.000000</td>\n      <td>24823.000000</td>\n      <td>24823</td>\n      <td>24823</td>\n      <td>24823</td>\n      <td>24823</td>\n      <td>24823.00000</td>\n      <td>...</td>\n      <td>24823.000000</td>\n      <td>24823.000000</td>\n      <td>24823.000000</td>\n      <td>24823.000000</td>\n      <td>24823.000000</td>\n      <td>24823.000000</td>\n      <td>24823.000000</td>\n      <td>24823.000000</td>\n      <td>24823.000000</td>\n      <td>24823.000000</td>\n    </tr>\n    <tr>\n      <th>unique</th>\n      <td>NaN</td>\n      <td>NaN</td>\n      <td>NaN</td>\n      <td>NaN</td>\n      <td>NaN</td>\n      <td>5</td>\n      <td>5</td>\n      <td>5</td>\n      <td>6</td>\n      <td>NaN</td>\n      <td>...</td>\n      <td>NaN</td>\n      <td>NaN</td>\n      <td>NaN</td>\n      <td>NaN</td>\n      <td>NaN</td>\n      <td>NaN</td>\n      <td>NaN</td>\n      <td>NaN</td>\n      <td>NaN</td>\n      <td>NaN</td>\n    </tr>\n    <tr>\n      <th>top</th>\n      <td>NaN</td>\n      <td>NaN</td>\n      <td>NaN</td>\n      <td>NaN</td>\n      <td>NaN</td>\n      <td>Working</td>\n      <td>Secondary / secondary special</td>\n      <td>Married</td>\n      <td>House / apartment</td>\n      <td>NaN</td>\n      <td>...</td>\n      <td>NaN</td>\n      <td>NaN</td>\n      <td>NaN</td>\n      <td>NaN</td>\n      <td>NaN</td>\n      <td>NaN</td>\n      <td>NaN</td>\n      <td>NaN</td>\n      <td>NaN</td>\n      <td>NaN</td>\n    </tr>\n    <tr>\n      <th>freq</th>\n      <td>NaN</td>\n      <td>NaN</td>\n      <td>NaN</td>\n      <td>NaN</td>\n      <td>NaN</td>\n      <td>12787</td>\n      <td>16872</td>\n      <td>17059</td>\n      <td>22170</td>\n      <td>NaN</td>\n      <td>...</td>\n      <td>NaN</td>\n      <td>NaN</td>\n      <td>NaN</td>\n      <td>NaN</td>\n      <td>NaN</td>\n      <td>NaN</td>\n      <td>NaN</td>\n      <td>NaN</td>\n      <td>NaN</td>\n      <td>NaN</td>\n    </tr>\n    <tr>\n      <th>mean</th>\n      <td>0.331346</td>\n      <td>0.379487</td>\n      <td>0.672723</td>\n      <td>0.431052</td>\n      <td>0.201587</td>\n      <td>NaN</td>\n      <td>NaN</td>\n      <td>NaN</td>\n      <td>NaN</td>\n      <td>15950.93647</td>\n      <td>...</td>\n      <td>2.992024</td>\n      <td>43.193893</td>\n      <td>0.000172</td>\n      <td>173.476937</td>\n      <td>0.251903</td>\n      <td>0.028482</td>\n      <td>16.870871</td>\n      <td>6.316066</td>\n      <td>0.000831</td>\n      <td>0.133777</td>\n    </tr>\n    <tr>\n      <th>std</th>\n      <td>0.470707</td>\n      <td>0.485269</td>\n      <td>0.469229</td>\n      <td>0.750627</td>\n      <td>0.457582</td>\n      <td>NaN</td>\n      <td>NaN</td>\n      <td>NaN</td>\n      <td>NaN</td>\n      <td>4204.79398</td>\n      <td>...</td>\n      <td>6.331864</td>\n      <td>11.522661</td>\n      <td>0.000758</td>\n      <td>371.285055</td>\n      <td>0.434115</td>\n      <td>0.166348</td>\n      <td>131.624593</td>\n      <td>52.344221</td>\n      <td>0.006335</td>\n      <td>0.288893</td>\n    </tr>\n    <tr>\n      <th>min</th>\n      <td>0.000000</td>\n      <td>0.000000</td>\n      <td>0.000000</td>\n      <td>0.000000</td>\n      <td>0.000000</td>\n      <td>NaN</td>\n      <td>NaN</td>\n      <td>NaN</td>\n      <td>NaN</td>\n      <td>7705.00000</td>\n      <td>...</td>\n      <td>0.001239</td>\n      <td>21.000000</td>\n      <td>0.000000</td>\n      <td>0.000000</td>\n      <td>0.000000</td>\n      <td>0.000000</td>\n      <td>0.000000</td>\n      <td>0.000000</td>\n      <td>0.000000</td>\n      <td>0.000000</td>\n    </tr>\n    <tr>\n      <th>25%</th>\n      <td>0.000000</td>\n      <td>0.000000</td>\n      <td>0.000000</td>\n      <td>0.000000</td>\n      <td>0.000000</td>\n      <td>NaN</td>\n      <td>NaN</td>\n      <td>NaN</td>\n      <td>NaN</td>\n      <td>12443.00000</td>\n      <td>...</td>\n      <td>0.082736</td>\n      <td>34.000000</td>\n      <td>0.000000</td>\n      <td>3.000000</td>\n      <td>0.000000</td>\n      <td>0.000000</td>\n      <td>0.000000</td>\n      <td>0.000000</td>\n      <td>0.000000</td>\n      <td>0.000000</td>\n    </tr>\n    <tr>\n      <th>50%</th>\n      <td>0.000000</td>\n      <td>0.000000</td>\n      <td>1.000000</td>\n      <td>0.000000</td>\n      <td>0.000000</td>\n      <td>NaN</td>\n      <td>NaN</td>\n      <td>NaN</td>\n      <td>NaN</td>\n      <td>15534.00000</td>\n      <td>...</td>\n      <td>0.179236</td>\n      <td>42.000000</td>\n      <td>0.000000</td>\n      <td>6.000000</td>\n      <td>0.000000</td>\n      <td>0.000000</td>\n      <td>0.000000</td>\n      <td>0.000000</td>\n      <td>0.000000</td>\n      <td>0.000000</td>\n    </tr>\n    <tr>\n      <th>75%</th>\n      <td>1.000000</td>\n      <td>1.000000</td>\n      <td>1.000000</td>\n      <td>1.000000</td>\n      <td>0.000000</td>\n      <td>NaN</td>\n      <td>NaN</td>\n      <td>NaN</td>\n      <td>NaN</td>\n      <td>19426.00000</td>\n      <td>...</td>\n      <td>0.375050</td>\n      <td>53.000000</td>\n      <td>0.000000</td>\n      <td>15.000000</td>\n      <td>1.000000</td>\n      <td>0.000000</td>\n      <td>0.000000</td>\n      <td>0.000000</td>\n      <td>0.000000</td>\n      <td>0.000000</td>\n    </tr>\n    <tr>\n      <th>max</th>\n      <td>1.000000</td>\n      <td>1.000000</td>\n      <td>1.000000</td>\n      <td>19.000000</td>\n      <td>6.000000</td>\n      <td>NaN</td>\n      <td>NaN</td>\n      <td>NaN</td>\n      <td>NaN</td>\n      <td>25152.00000</td>\n      <td>...</td>\n      <td>44.837098</td>\n      <td>68.000000</td>\n      <td>0.027778</td>\n      <td>1000.000000</td>\n      <td>1.000000</td>\n      <td>1.000000</td>\n      <td>3001.997260</td>\n      <td>1500.998630</td>\n      <td>0.137751</td>\n      <td>1.945910</td>\n    </tr>\n  </tbody>\n</table>\n<p>11 rows × 35 columns</p>\n</div>"
     },
     "metadata": {},
     "execution_count": 70
    }
   ],
   "source": [
    "# After preprocessing\n",
    "train.describe(include='all')"
   ]
  },
  {
   "cell_type": "code",
   "execution_count": 71,
   "metadata": {},
   "outputs": [
    {
     "output_type": "stream",
     "name": "stdout",
     "text": [
      "<class 'pandas.core.frame.DataFrame'>\nInt64Index: 24823 entries, 0 to 26456\nData columns (total 35 columns):\n #   Column                    Non-Null Count  Dtype  \n---  ------                    --------------  -----  \n 0   gender                    24823 non-null  int64  \n 1   car                       24823 non-null  int64  \n 2   reality                   24823 non-null  int64  \n 3   child_num                 24823 non-null  int64  \n 4   income_total              24823 non-null  int64  \n 5   income_type               24823 non-null  object \n 6   edu_type                  24823 non-null  object \n 7   family_type               24823 non-null  object \n 8   house_type                24823 non-null  object \n 9   DAYS_BIRTH                24823 non-null  int64  \n 10  DAYS_EMPLOYED             24823 non-null  int64  \n 11  work_phone                24823 non-null  int64  \n 12  phone                     24823 non-null  int64  \n 13  email                     24823 non-null  int64  \n 14  occyp_type                24823 non-null  object \n 15  family_size               24823 non-null  float64\n 16  begin_month               24823 non-null  float64\n 17  credit                    24823 non-null  float64\n 18  total_income/famliy_size  24823 non-null  float64\n 19  adult                     24823 non-null  float64\n 20  total_income/adult        24823 non-null  float64\n 21  when_begin_age            24823 non-null  float64\n 22  when_begin_employed       24823 non-null  float64\n 23  begin_income              24823 non-null  float64\n 24  income_age                24823 non-null  float64\n 25  employed_age              24823 non-null  float64\n 26  yearly_age                24823 non-null  int64  \n 27  income_employed           24823 non-null  float64\n 28  yearly_employed           24823 non-null  int64  \n 29  car&home                  24823 non-null  int64  \n 30  email&phone               24823 non-null  int64  \n 31  total_earned_money        24823 non-null  float64\n 32  total/family              24823 non-null  float64\n 33  total/age                 24823 non-null  float64\n 34  log_income                24823 non-null  float64\ndtypes: float64(16), int64(14), object(5)\nmemory usage: 7.3+ MB\n"
     ]
    }
   ],
   "source": [
    "train.info()"
   ]
  },
  {
   "source": [
    "# Model Selection"
   ],
   "cell_type": "markdown",
   "metadata": {}
  },
  {
   "cell_type": "code",
   "execution_count": 72,
   "metadata": {},
   "outputs": [],
   "source": [
    "from sklearn.ensemble import GradientBoostingClassifier\n",
    "from sklearn.model_selection import GridSearchCV, StratifiedKFold, train_test_split\n",
    "from sklearn.metrics import log_loss\n",
    "from lightgbm import LGBMClassifier, plot_importance\n",
    "import torch\n",
    "from pytorch_tabnet.multitask import TabNetMultiTaskClassifier\n",
    "\n",
    "def model_experiment(tx, ty):\n",
    "    logloss = {}\n",
    "    logloss[\"Gradient Boosting\"] = {}\n",
    "    logloss[\"Light GBM\"] = {}\n",
    "    logloss[\"TabNet\"] = {}\n",
    "\n",
    "    X_train, X_val, Y_train, Y_val = train_test_split(tx, ty,stratify=ty, test_size=0.25, random_state=10086)\n",
    "    y_val_onehot = pd.get_dummies(Y_val)\n",
    "\n",
    "    gb_param_grid = {\n",
    "        'n_estimators' : [100, 200],\n",
    "        'max_depth' : [8, 10, 12],\n",
    "        'min_samples_leaf' : [5, 7, 10],\n",
    "        'min_samples_split' : [2, 3, 5],\n",
    "        'learning_rate' : [0.05, 0.1, 0.2]\n",
    "    }\n",
    "    gb = GradientBoostingClassifier()\n",
    "    gb.fit(X_train, Y_train)\n",
    "    predict = gb.predict_proba(X_val)\n",
    "    logloss[\"Gradient Boosting\"] = {\"model\" : gb, \"logloss\" : log_loss(y_val_onehot, predict)}\n",
    "\n",
    "    lgb = LGBMClassifier(n_estimators=1000)\n",
    "    evals = [(X_val, Y_val)]\n",
    "    lgb.fit(X_train, Y_train, early_stopping_rounds=100, eval_metric=\"logloss\",     eval_set=evals, verbose=True)\n",
    "    predict = lgb.predict_proba(X_val)\n",
    "    logloss[\"Light GBM\"] = {\"model\" : lgb, \"logloss\" : log_loss(y_val_onehot, predict)}\n",
    "\n",
    "    clf = TabNetMultiTaskClassifier(\n",
    "        n_d=64, n_a=64, n_steps=1,\n",
    "        lambda_sparse=1e-4,\n",
    "        optimizer_fn=torch.optim.Adam,\n",
    "        optimizer_params=dict(lr=2e-2),\n",
    "        scheduler_params = {\"gamma\": 0.9, \"step_size\": 50},\n",
    "        scheduler_fn=torch.optim.lr_scheduler.StepLR,\n",
    "        mask_type='entmax', \n",
    "        device_name='cuda'\n",
    "    )\n",
    "    \n",
    "    clf.fit(\n",
    "        X_train.values, np.array(Y_train).reshape(-1,1),\n",
    "        max_epochs=1000,\n",
    "        patience=50,\n",
    "        batch_size=1024,\n",
    "        virtual_batch_size=128,\n",
    "        num_workers=1,\n",
    "        drop_last=False\n",
    "    )\n",
    "    predict = clf.predict_proba(X_val.values)\n",
    "    predict = pd.DataFrame(np.reshape(np.array(predict), (-1,3)), columns=[0.0, 1.0, 2.0])\n",
    "    logloss[\"TabNet\"] = log_loss(y_val_onehot, predict)\n",
    "    logloss[\"TabNet\"] = {\"model\" : clf, \"logloss\" : log_loss(y_val_onehot, predict)}\n",
    "\n",
    "    return logloss"
   ]
  },
  {
   "cell_type": "code",
   "execution_count": 74,
   "metadata": {},
   "outputs": [
    {
     "output_type": "error",
     "ename": "KeyboardInterrupt",
     "evalue": "",
     "traceback": [
      "\u001b[1;31m---------------------------------------------------------------------------\u001b[0m",
      "\u001b[1;31mKeyboardInterrupt\u001b[0m                         Traceback (most recent call last)",
      "\u001b[1;32m<ipython-input-74-8abdd92690e4>\u001b[0m in \u001b[0;36m<module>\u001b[1;34m\u001b[0m\n\u001b[0;32m      1\u001b[0m \u001b[0mbreakpoint\u001b[0m\u001b[1;33m(\u001b[0m\u001b[1;33m)\u001b[0m\u001b[1;33m\u001b[0m\u001b[1;33m\u001b[0m\u001b[0m\n\u001b[1;32m----> 2\u001b[1;33m \u001b[0mlogloss\u001b[0m \u001b[1;33m=\u001b[0m \u001b[0mmodel_experiment\u001b[0m\u001b[1;33m(\u001b[0m\u001b[0mtrain_x\u001b[0m\u001b[1;33m,\u001b[0m \u001b[0mtrain_y\u001b[0m\u001b[1;33m)\u001b[0m\u001b[1;33m\u001b[0m\u001b[1;33m\u001b[0m\u001b[0m\n\u001b[0m\u001b[0;32m      3\u001b[0m \u001b[0mprint\u001b[0m\u001b[1;33m(\u001b[0m\u001b[0mlogloss\u001b[0m\u001b[1;33m)\u001b[0m\u001b[1;33m\u001b[0m\u001b[1;33m\u001b[0m\u001b[0m\n",
      "\u001b[1;32m<ipython-input-74-8abdd92690e4>\u001b[0m in \u001b[0;36m<module>\u001b[1;34m\u001b[0m\n\u001b[0;32m      1\u001b[0m \u001b[0mbreakpoint\u001b[0m\u001b[1;33m(\u001b[0m\u001b[1;33m)\u001b[0m\u001b[1;33m\u001b[0m\u001b[1;33m\u001b[0m\u001b[0m\n\u001b[1;32m----> 2\u001b[1;33m \u001b[0mlogloss\u001b[0m \u001b[1;33m=\u001b[0m \u001b[0mmodel_experiment\u001b[0m\u001b[1;33m(\u001b[0m\u001b[0mtrain_x\u001b[0m\u001b[1;33m,\u001b[0m \u001b[0mtrain_y\u001b[0m\u001b[1;33m)\u001b[0m\u001b[1;33m\u001b[0m\u001b[1;33m\u001b[0m\u001b[0m\n\u001b[0m\u001b[0;32m      3\u001b[0m \u001b[0mprint\u001b[0m\u001b[1;33m(\u001b[0m\u001b[0mlogloss\u001b[0m\u001b[1;33m)\u001b[0m\u001b[1;33m\u001b[0m\u001b[1;33m\u001b[0m\u001b[0m\n",
      "\u001b[1;32mc:\\Users\\sinji\\.vscode\\extensions\\ms-python.python-2021.4.765268190\\pythonFiles\\lib\\python\\debugpy\\_vendored\\pydevd\\_pydevd_bundle\\pydevd_frame.py\u001b[0m in \u001b[0;36mtrace_dispatch\u001b[1;34m(self, frame, event, arg)\u001b[0m\n\u001b[0;32m   1020\u001b[0m                     \u001b[1;32mif\u001b[0m \u001b[0mis_line\u001b[0m\u001b[1;33m:\u001b[0m\u001b[1;33m\u001b[0m\u001b[1;33m\u001b[0m\u001b[0m\n\u001b[0;32m   1021\u001b[0m                         \u001b[0mself\u001b[0m\u001b[1;33m.\u001b[0m\u001b[0mset_suspend\u001b[0m\u001b[1;33m(\u001b[0m\u001b[0mthread\u001b[0m\u001b[1;33m,\u001b[0m \u001b[0mstep_cmd\u001b[0m\u001b[1;33m,\u001b[0m \u001b[0moriginal_step_cmd\u001b[0m\u001b[1;33m=\u001b[0m\u001b[0minfo\u001b[0m\u001b[1;33m.\u001b[0m\u001b[0mpydev_original_step_cmd\u001b[0m\u001b[1;33m)\u001b[0m\u001b[1;33m\u001b[0m\u001b[1;33m\u001b[0m\u001b[0m\n\u001b[1;32m-> 1022\u001b[1;33m                         \u001b[0mself\u001b[0m\u001b[1;33m.\u001b[0m\u001b[0mdo_wait_suspend\u001b[0m\u001b[1;33m(\u001b[0m\u001b[0mthread\u001b[0m\u001b[1;33m,\u001b[0m \u001b[0mframe\u001b[0m\u001b[1;33m,\u001b[0m \u001b[0mevent\u001b[0m\u001b[1;33m,\u001b[0m \u001b[0marg\u001b[0m\u001b[1;33m)\u001b[0m\u001b[1;33m\u001b[0m\u001b[1;33m\u001b[0m\u001b[0m\n\u001b[0m\u001b[0;32m   1023\u001b[0m                     \u001b[1;32melif\u001b[0m \u001b[0mis_return\u001b[0m\u001b[1;33m:\u001b[0m  \u001b[1;31m# return event\u001b[0m\u001b[1;33m\u001b[0m\u001b[1;33m\u001b[0m\u001b[0m\n\u001b[0;32m   1024\u001b[0m                         \u001b[0mback\u001b[0m \u001b[1;33m=\u001b[0m \u001b[0mframe\u001b[0m\u001b[1;33m.\u001b[0m\u001b[0mf_back\u001b[0m\u001b[1;33m\u001b[0m\u001b[1;33m\u001b[0m\u001b[0m\n",
      "\u001b[1;32mc:\\Users\\sinji\\.vscode\\extensions\\ms-python.python-2021.4.765268190\\pythonFiles\\lib\\python\\debugpy\\_vendored\\pydevd\\_pydevd_bundle\\pydevd_frame.py\u001b[0m in \u001b[0;36mdo_wait_suspend\u001b[1;34m(self, *args, **kwargs)\u001b[0m\n\u001b[0;32m    151\u001b[0m \u001b[1;33m\u001b[0m\u001b[0m\n\u001b[0;32m    152\u001b[0m     \u001b[1;32mdef\u001b[0m \u001b[0mdo_wait_suspend\u001b[0m\u001b[1;33m(\u001b[0m\u001b[0mself\u001b[0m\u001b[1;33m,\u001b[0m \u001b[1;33m*\u001b[0m\u001b[0margs\u001b[0m\u001b[1;33m,\u001b[0m \u001b[1;33m**\u001b[0m\u001b[0mkwargs\u001b[0m\u001b[1;33m)\u001b[0m\u001b[1;33m:\u001b[0m\u001b[1;33m\u001b[0m\u001b[1;33m\u001b[0m\u001b[0m\n\u001b[1;32m--> 153\u001b[1;33m         \u001b[0mself\u001b[0m\u001b[1;33m.\u001b[0m\u001b[0m_args\u001b[0m\u001b[1;33m[\u001b[0m\u001b[1;36m0\u001b[0m\u001b[1;33m]\u001b[0m\u001b[1;33m.\u001b[0m\u001b[0mdo_wait_suspend\u001b[0m\u001b[1;33m(\u001b[0m\u001b[1;33m*\u001b[0m\u001b[0margs\u001b[0m\u001b[1;33m,\u001b[0m \u001b[1;33m**\u001b[0m\u001b[0mkwargs\u001b[0m\u001b[1;33m)\u001b[0m\u001b[1;33m\u001b[0m\u001b[1;33m\u001b[0m\u001b[0m\n\u001b[0m\u001b[0;32m    154\u001b[0m \u001b[1;33m\u001b[0m\u001b[0m\n\u001b[0;32m    155\u001b[0m     \u001b[1;31m# IFDEF CYTHON\u001b[0m\u001b[1;33m\u001b[0m\u001b[1;33m\u001b[0m\u001b[1;33m\u001b[0m\u001b[0m\n",
      "\u001b[1;32mc:\\Users\\sinji\\.vscode\\extensions\\ms-python.python-2021.4.765268190\\pythonFiles\\lib\\python\\debugpy\\_vendored\\pydevd\\pydevd.py\u001b[0m in \u001b[0;36mdo_wait_suspend\u001b[1;34m(self, thread, frame, event, arg, exception_type)\u001b[0m\n\u001b[0;32m   1853\u001b[0m \u001b[1;33m\u001b[0m\u001b[0m\n\u001b[0;32m   1854\u001b[0m             \u001b[1;32mwith\u001b[0m \u001b[0mself\u001b[0m\u001b[1;33m.\u001b[0m\u001b[0m_threads_suspended_single_notification\u001b[0m\u001b[1;33m.\u001b[0m\u001b[0mnotify_thread_suspended\u001b[0m\u001b[1;33m(\u001b[0m\u001b[0mthread_id\u001b[0m\u001b[1;33m,\u001b[0m \u001b[0mstop_reason\u001b[0m\u001b[1;33m)\u001b[0m\u001b[1;33m:\u001b[0m\u001b[1;33m\u001b[0m\u001b[1;33m\u001b[0m\u001b[0m\n\u001b[1;32m-> 1855\u001b[1;33m                 \u001b[0mkeep_suspended\u001b[0m \u001b[1;33m=\u001b[0m \u001b[0mself\u001b[0m\u001b[1;33m.\u001b[0m\u001b[0m_do_wait_suspend\u001b[0m\u001b[1;33m(\u001b[0m\u001b[0mthread\u001b[0m\u001b[1;33m,\u001b[0m \u001b[0mframe\u001b[0m\u001b[1;33m,\u001b[0m \u001b[0mevent\u001b[0m\u001b[1;33m,\u001b[0m \u001b[0marg\u001b[0m\u001b[1;33m,\u001b[0m \u001b[0msuspend_type\u001b[0m\u001b[1;33m,\u001b[0m \u001b[0mfrom_this_thread\u001b[0m\u001b[1;33m,\u001b[0m \u001b[0mframes_tracker\u001b[0m\u001b[1;33m)\u001b[0m\u001b[1;33m\u001b[0m\u001b[1;33m\u001b[0m\u001b[0m\n\u001b[0m\u001b[0;32m   1856\u001b[0m \u001b[1;33m\u001b[0m\u001b[0m\n\u001b[0;32m   1857\u001b[0m         \u001b[0mframes_list\u001b[0m \u001b[1;33m=\u001b[0m \u001b[1;32mNone\u001b[0m\u001b[1;33m\u001b[0m\u001b[1;33m\u001b[0m\u001b[0m\n",
      "\u001b[1;32mc:\\Users\\sinji\\.vscode\\extensions\\ms-python.python-2021.4.765268190\\pythonFiles\\lib\\python\\debugpy\\_vendored\\pydevd\\pydevd.py\u001b[0m in \u001b[0;36m_do_wait_suspend\u001b[1;34m(self, thread, frame, event, arg, suspend_type, from_this_thread, frames_tracker)\u001b[0m\n\u001b[0;32m   1888\u001b[0m \u001b[1;33m\u001b[0m\u001b[0m\n\u001b[0;32m   1889\u001b[0m             \u001b[0mself\u001b[0m\u001b[1;33m.\u001b[0m\u001b[0mprocess_internal_commands\u001b[0m\u001b[1;33m(\u001b[0m\u001b[1;33m)\u001b[0m\u001b[1;33m\u001b[0m\u001b[1;33m\u001b[0m\u001b[0m\n\u001b[1;32m-> 1890\u001b[1;33m             \u001b[0mtime\u001b[0m\u001b[1;33m.\u001b[0m\u001b[0msleep\u001b[0m\u001b[1;33m(\u001b[0m\u001b[1;36m0.01\u001b[0m\u001b[1;33m)\u001b[0m\u001b[1;33m\u001b[0m\u001b[1;33m\u001b[0m\u001b[0m\n\u001b[0m\u001b[0;32m   1891\u001b[0m \u001b[1;33m\u001b[0m\u001b[0m\n\u001b[0;32m   1892\u001b[0m         \u001b[0mself\u001b[0m\u001b[1;33m.\u001b[0m\u001b[0mcancel_async_evaluation\u001b[0m\u001b[1;33m(\u001b[0m\u001b[0mget_current_thread_id\u001b[0m\u001b[1;33m(\u001b[0m\u001b[0mthread\u001b[0m\u001b[1;33m)\u001b[0m\u001b[1;33m,\u001b[0m \u001b[0mstr\u001b[0m\u001b[1;33m(\u001b[0m\u001b[0mid\u001b[0m\u001b[1;33m(\u001b[0m\u001b[0mframe\u001b[0m\u001b[1;33m)\u001b[0m\u001b[1;33m)\u001b[0m\u001b[1;33m)\u001b[0m\u001b[1;33m\u001b[0m\u001b[1;33m\u001b[0m\u001b[0m\n",
      "\u001b[1;31mKeyboardInterrupt\u001b[0m: "
     ]
    }
   ],
   "source": [
    "logloss = model_experiment(train_x, train_y)\n",
    "print(logloss)"
   ]
  },
  {
   "cell_type": "code",
   "execution_count": null,
   "metadata": {},
   "outputs": [],
   "source": [
    "clf = logloss[\"TabNet\"][\"model\"]\n",
    "preds = clf.predict_proba(test)"
   ]
  },
  {
   "cell_type": "code",
   "execution_count": null,
   "metadata": {},
   "outputs": [],
   "source": [
    "clf.feature_importances_"
   ]
  },
  {
   "cell_type": "code",
   "execution_count": null,
   "metadata": {},
   "outputs": [],
   "source": [
    "len(test)"
   ]
  },
  {
   "cell_type": "code",
   "execution_count": null,
   "metadata": {},
   "outputs": [],
   "source": [
    "i, j, k = [], [], []\n",
    "for row in range(10000):\n",
    "  i.append(preds[0][row][0])\n",
    "  j.append(preds[0][row][1])\n",
    "  k.append(preds[0][row][2])\n",
    "\n",
    "len(i), len(j), len(k)\n",
    "submission = pd.read_csv(path+'sample_submission.csv')\n",
    "submission['0'] = i\n",
    "submission['1'] = j\n",
    "submission['2'] = k\n",
    "submission.head(10)"
   ]
  },
  {
   "cell_type": "code",
   "execution_count": null,
   "metadata": {},
   "outputs": [],
   "source": [
    "submission.to_csv(path+\"submisison_tabnet.csv\",index=False)"
   ]
  }
 ],
 "metadata": {
  "colab": {
   "authorship_tag": "ABX9TyOYtTkYj21ll5RVdvP7w2Dg",
   "collapsed_sections": [],
   "mount_file_id": "1GxujCu2C6ryL1WOMuQKh_J5qQxiKb6Cf",
   "name": "Classification.ipynb",
   "provenance": []
  },
  "kernelspec": {
   "name": "python395jvsc74a57bd0b623205eb5926e118d2060009827031b152316c13dc0ed527436d26f791883d1",
   "display_name": "Python 3.9.5 64-bit"
  },
  "language_info": {
   "codemirror_mode": {
    "name": "ipython",
    "version": 3
   },
   "file_extension": ".py",
   "mimetype": "text/x-python",
   "name": "python",
   "nbconvert_exporter": "python",
   "pygments_lexer": "ipython3",
   "version": "3.9.5"
  }
 },
 "nbformat": 4,
 "nbformat_minor": 4
}