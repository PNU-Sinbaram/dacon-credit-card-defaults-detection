{
 "cells": [
    {
      "cell_type": "code",
      "metadata": {
        "colab": {
          "base_uri": "https://localhost:8080/"
        },
        "id": "FENFUth8gadT",
        "outputId": "4f73a4f5-894f-462c-9361-bf7f0d6676f9"
      },
      "source": [
        "!git clone https://github.com/sinbaramDL/dacon-credit-card-defaults-detection"
      ],
      "execution_count": null,
      "outputs": [
        {
          "output_type": "stream",
          "text": [
            "fatal: destination path 'dacon-credit-card-defaults-detection' already exists and is not an empty directory.\n"
          ],
          "name": "stdout"
        }
      ]
    },
    {
      "cell_type": "code",
      "metadata": {
        "colab": {
          "base_uri": "https://localhost:8080/"
        },
        "id": "poumHXsYh10K",
        "outputId": "823ec851-8b5a-4901-d653-5511f776f1cf"
      },
      "source": [
        "cd /content/dacon-credit-card-defaults-detection"
      ],
      "execution_count": null,
      "outputs": [
        {
          "output_type": "stream",
          "text": [
            "/content/dacon-credit-card-defaults-detection\n"
          ],
          "name": "stdout"
        }
      ]
    },
 ],
 "metadata": {
  "colab": {
   "authorship_tag": "ABX9TyOYtTkYj21ll5RVdvP7w2Dg",
   "collapsed_sections": [],
   "mount_file_id": "1GxujCu2C6ryL1WOMuQKh_J5qQxiKb6Cf",
   "name": "Classification.ipynb",
   "provenance": []
  },
  "kernelspec": {
   "name": "python3612jvsc74a57bd02091fe89c84f74a5e3e429b7cb844a9c0f2bace986f522b7f9463220cb14ec72",
   "display_name": "Python 3.6.12 64-bit ('gpu': conda)"
  },
  "language_info": {
   "codemirror_mode": {
    "name": "ipython",
    "version": 3
   },
   "file_extension": ".py",
   "mimetype": "text/x-python",
   "name": "python",
   "nbconvert_exporter": "python",
   "pygments_lexer": "ipython3",
   "version": "3.6.12"
  }
 },
 "nbformat": 4,
 "nbformat_minor": 4
}