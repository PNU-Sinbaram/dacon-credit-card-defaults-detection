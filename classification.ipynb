{
 "cells": [
  {
   "cell_type": "code",
   "execution_count": null,
   "metadata": {},
   "outputs": [],
   "source": []
  }
 ],
 "metadata": {
  "colab": {
   "authorship_tag": "ABX9TyOYtTkYj21ll5RVdvP7w2Dg",
   "collapsed_sections": [],
   "mount_file_id": "1GxujCu2C6ryL1WOMuQKh_J5qQxiKb6Cf",
   "name": "Baseline.ipynb",
   "provenance": []
  },
  "kernelspec": {
   "name": "python3612jvsc74a57bd02091fe89c84f74a5e3e429b7cb844a9c0f2bace986f522b7f9463220cb14ec72",
   "display_name": "Python 3.6.12 64-bit ('gpu': conda)"
  },
  "language_info": {
   "codemirror_mode": {
    "name": "ipython",
    "version": 3
   },
   "file_extension": ".py",
   "mimetype": "text/x-python",
   "name": "python",
   "nbconvert_exporter": "python",
   "pygments_lexer": "ipython3",
   "version": "3.6.12"
  }
 },
 "nbformat": 4,
 "nbformat_minor": 4
}