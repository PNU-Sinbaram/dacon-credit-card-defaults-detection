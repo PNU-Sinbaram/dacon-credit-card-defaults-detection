{
 "cells": [
  {
   "cell_type": "markdown",
   "metadata": {},
   "source": [
    "**[ch0 일단 제출하고 시작하기(영상)](https://www.dacon.io/competitions/official/235713/talkboard/402861?page=1&dtype=recent)** "
   ]
  },
  {
   "source": [
    "[![ch0 일단 제출하고 시작하기(영상)](https://i9.ytimg.com/vi/qbcKtV_krd8/mq3.jpg?sqp=CNS0tIMG&rs=AOn4CLDqefp5ff1J7cHedxBYQFqIMXvWaA)](https://dacon.io/competitions/official/235713/talkboard/402861?page=1&dtype=recent) "
   ],
   "cell_type": "markdown",
   "metadata": {}
  },
  {
   "cell_type": "code",
   "execution_count": 101,
   "metadata": {
    "colab": {
     "base_uri": "https://localhost:8080/"
    },
    "executionInfo": {
     "elapsed": 1508,
     "status": "ok",
     "timestamp": 1617445512235,
     "user": {
      "displayName": "youtube dacon",
      "photoUrl": "",
      "userId": "00770885000471893693"
     },
     "user_tz": -540
    },
    "id": "tjhnYTYsPWtV",
    "outputId": "8758685e-2735-46be-a18a-70e046cd0586"
   },
   "outputs": [
    {
     "name": "stdout",
     "output_type": "stream",
     "text": [
      "mkdir: cannot create directory ‘data’: File exists\n"
     ]
    }
   ],
   "source": [
    "!mkdir data"
   ]
  },
  {
   "cell_type": "code",
   "execution_count": 102,
   "metadata": {
    "executionInfo": {
     "elapsed": 3348,
     "status": "ok",
     "timestamp": 1617445514090,
     "user": {
      "displayName": "youtube dacon",
      "photoUrl": "",
      "userId": "00770885000471893693"
     },
     "user_tz": -540
    },
    "id": "uT73LkFxPuSL"
   },
   "outputs": [],
   "source": [
    "!cp \"/content/drive/MyDrive/월간데이콘 14 강의용/data/train.csv\" \"/content/data/train.csv\"\n",
    "!cp \"/content/drive/MyDrive/월간데이콘 14 강의용/data/test.csv\" \"/content/data/test.csv\"\n",
    "!cp \"/content/drive/MyDrive/월간데이콘 14 강의용/data/sample_submission.csv\" \"/content/data/sample_submission.csv\""
   ]
  },
  {
   "cell_type": "code",
   "execution_count": 5,
   "metadata": {
    "executionInfo": {
     "elapsed": 3343,
     "status": "ok",
     "timestamp": 1617445514092,
     "user": {
      "displayName": "youtube dacon",
      "photoUrl": "",
      "userId": "00770885000471893693"
     },
     "user_tz": -540
    },
    "id": "vQ0TeqzQwyH8"
   },
   "outputs": [],
   "source": [
    "import pandas as pd"
   ]
  },
  {
   "cell_type": "markdown",
   "metadata": {},
   "source": [
    "**[ch1 데이터 준비하기(영상)](https://www.dacon.io/competitions/official/235713/talkboard/402862?page=1&dtype=recent)** "
   ]
  },
  {
   "source": [
    "[![ch0 일단 제출하고 시작하기(영상)](https://i9.ytimg.com/vi/yYsvqwlccFk/mq2.jpg?sqp=CNS0tIMG&rs=AOn4CLDo2Nq6z1xvuttyHmCsI2kDFK6Whg)](https://dacon.io/competitions/official/235713/talkboard/402862?page=1&dtype=recent) "
   ],
   "cell_type": "markdown",
   "metadata": {}
  },
  {
   "cell_type": "code",
   "execution_count": 104,
   "metadata": {
    "executionInfo": {
     "elapsed": 3337,
     "status": "ok",
     "timestamp": 1617445514093,
     "user": {
      "displayName": "youtube dacon",
      "photoUrl": "",
      "userId": "00770885000471893693"
     },
     "user_tz": -540
    },
    "id": "XhVVKX-QxIUY"
   },
   "outputs": [],
   "source": [
    "train = pd.read_csv(\"/content/data/train.csv\")\n",
    "test = pd.read_csv(\"/content/data/test.csv\")\n",
    "sample_submission = pd.read_csv(\"/content/data/sample_submission.csv\")"
   ]
  },
  {
   "cell_type": "code",
   "execution_count": 7,
   "metadata": {
    "colab": {
     "base_uri": "https://localhost:8080/"
    },
    "executionInfo": {
     "elapsed": 3325,
     "status": "ok",
     "timestamp": 1617445514094,
     "user": {
      "displayName": "youtube dacon",
      "photoUrl": "",
      "userId": "00770885000471893693"
     },
     "user_tz": -540
    },
    "id": "-m77JSgMxIRe",
    "outputId": "89804ed4-b2cf-4ba7-edd5-e1c5bd5ea021"
   },
   "outputs": [
    {
     "output_type": "execute_result",
     "data": {
      "text/plain": [
       "(26457, 20)"
      ]
     },
     "metadata": {},
     "execution_count": 7
    }
   ],
   "source": [
    "train.shape"
   ]
  },
  {
   "cell_type": "code",
   "execution_count": 8,
   "metadata": {
    "colab": {
     "base_uri": "https://localhost:8080/"
    },
    "executionInfo": {
     "elapsed": 3311,
     "status": "ok",
     "timestamp": 1617445514095,
     "user": {
      "displayName": "youtube dacon",
      "photoUrl": "",
      "userId": "00770885000471893693"
     },
     "user_tz": -540
    },
    "id": "oqfpLpzmxIPz",
    "outputId": "5bd5d916-7be0-4d48-df6a-646ddb1e2954"
   },
   "outputs": [
    {
     "output_type": "stream",
     "name": "stdout",
     "text": [
      "<class 'pandas.core.frame.DataFrame'>\nRangeIndex: 26457 entries, 0 to 26456\nData columns (total 20 columns):\n #   Column         Non-Null Count  Dtype  \n---  ------         --------------  -----  \n 0   index          26457 non-null  int64  \n 1   gender         26457 non-null  object \n 2   car            26457 non-null  object \n 3   reality        26457 non-null  object \n 4   child_num      26457 non-null  int64  \n 5   income_total   26457 non-null  float64\n 6   income_type    26457 non-null  object \n 7   edu_type       26457 non-null  object \n 8   family_type    26457 non-null  object \n 9   house_type     26457 non-null  object \n 10  DAYS_BIRTH     26457 non-null  int64  \n 11  DAYS_EMPLOYED  26457 non-null  int64  \n 12  FLAG_MOBIL     26457 non-null  int64  \n 13  work_phone     26457 non-null  int64  \n 14  phone          26457 non-null  int64  \n 15  email          26457 non-null  int64  \n 16  occyp_type     18286 non-null  object \n 17  family_size    26457 non-null  float64\n 18  begin_month    26457 non-null  float64\n 19  credit         26457 non-null  float64\ndtypes: float64(4), int64(8), object(8)\nmemory usage: 4.0+ MB\n"
     ]
    }
   ],
   "source": [
    "train.info()"
   ]
  },
  {
   "cell_type": "code",
   "execution_count": 9,
   "metadata": {
    "colab": {
     "base_uri": "https://localhost:8080/",
     "height": 378
    },
    "executionInfo": {
     "elapsed": 3294,
     "status": "ok",
     "timestamp": 1617445514096,
     "user": {
      "displayName": "youtube dacon",
      "photoUrl": "",
      "userId": "00770885000471893693"
     },
     "user_tz": -540
    },
    "id": "5zLv76jUxILk",
    "outputId": "4d0e5e8d-31ef-42f4-ec70-ddeb31b40568"
   },
   "outputs": [
    {
     "output_type": "execute_result",
     "data": {
      "text/plain": [
       "   index gender car reality  child_num  income_total           income_type  \\\n",
       "0      0      F   N       N          0      202500.0  Commercial associate   \n",
       "1      1      F   N       Y          1      247500.0  Commercial associate   \n",
       "2      2      M   Y       Y          0      450000.0               Working   \n",
       "3      3      F   N       Y          0      202500.0  Commercial associate   \n",
       "4      4      F   Y       Y          0      157500.0         State servant   \n",
       "\n",
       "                        edu_type     family_type           house_type  \\\n",
       "0               Higher education         Married  Municipal apartment   \n",
       "1  Secondary / secondary special  Civil marriage    House / apartment   \n",
       "2               Higher education         Married    House / apartment   \n",
       "3  Secondary / secondary special         Married    House / apartment   \n",
       "4               Higher education         Married    House / apartment   \n",
       "\n",
       "   DAYS_BIRTH  DAYS_EMPLOYED  FLAG_MOBIL  work_phone  phone  email  \\\n",
       "0      -13899          -4709           1           0      0      0   \n",
       "1      -11380          -1540           1           0      0      1   \n",
       "2      -19087          -4434           1           0      1      0   \n",
       "3      -15088          -2092           1           0      1      0   \n",
       "4      -15037          -2105           1           0      0      0   \n",
       "\n",
       "    occyp_type  family_size  begin_month  credit  \n",
       "0          NaN          2.0         -6.0     1.0  \n",
       "1     Laborers          3.0         -5.0     1.0  \n",
       "2     Managers          2.0        -22.0     2.0  \n",
       "3  Sales staff          2.0        -37.0     0.0  \n",
       "4     Managers          2.0        -26.0     2.0  "
      ],
      "text/html": "<div>\n<style scoped>\n    .dataframe tbody tr th:only-of-type {\n        vertical-align: middle;\n    }\n\n    .dataframe tbody tr th {\n        vertical-align: top;\n    }\n\n    .dataframe thead th {\n        text-align: right;\n    }\n</style>\n<table border=\"1\" class=\"dataframe\">\n  <thead>\n    <tr style=\"text-align: right;\">\n      <th></th>\n      <th>index</th>\n      <th>gender</th>\n      <th>car</th>\n      <th>reality</th>\n      <th>child_num</th>\n      <th>income_total</th>\n      <th>income_type</th>\n      <th>edu_type</th>\n      <th>family_type</th>\n      <th>house_type</th>\n      <th>DAYS_BIRTH</th>\n      <th>DAYS_EMPLOYED</th>\n      <th>FLAG_MOBIL</th>\n      <th>work_phone</th>\n      <th>phone</th>\n      <th>email</th>\n      <th>occyp_type</th>\n      <th>family_size</th>\n      <th>begin_month</th>\n      <th>credit</th>\n    </tr>\n  </thead>\n  <tbody>\n    <tr>\n      <th>0</th>\n      <td>0</td>\n      <td>F</td>\n      <td>N</td>\n      <td>N</td>\n      <td>0</td>\n      <td>202500.0</td>\n      <td>Commercial associate</td>\n      <td>Higher education</td>\n      <td>Married</td>\n      <td>Municipal apartment</td>\n      <td>-13899</td>\n      <td>-4709</td>\n      <td>1</td>\n      <td>0</td>\n      <td>0</td>\n      <td>0</td>\n      <td>NaN</td>\n      <td>2.0</td>\n      <td>-6.0</td>\n      <td>1.0</td>\n    </tr>\n    <tr>\n      <th>1</th>\n      <td>1</td>\n      <td>F</td>\n      <td>N</td>\n      <td>Y</td>\n      <td>1</td>\n      <td>247500.0</td>\n      <td>Commercial associate</td>\n      <td>Secondary / secondary special</td>\n      <td>Civil marriage</td>\n      <td>House / apartment</td>\n      <td>-11380</td>\n      <td>-1540</td>\n      <td>1</td>\n      <td>0</td>\n      <td>0</td>\n      <td>1</td>\n      <td>Laborers</td>\n      <td>3.0</td>\n      <td>-5.0</td>\n      <td>1.0</td>\n    </tr>\n    <tr>\n      <th>2</th>\n      <td>2</td>\n      <td>M</td>\n      <td>Y</td>\n      <td>Y</td>\n      <td>0</td>\n      <td>450000.0</td>\n      <td>Working</td>\n      <td>Higher education</td>\n      <td>Married</td>\n      <td>House / apartment</td>\n      <td>-19087</td>\n      <td>-4434</td>\n      <td>1</td>\n      <td>0</td>\n      <td>1</td>\n      <td>0</td>\n      <td>Managers</td>\n      <td>2.0</td>\n      <td>-22.0</td>\n      <td>2.0</td>\n    </tr>\n    <tr>\n      <th>3</th>\n      <td>3</td>\n      <td>F</td>\n      <td>N</td>\n      <td>Y</td>\n      <td>0</td>\n      <td>202500.0</td>\n      <td>Commercial associate</td>\n      <td>Secondary / secondary special</td>\n      <td>Married</td>\n      <td>House / apartment</td>\n      <td>-15088</td>\n      <td>-2092</td>\n      <td>1</td>\n      <td>0</td>\n      <td>1</td>\n      <td>0</td>\n      <td>Sales staff</td>\n      <td>2.0</td>\n      <td>-37.0</td>\n      <td>0.0</td>\n    </tr>\n    <tr>\n      <th>4</th>\n      <td>4</td>\n      <td>F</td>\n      <td>Y</td>\n      <td>Y</td>\n      <td>0</td>\n      <td>157500.0</td>\n      <td>State servant</td>\n      <td>Higher education</td>\n      <td>Married</td>\n      <td>House / apartment</td>\n      <td>-15037</td>\n      <td>-2105</td>\n      <td>1</td>\n      <td>0</td>\n      <td>0</td>\n      <td>0</td>\n      <td>Managers</td>\n      <td>2.0</td>\n      <td>-26.0</td>\n      <td>2.0</td>\n    </tr>\n  </tbody>\n</table>\n</div>"
     },
     "metadata": {},
     "execution_count": 9
    }
   ],
   "source": [
    "train.head()"
   ]
  },
  {
   "cell_type": "code",
   "execution_count": null,
   "metadata": {},
   "outputs": [],
   "source": []
  },
  {
   "source": [
    "**[ch2 데이터 가공하기 (영상)](https://dacon.io/competitions/official/235713/talkboard/402877?page=1&dtype=recent)** \n",
    "\n",
    "[![ch2 데이터 가공하기 (영상)](https://i9.ytimg.com/vi/AWfgyln0EOM/mq2.jpg?sqp=CNS0tIMG&rs=AOn4CLAbokyUQQx-oXpqQn8mok_OwNQ5WQ)](https://dacon.io/competitions/official/235713/talkboard/402877?page=1&dtype=recent) "
   ],
   "cell_type": "markdown",
   "metadata": {}
  },
  {
   "source": [
    "### 코드 변경 안내\n",
    " 위 영상에서는 train과 test를 결합하여 전처리하고 분할하여 학습에 사용합니다.    \n",
    "이렇게 데이터를 다루게 될 경우, test 데이터 속 정보가 일부 train데이터로 흘러들어가는 data leakage가 발생하게 됩니다.    \n",
    "참가자 분들께서 이러한 문제를 지적해 주셨습니다. 다시한 번 감사하다는 말씀을 전합니다.  \n",
    "아래 코드는 이러한 data leagkage가 발생하지 않도록 코드를 수정하였습니다. 영상과 코드가 다른 점 양해바랍니다.   "
   ],
   "cell_type": "markdown",
   "metadata": {}
  },
  {
   "cell_type": "code",
   "execution_count": 10,
   "metadata": {
    "colab": {
     "base_uri": "https://localhost:8080/"
    },
    "executionInfo": {
     "elapsed": 3272,
     "status": "ok",
     "timestamp": 1617445514098,
     "user": {
      "displayName": "youtube dacon",
      "photoUrl": "",
      "userId": "00770885000471893693"
     },
     "user_tz": -540
    },
    "id": "J-tQQLGpDcs8",
    "outputId": "b00bc8ea-ddb1-4d22-e84d-5a34ad5aec5c"
   },
   "outputs": [
    {
     "output_type": "execute_result",
     "data": {
      "text/plain": [
       "index               0\n",
       "gender              0\n",
       "car                 0\n",
       "reality             0\n",
       "child_num           0\n",
       "income_total        0\n",
       "income_type         0\n",
       "edu_type            0\n",
       "family_type         0\n",
       "house_type          0\n",
       "DAYS_BIRTH          0\n",
       "DAYS_EMPLOYED       0\n",
       "FLAG_MOBIL          0\n",
       "work_phone          0\n",
       "phone               0\n",
       "email               0\n",
       "occyp_type       8171\n",
       "family_size         0\n",
       "begin_month         0\n",
       "credit              0\n",
       "dtype: int64"
      ]
     },
     "metadata": {},
     "execution_count": 10
    }
   ],
   "source": [
    "train.isnull().sum()"
   ]
  },
  {
   "cell_type": "code",
   "execution_count": 21,
   "metadata": {},
   "outputs": [],
   "source": [
    "train = train.drop(\"occyp_type\", axis = 1)\n",
    "test =  test.drop(\"occyp_type\", axis = 1)"
   ]
  },
  {
   "cell_type": "code",
   "execution_count": 12,
   "metadata": {
    "colab": {
     "base_uri": "https://localhost:8080/"
    },
    "executionInfo": {
     "elapsed": 3254,
     "status": "ok",
     "timestamp": 1617445514101,
     "user": {
      "displayName": "youtube dacon",
      "photoUrl": "",
      "userId": "00770885000471893693"
     },
     "user_tz": -540
    },
    "id": "Uptc_IAoDcmN",
    "outputId": "2651a6b4-8f47-43fd-f018-45b1ffc1497c"
   },
   "outputs": [
    {
     "output_type": "execute_result",
     "data": {
      "text/plain": [
       "index            0\n",
       "gender           0\n",
       "car              0\n",
       "reality          0\n",
       "child_num        0\n",
       "income_total     0\n",
       "income_type      0\n",
       "edu_type         0\n",
       "family_type      0\n",
       "house_type       0\n",
       "DAYS_BIRTH       0\n",
       "DAYS_EMPLOYED    0\n",
       "FLAG_MOBIL       0\n",
       "work_phone       0\n",
       "phone            0\n",
       "email            0\n",
       "family_size      0\n",
       "begin_month      0\n",
       "credit           0\n",
       "dtype: int64"
      ]
     },
     "metadata": {},
     "execution_count": 12
    }
   ],
   "source": [
    "train.isnull().sum()"
   ]
  },
  {
   "cell_type": "code",
   "execution_count": 13,
   "metadata": {
    "colab": {
     "base_uri": "https://localhost:8080/"
    },
    "executionInfo": {
     "elapsed": 3239,
     "status": "ok",
     "timestamp": 1617445514102,
     "user": {
      "displayName": "youtube dacon",
      "photoUrl": "",
      "userId": "00770885000471893693"
     },
     "user_tz": -540
    },
    "id": "kgX2qawWDcj9",
    "outputId": "3354ac39-75dc-4e94-b23b-48758381b9f9"
   },
   "outputs": [
    {
     "output_type": "execute_result",
     "data": {
      "text/plain": [
       "2"
      ]
     },
     "metadata": {},
     "execution_count": 13
    }
   ],
   "source": [
    "len(train['gender'].unique())"
   ]
  },
  {
   "cell_type": "code",
   "execution_count": 14,
   "metadata": {
    "executionInfo": {
     "elapsed": 3230,
     "status": "ok",
     "timestamp": 1617445514103,
     "user": {
      "displayName": "youtube dacon",
      "photoUrl": "",
      "userId": "00770885000471893693"
     },
     "user_tz": -540
    },
    "id": "4rjWkfEXDch1"
   },
   "outputs": [],
   "source": [
    "unique_len = train.apply(lambda x : len(x.unique()))"
   ]
  },
  {
   "cell_type": "code",
   "execution_count": 15,
   "metadata": {
    "colab": {
     "base_uri": "https://localhost:8080/"
    },
    "executionInfo": {
     "elapsed": 3221,
     "status": "ok",
     "timestamp": 1617445514104,
     "user": {
      "displayName": "youtube dacon",
      "photoUrl": "",
      "userId": "00770885000471893693"
     },
     "user_tz": -540
    },
    "id": "d164flCfDcfa",
    "outputId": "6ac51e63-4401-46de-eb29-cc1d5a896024"
   },
   "outputs": [
    {
     "output_type": "execute_result",
     "data": {
      "text/plain": [
       "index            26457\n",
       "gender               2\n",
       "car                  2\n",
       "reality              2\n",
       "child_num            9\n",
       "income_total       249\n",
       "income_type          5\n",
       "edu_type             5\n",
       "family_type          5\n",
       "house_type           6\n",
       "DAYS_BIRTH        6621\n",
       "DAYS_EMPLOYED     3470\n",
       "FLAG_MOBIL           1\n",
       "work_phone           2\n",
       "phone                2\n",
       "email                2\n",
       "family_size         10\n",
       "begin_month         61\n",
       "credit               3\n",
       "dtype: int64"
      ]
     },
     "metadata": {},
     "execution_count": 15
    }
   ],
   "source": [
    "unique_len"
   ]
  },
  {
   "cell_type": "markdown",
   "metadata": {
    "id": "dH0uL6apGn9W"
   },
   "source": [
    "1. 2개 이하\n",
    "2. 2개 초과 10개 이하\n",
    "3. 10개 초과"
   ]
  },
  {
   "cell_type": "code",
   "execution_count": 16,
   "metadata": {
    "colab": {
     "base_uri": "https://localhost:8080/"
    },
    "executionInfo": {
     "elapsed": 3208,
     "status": "ok",
     "timestamp": 1617445514105,
     "user": {
      "displayName": "youtube dacon",
      "photoUrl": "",
      "userId": "00770885000471893693"
     },
     "user_tz": -540
    },
    "id": "JA_z-Vo9wx2O",
    "outputId": "88d78a2d-7de5-4221-b69e-f96437bdfae0"
   },
   "outputs": [
    {
     "output_type": "execute_result",
     "data": {
      "text/plain": [
       "Index(['gender', 'car', 'reality', 'FLAG_MOBIL', 'work_phone', 'phone',\n",
       "       'email'],\n",
       "      dtype='object')"
      ]
     },
     "metadata": {},
     "execution_count": 16
    }
   ],
   "source": [
    "group_1 = unique_len[unique_len <= 2].index\n",
    "group_1"
   ]
  },
  {
   "cell_type": "code",
   "execution_count": 17,
   "metadata": {
    "colab": {
     "base_uri": "https://localhost:8080/"
    },
    "executionInfo": {
     "elapsed": 3195,
     "status": "ok",
     "timestamp": 1617445514106,
     "user": {
      "displayName": "youtube dacon",
      "photoUrl": "",
      "userId": "00770885000471893693"
     },
     "user_tz": -540
    },
    "id": "uGpyBn5PwxzI",
    "outputId": "43b6eaad-b912-4e1d-946a-0a7552143dd8"
   },
   "outputs": [
    {
     "output_type": "execute_result",
     "data": {
      "text/plain": [
       "Index(['child_num', 'income_type', 'edu_type', 'family_type', 'house_type',\n",
       "       'family_size', 'credit'],\n",
       "      dtype='object')"
      ]
     },
     "metadata": {},
     "execution_count": 17
    }
   ],
   "source": [
    "group_2 = unique_len[(unique_len > 2)\\\n",
    "             & (unique_len <= 10)].index\n",
    "group_2"
   ]
  },
  {
   "cell_type": "code",
   "execution_count": 18,
   "metadata": {
    "colab": {
     "base_uri": "https://localhost:8080/"
    },
    "executionInfo": {
     "elapsed": 3178,
     "status": "ok",
     "timestamp": 1617445514107,
     "user": {
      "displayName": "youtube dacon",
      "photoUrl": "",
      "userId": "00770885000471893693"
     },
     "user_tz": -540
    },
    "id": "8mRNQuQFwxwl",
    "outputId": "00c2fa43-7c1a-40a5-989c-7c39417bcb57"
   },
   "outputs": [
    {
     "output_type": "execute_result",
     "data": {
      "text/plain": [
       "Index(['index', 'income_total', 'DAYS_BIRTH', 'DAYS_EMPLOYED', 'begin_month'], dtype='object')"
      ]
     },
     "metadata": {},
     "execution_count": 18
    }
   ],
   "source": [
    "group_3 = unique_len[(unique_len > 10)].index\n",
    "group_3"
   ]
  },
  {
   "cell_type": "code",
   "execution_count": 19,
   "metadata": {
    "colab": {
     "base_uri": "https://localhost:8080/",
     "height": 415
    },
    "executionInfo": {
     "elapsed": 3562,
     "status": "ok",
     "timestamp": 1617445514508,
     "user": {
      "displayName": "youtube dacon",
      "photoUrl": "",
      "userId": "00770885000471893693"
     },
     "user_tz": -540
    },
    "id": "vnStrUnmZWId",
    "outputId": "a2e0b64b-3797-4a94-cd46-4b34b470d28c"
   },
   "outputs": [
    {
     "output_type": "execute_result",
     "data": {
      "text/plain": [
       "      gender car reality  FLAG_MOBIL  work_phone  phone  email\n",
       "0          F   N       N           1           0      0      0\n",
       "1          F   N       Y           1           0      0      1\n",
       "2          M   Y       Y           1           0      1      0\n",
       "3          F   N       Y           1           0      1      0\n",
       "4          F   Y       Y           1           0      0      0\n",
       "...      ...  ..     ...         ...         ...    ...    ...\n",
       "26452      F   N       N           1           0      0      0\n",
       "26453      F   N       Y           1           0      0      0\n",
       "26454      F   Y       N           1           0      0      0\n",
       "26455      M   N       Y           1           0      0      0\n",
       "26456      F   N       N           1           0      0      0\n",
       "\n",
       "[26457 rows x 7 columns]"
      ],
      "text/html": "<div>\n<style scoped>\n    .dataframe tbody tr th:only-of-type {\n        vertical-align: middle;\n    }\n\n    .dataframe tbody tr th {\n        vertical-align: top;\n    }\n\n    .dataframe thead th {\n        text-align: right;\n    }\n</style>\n<table border=\"1\" class=\"dataframe\">\n  <thead>\n    <tr style=\"text-align: right;\">\n      <th></th>\n      <th>gender</th>\n      <th>car</th>\n      <th>reality</th>\n      <th>FLAG_MOBIL</th>\n      <th>work_phone</th>\n      <th>phone</th>\n      <th>email</th>\n    </tr>\n  </thead>\n  <tbody>\n    <tr>\n      <th>0</th>\n      <td>F</td>\n      <td>N</td>\n      <td>N</td>\n      <td>1</td>\n      <td>0</td>\n      <td>0</td>\n      <td>0</td>\n    </tr>\n    <tr>\n      <th>1</th>\n      <td>F</td>\n      <td>N</td>\n      <td>Y</td>\n      <td>1</td>\n      <td>0</td>\n      <td>0</td>\n      <td>1</td>\n    </tr>\n    <tr>\n      <th>2</th>\n      <td>M</td>\n      <td>Y</td>\n      <td>Y</td>\n      <td>1</td>\n      <td>0</td>\n      <td>1</td>\n      <td>0</td>\n    </tr>\n    <tr>\n      <th>3</th>\n      <td>F</td>\n      <td>N</td>\n      <td>Y</td>\n      <td>1</td>\n      <td>0</td>\n      <td>1</td>\n      <td>0</td>\n    </tr>\n    <tr>\n      <th>4</th>\n      <td>F</td>\n      <td>Y</td>\n      <td>Y</td>\n      <td>1</td>\n      <td>0</td>\n      <td>0</td>\n      <td>0</td>\n    </tr>\n    <tr>\n      <th>...</th>\n      <td>...</td>\n      <td>...</td>\n      <td>...</td>\n      <td>...</td>\n      <td>...</td>\n      <td>...</td>\n      <td>...</td>\n    </tr>\n    <tr>\n      <th>26452</th>\n      <td>F</td>\n      <td>N</td>\n      <td>N</td>\n      <td>1</td>\n      <td>0</td>\n      <td>0</td>\n      <td>0</td>\n    </tr>\n    <tr>\n      <th>26453</th>\n      <td>F</td>\n      <td>N</td>\n      <td>Y</td>\n      <td>1</td>\n      <td>0</td>\n      <td>0</td>\n      <td>0</td>\n    </tr>\n    <tr>\n      <th>26454</th>\n      <td>F</td>\n      <td>Y</td>\n      <td>N</td>\n      <td>1</td>\n      <td>0</td>\n      <td>0</td>\n      <td>0</td>\n    </tr>\n    <tr>\n      <th>26455</th>\n      <td>M</td>\n      <td>N</td>\n      <td>Y</td>\n      <td>1</td>\n      <td>0</td>\n      <td>0</td>\n      <td>0</td>\n    </tr>\n    <tr>\n      <th>26456</th>\n      <td>F</td>\n      <td>N</td>\n      <td>N</td>\n      <td>1</td>\n      <td>0</td>\n      <td>0</td>\n      <td>0</td>\n    </tr>\n  </tbody>\n</table>\n<p>26457 rows × 7 columns</p>\n</div>"
     },
     "metadata": {},
     "execution_count": 19
    }
   ],
   "source": [
    "train[group_1]"
   ]
  },
  {
   "cell_type": "code",
   "execution_count": 75,
   "metadata": {
    "colab": {
     "base_uri": "https://localhost:8080/"
    },
    "executionInfo": {
     "elapsed": 3546,
     "status": "ok",
     "timestamp": 1617445514510,
     "user": {
      "displayName": "youtube dacon",
      "photoUrl": "",
      "userId": "00770885000471893693"
     },
     "user_tz": -540
    },
    "id": "z-8g1ZERZWGp",
    "outputId": "c1c22793-9633-46f2-f6de-922ee7652bd5"
   },
   "outputs": [
    {
     "output_type": "execute_result",
     "data": {
      "text/plain": [
       "array(['F', 'M'], dtype=object)"
      ]
     },
     "metadata": {},
     "execution_count": 75
    }
   ],
   "source": [
    "train['gender'].unique()"
   ]
  },
  {
   "cell_type": "code",
   "execution_count": 22,
   "metadata": {
    "colab": {
     "base_uri": "https://localhost:8080/"
    },
    "executionInfo": {
     "elapsed": 3532,
     "status": "ok",
     "timestamp": 1617445514511,
     "user": {
      "displayName": "youtube dacon",
      "photoUrl": "",
      "userId": "00770885000471893693"
     },
     "user_tz": -540
    },
    "id": "jZNrLl9IIwFk",
    "outputId": "7e69c6bd-c782-476b-b394-2b60be94d655"
   },
   "outputs": [
    {
     "output_type": "execute_result",
     "data": {
      "text/plain": [
       "0        F\n",
       "1        F\n",
       "2        M\n",
       "3        F\n",
       "4        F\n",
       "        ..\n",
       "26452    F\n",
       "26453    F\n",
       "26454    F\n",
       "26455    M\n",
       "26456    F\n",
       "Name: gender, Length: 26457, dtype: object"
      ]
     },
     "metadata": {},
     "execution_count": 22
    }
   ],
   "source": [
    "train['gender']"
   ]
  },
  {
   "cell_type": "code",
   "execution_count": 23,
   "metadata": {
    "executionInfo": {
     "elapsed": 3521,
     "status": "ok",
     "timestamp": 1617445514512,
     "user": {
      "displayName": "youtube dacon",
      "photoUrl": "",
      "userId": "00770885000471893693"
     },
     "user_tz": -540
    },
    "id": "k67KqEL8ZWEI"
   },
   "outputs": [],
   "source": [
    "train['gender'] = train['gender'].replace(['F','M'], [0,  1])\n",
    "test['gender'] = test['gender'].replace(['F','M'], [0,  1])"
   ]
  },
  {
   "cell_type": "code",
   "execution_count": 24,
   "metadata": {
    "colab": {
     "base_uri": "https://localhost:8080/"
    },
    "executionInfo": {
     "elapsed": 3511,
     "status": "ok",
     "timestamp": 1617445514514,
     "user": {
      "displayName": "youtube dacon",
      "photoUrl": "",
      "userId": "00770885000471893693"
     },
     "user_tz": -540
    },
    "id": "cd0SokncZWBz",
    "outputId": "2b07f36f-fcae-4fdf-ab99-1fe5f42ded12"
   },
   "outputs": [
    {
     "output_type": "execute_result",
     "data": {
      "text/plain": [
       "0        0\n",
       "1        0\n",
       "2        1\n",
       "3        0\n",
       "4        0\n",
       "        ..\n",
       "26452    0\n",
       "26453    0\n",
       "26454    0\n",
       "26455    1\n",
       "26456    0\n",
       "Name: gender, Length: 26457, dtype: int64"
      ]
     },
     "metadata": {},
     "execution_count": 24
    }
   ],
   "source": [
    "train['gender']"
   ]
  },
  {
   "cell_type": "code",
   "execution_count": 25,
   "metadata": {
    "colab": {
     "base_uri": "https://localhost:8080/",
     "height": 415
    },
    "executionInfo": {
     "elapsed": 3498,
     "status": "ok",
     "timestamp": 1617445514515,
     "user": {
      "displayName": "youtube dacon",
      "photoUrl": "",
      "userId": "00770885000471893693"
     },
     "user_tz": -540
    },
    "id": "-dfo4cI5ZV_p",
    "outputId": "bc4db80b-c79f-41c0-fded-a43f4055b3ac"
   },
   "outputs": [
    {
     "output_type": "execute_result",
     "data": {
      "text/plain": [
       "       gender car reality  FLAG_MOBIL  work_phone  phone  email\n",
       "0           0   N       N           1           0      0      0\n",
       "1           0   N       Y           1           0      0      1\n",
       "2           1   Y       Y           1           0      1      0\n",
       "3           0   N       Y           1           0      1      0\n",
       "4           0   Y       Y           1           0      0      0\n",
       "...       ...  ..     ...         ...         ...    ...    ...\n",
       "26452       0   N       N           1           0      0      0\n",
       "26453       0   N       Y           1           0      0      0\n",
       "26454       0   Y       N           1           0      0      0\n",
       "26455       1   N       Y           1           0      0      0\n",
       "26456       0   N       N           1           0      0      0\n",
       "\n",
       "[26457 rows x 7 columns]"
      ],
      "text/html": "<div>\n<style scoped>\n    .dataframe tbody tr th:only-of-type {\n        vertical-align: middle;\n    }\n\n    .dataframe tbody tr th {\n        vertical-align: top;\n    }\n\n    .dataframe thead th {\n        text-align: right;\n    }\n</style>\n<table border=\"1\" class=\"dataframe\">\n  <thead>\n    <tr style=\"text-align: right;\">\n      <th></th>\n      <th>gender</th>\n      <th>car</th>\n      <th>reality</th>\n      <th>FLAG_MOBIL</th>\n      <th>work_phone</th>\n      <th>phone</th>\n      <th>email</th>\n    </tr>\n  </thead>\n  <tbody>\n    <tr>\n      <th>0</th>\n      <td>0</td>\n      <td>N</td>\n      <td>N</td>\n      <td>1</td>\n      <td>0</td>\n      <td>0</td>\n      <td>0</td>\n    </tr>\n    <tr>\n      <th>1</th>\n      <td>0</td>\n      <td>N</td>\n      <td>Y</td>\n      <td>1</td>\n      <td>0</td>\n      <td>0</td>\n      <td>1</td>\n    </tr>\n    <tr>\n      <th>2</th>\n      <td>1</td>\n      <td>Y</td>\n      <td>Y</td>\n      <td>1</td>\n      <td>0</td>\n      <td>1</td>\n      <td>0</td>\n    </tr>\n    <tr>\n      <th>3</th>\n      <td>0</td>\n      <td>N</td>\n      <td>Y</td>\n      <td>1</td>\n      <td>0</td>\n      <td>1</td>\n      <td>0</td>\n    </tr>\n    <tr>\n      <th>4</th>\n      <td>0</td>\n      <td>Y</td>\n      <td>Y</td>\n      <td>1</td>\n      <td>0</td>\n      <td>0</td>\n      <td>0</td>\n    </tr>\n    <tr>\n      <th>...</th>\n      <td>...</td>\n      <td>...</td>\n      <td>...</td>\n      <td>...</td>\n      <td>...</td>\n      <td>...</td>\n      <td>...</td>\n    </tr>\n    <tr>\n      <th>26452</th>\n      <td>0</td>\n      <td>N</td>\n      <td>N</td>\n      <td>1</td>\n      <td>0</td>\n      <td>0</td>\n      <td>0</td>\n    </tr>\n    <tr>\n      <th>26453</th>\n      <td>0</td>\n      <td>N</td>\n      <td>Y</td>\n      <td>1</td>\n      <td>0</td>\n      <td>0</td>\n      <td>0</td>\n    </tr>\n    <tr>\n      <th>26454</th>\n      <td>0</td>\n      <td>Y</td>\n      <td>N</td>\n      <td>1</td>\n      <td>0</td>\n      <td>0</td>\n      <td>0</td>\n    </tr>\n    <tr>\n      <th>26455</th>\n      <td>1</td>\n      <td>N</td>\n      <td>Y</td>\n      <td>1</td>\n      <td>0</td>\n      <td>0</td>\n      <td>0</td>\n    </tr>\n    <tr>\n      <th>26456</th>\n      <td>0</td>\n      <td>N</td>\n      <td>N</td>\n      <td>1</td>\n      <td>0</td>\n      <td>0</td>\n      <td>0</td>\n    </tr>\n  </tbody>\n</table>\n<p>26457 rows × 7 columns</p>\n</div>"
     },
     "metadata": {},
     "execution_count": 25
    }
   ],
   "source": [
    "train[group_1]"
   ]
  },
  {
   "cell_type": "code",
   "execution_count": 26,
   "metadata": {
    "colab": {
     "base_uri": "https://localhost:8080/"
    },
    "executionInfo": {
     "elapsed": 3479,
     "status": "ok",
     "timestamp": 1617445514516,
     "user": {
      "displayName": "youtube dacon",
      "photoUrl": "",
      "userId": "00770885000471893693"
     },
     "user_tz": -540
    },
    "id": "0ilxWm2fI-_F",
    "outputId": "8bd0d3fa-c6e3-47d9-8e9c-c21961236158"
   },
   "outputs": [
    {
     "output_type": "execute_result",
     "data": {
      "text/plain": [
       "array(['N', 'Y'], dtype=object)"
      ]
     },
     "metadata": {},
     "execution_count": 26
    }
   ],
   "source": [
    "train['car'].unique()"
   ]
  },
  {
   "cell_type": "code",
   "execution_count": 27,
   "metadata": {
    "executionInfo": {
     "elapsed": 3468,
     "status": "ok",
     "timestamp": 1617445514518,
     "user": {
      "displayName": "youtube dacon",
      "photoUrl": "",
      "userId": "00770885000471893693"
     },
     "user_tz": -540
    },
    "id": "A4CzaMyQZV9k"
   },
   "outputs": [],
   "source": [
    "train['car'] = train['car'].replace(['N', 'Y'], [0, 1])\n",
    "test['car'] = test['car'].replace(['N', 'Y'], [0, 1])"
   ]
  },
  {
   "cell_type": "code",
   "execution_count": 28,
   "metadata": {
    "colab": {
     "base_uri": "https://localhost:8080/",
     "height": 415
    },
    "executionInfo": {
     "elapsed": 3456,
     "status": "ok",
     "timestamp": 1617445514519,
     "user": {
      "displayName": "youtube dacon",
      "photoUrl": "",
      "userId": "00770885000471893693"
     },
     "user_tz": -540
    },
    "id": "Gw8GQXu1ZV7k",
    "outputId": "f1cee9b5-b4fa-4aca-f2c7-d70b3b1772d9"
   },
   "outputs": [
    {
     "output_type": "execute_result",
     "data": {
      "text/plain": [
       "       gender  car reality  FLAG_MOBIL  work_phone  phone  email\n",
       "0           0    0       N           1           0      0      0\n",
       "1           0    0       Y           1           0      0      1\n",
       "2           1    1       Y           1           0      1      0\n",
       "3           0    0       Y           1           0      1      0\n",
       "4           0    1       Y           1           0      0      0\n",
       "...       ...  ...     ...         ...         ...    ...    ...\n",
       "26452       0    0       N           1           0      0      0\n",
       "26453       0    0       Y           1           0      0      0\n",
       "26454       0    1       N           1           0      0      0\n",
       "26455       1    0       Y           1           0      0      0\n",
       "26456       0    0       N           1           0      0      0\n",
       "\n",
       "[26457 rows x 7 columns]"
      ],
      "text/html": "<div>\n<style scoped>\n    .dataframe tbody tr th:only-of-type {\n        vertical-align: middle;\n    }\n\n    .dataframe tbody tr th {\n        vertical-align: top;\n    }\n\n    .dataframe thead th {\n        text-align: right;\n    }\n</style>\n<table border=\"1\" class=\"dataframe\">\n  <thead>\n    <tr style=\"text-align: right;\">\n      <th></th>\n      <th>gender</th>\n      <th>car</th>\n      <th>reality</th>\n      <th>FLAG_MOBIL</th>\n      <th>work_phone</th>\n      <th>phone</th>\n      <th>email</th>\n    </tr>\n  </thead>\n  <tbody>\n    <tr>\n      <th>0</th>\n      <td>0</td>\n      <td>0</td>\n      <td>N</td>\n      <td>1</td>\n      <td>0</td>\n      <td>0</td>\n      <td>0</td>\n    </tr>\n    <tr>\n      <th>1</th>\n      <td>0</td>\n      <td>0</td>\n      <td>Y</td>\n      <td>1</td>\n      <td>0</td>\n      <td>0</td>\n      <td>1</td>\n    </tr>\n    <tr>\n      <th>2</th>\n      <td>1</td>\n      <td>1</td>\n      <td>Y</td>\n      <td>1</td>\n      <td>0</td>\n      <td>1</td>\n      <td>0</td>\n    </tr>\n    <tr>\n      <th>3</th>\n      <td>0</td>\n      <td>0</td>\n      <td>Y</td>\n      <td>1</td>\n      <td>0</td>\n      <td>1</td>\n      <td>0</td>\n    </tr>\n    <tr>\n      <th>4</th>\n      <td>0</td>\n      <td>1</td>\n      <td>Y</td>\n      <td>1</td>\n      <td>0</td>\n      <td>0</td>\n      <td>0</td>\n    </tr>\n    <tr>\n      <th>...</th>\n      <td>...</td>\n      <td>...</td>\n      <td>...</td>\n      <td>...</td>\n      <td>...</td>\n      <td>...</td>\n      <td>...</td>\n    </tr>\n    <tr>\n      <th>26452</th>\n      <td>0</td>\n      <td>0</td>\n      <td>N</td>\n      <td>1</td>\n      <td>0</td>\n      <td>0</td>\n      <td>0</td>\n    </tr>\n    <tr>\n      <th>26453</th>\n      <td>0</td>\n      <td>0</td>\n      <td>Y</td>\n      <td>1</td>\n      <td>0</td>\n      <td>0</td>\n      <td>0</td>\n    </tr>\n    <tr>\n      <th>26454</th>\n      <td>0</td>\n      <td>1</td>\n      <td>N</td>\n      <td>1</td>\n      <td>0</td>\n      <td>0</td>\n      <td>0</td>\n    </tr>\n    <tr>\n      <th>26455</th>\n      <td>1</td>\n      <td>0</td>\n      <td>Y</td>\n      <td>1</td>\n      <td>0</td>\n      <td>0</td>\n      <td>0</td>\n    </tr>\n    <tr>\n      <th>26456</th>\n      <td>0</td>\n      <td>0</td>\n      <td>N</td>\n      <td>1</td>\n      <td>0</td>\n      <td>0</td>\n      <td>0</td>\n    </tr>\n  </tbody>\n</table>\n<p>26457 rows × 7 columns</p>\n</div>"
     },
     "metadata": {},
     "execution_count": 28
    }
   ],
   "source": [
    "train[group_1]"
   ]
  },
  {
   "cell_type": "code",
   "execution_count": 29,
   "metadata": {
    "colab": {
     "base_uri": "https://localhost:8080/"
    },
    "executionInfo": {
     "elapsed": 3441,
     "status": "ok",
     "timestamp": 1617445514520,
     "user": {
      "displayName": "youtube dacon",
      "photoUrl": "",
      "userId": "00770885000471893693"
     },
     "user_tz": -540
    },
    "id": "_lO0ut6tZV5I",
    "outputId": "591b75f4-6cde-4e21-f43a-b8167b9322a5"
   },
   "outputs": [
    {
     "output_type": "execute_result",
     "data": {
      "text/plain": [
       "array(['N', 'Y'], dtype=object)"
      ]
     },
     "metadata": {},
     "execution_count": 29
    }
   ],
   "source": [
    "train['reality'].unique()"
   ]
  },
  {
   "cell_type": "code",
   "execution_count": 30,
   "metadata": {
    "executionInfo": {
     "elapsed": 3430,
     "status": "ok",
     "timestamp": 1617445514522,
     "user": {
      "displayName": "youtube dacon",
      "photoUrl": "",
      "userId": "00770885000471893693"
     },
     "user_tz": -540
    },
    "id": "P1ks4agdJI-A"
   },
   "outputs": [],
   "source": [
    "train['reality'] = train['reality'].replace(['N', 'Y'], [0, 1])\n",
    "test['reality'] = test['reality'].replace(['N', 'Y'], [0, 1])"
   ]
  },
  {
   "cell_type": "code",
   "execution_count": 31,
   "metadata": {
    "colab": {
     "base_uri": "https://localhost:8080/",
     "height": 415
    },
    "executionInfo": {
     "elapsed": 3419,
     "status": "ok",
     "timestamp": 1617445514523,
     "user": {
      "displayName": "youtube dacon",
      "photoUrl": "",
      "userId": "00770885000471893693"
     },
     "user_tz": -540
    },
    "id": "BMhmGDKnJL6q",
    "outputId": "8b3abcd3-9a7f-474a-b127-ec2e52de1915"
   },
   "outputs": [
    {
     "output_type": "execute_result",
     "data": {
      "text/plain": [
       "       gender  car  reality  FLAG_MOBIL  work_phone  phone  email\n",
       "0           0    0        0           1           0      0      0\n",
       "1           0    0        1           1           0      0      1\n",
       "2           1    1        1           1           0      1      0\n",
       "3           0    0        1           1           0      1      0\n",
       "4           0    1        1           1           0      0      0\n",
       "...       ...  ...      ...         ...         ...    ...    ...\n",
       "26452       0    0        0           1           0      0      0\n",
       "26453       0    0        1           1           0      0      0\n",
       "26454       0    1        0           1           0      0      0\n",
       "26455       1    0        1           1           0      0      0\n",
       "26456       0    0        0           1           0      0      0\n",
       "\n",
       "[26457 rows x 7 columns]"
      ],
      "text/html": "<div>\n<style scoped>\n    .dataframe tbody tr th:only-of-type {\n        vertical-align: middle;\n    }\n\n    .dataframe tbody tr th {\n        vertical-align: top;\n    }\n\n    .dataframe thead th {\n        text-align: right;\n    }\n</style>\n<table border=\"1\" class=\"dataframe\">\n  <thead>\n    <tr style=\"text-align: right;\">\n      <th></th>\n      <th>gender</th>\n      <th>car</th>\n      <th>reality</th>\n      <th>FLAG_MOBIL</th>\n      <th>work_phone</th>\n      <th>phone</th>\n      <th>email</th>\n    </tr>\n  </thead>\n  <tbody>\n    <tr>\n      <th>0</th>\n      <td>0</td>\n      <td>0</td>\n      <td>0</td>\n      <td>1</td>\n      <td>0</td>\n      <td>0</td>\n      <td>0</td>\n    </tr>\n    <tr>\n      <th>1</th>\n      <td>0</td>\n      <td>0</td>\n      <td>1</td>\n      <td>1</td>\n      <td>0</td>\n      <td>0</td>\n      <td>1</td>\n    </tr>\n    <tr>\n      <th>2</th>\n      <td>1</td>\n      <td>1</td>\n      <td>1</td>\n      <td>1</td>\n      <td>0</td>\n      <td>1</td>\n      <td>0</td>\n    </tr>\n    <tr>\n      <th>3</th>\n      <td>0</td>\n      <td>0</td>\n      <td>1</td>\n      <td>1</td>\n      <td>0</td>\n      <td>1</td>\n      <td>0</td>\n    </tr>\n    <tr>\n      <th>4</th>\n      <td>0</td>\n      <td>1</td>\n      <td>1</td>\n      <td>1</td>\n      <td>0</td>\n      <td>0</td>\n      <td>0</td>\n    </tr>\n    <tr>\n      <th>...</th>\n      <td>...</td>\n      <td>...</td>\n      <td>...</td>\n      <td>...</td>\n      <td>...</td>\n      <td>...</td>\n      <td>...</td>\n    </tr>\n    <tr>\n      <th>26452</th>\n      <td>0</td>\n      <td>0</td>\n      <td>0</td>\n      <td>1</td>\n      <td>0</td>\n      <td>0</td>\n      <td>0</td>\n    </tr>\n    <tr>\n      <th>26453</th>\n      <td>0</td>\n      <td>0</td>\n      <td>1</td>\n      <td>1</td>\n      <td>0</td>\n      <td>0</td>\n      <td>0</td>\n    </tr>\n    <tr>\n      <th>26454</th>\n      <td>0</td>\n      <td>1</td>\n      <td>0</td>\n      <td>1</td>\n      <td>0</td>\n      <td>0</td>\n      <td>0</td>\n    </tr>\n    <tr>\n      <th>26455</th>\n      <td>1</td>\n      <td>0</td>\n      <td>1</td>\n      <td>1</td>\n      <td>0</td>\n      <td>0</td>\n      <td>0</td>\n    </tr>\n    <tr>\n      <th>26456</th>\n      <td>0</td>\n      <td>0</td>\n      <td>0</td>\n      <td>1</td>\n      <td>0</td>\n      <td>0</td>\n      <td>0</td>\n    </tr>\n  </tbody>\n</table>\n<p>26457 rows × 7 columns</p>\n</div>"
     },
     "metadata": {},
     "execution_count": 31
    }
   ],
   "source": [
    "train[group_1]"
   ]
  },
  {
   "cell_type": "code",
   "execution_count": 32,
   "metadata": {
    "colab": {
     "base_uri": "https://localhost:8080/",
     "height": 415
    },
    "executionInfo": {
     "elapsed": 3405,
     "status": "ok",
     "timestamp": 1617445514525,
     "user": {
      "displayName": "youtube dacon",
      "photoUrl": "",
      "userId": "00770885000471893693"
     },
     "user_tz": -540
    },
    "id": "lrpImL_6JNq0",
    "outputId": "1a4b7900-a0fd-4bd3-a57a-fab907b869b9"
   },
   "outputs": [
    {
     "output_type": "execute_result",
     "data": {
      "text/plain": [
       "       child_num           income_type                       edu_type  \\\n",
       "0              0  Commercial associate               Higher education   \n",
       "1              1  Commercial associate  Secondary / secondary special   \n",
       "2              0               Working               Higher education   \n",
       "3              0  Commercial associate  Secondary / secondary special   \n",
       "4              0         State servant               Higher education   \n",
       "...          ...                   ...                            ...   \n",
       "26452          2         State servant  Secondary / secondary special   \n",
       "26453          1               Working               Higher education   \n",
       "26454          0               Working  Secondary / secondary special   \n",
       "26455          0               Working              Incomplete higher   \n",
       "26456          0               Working  Secondary / secondary special   \n",
       "\n",
       "                family_type           house_type  family_size  credit  \n",
       "0                   Married  Municipal apartment          2.0     1.0  \n",
       "1            Civil marriage    House / apartment          3.0     1.0  \n",
       "2                   Married    House / apartment          2.0     2.0  \n",
       "3                   Married    House / apartment          2.0     0.0  \n",
       "4                   Married    House / apartment          2.0     2.0  \n",
       "...                     ...                  ...          ...     ...  \n",
       "26452               Married    House / apartment          4.0     1.0  \n",
       "26453             Separated    House / apartment          2.0     2.0  \n",
       "26454        Civil marriage         With parents          2.0     2.0  \n",
       "26455  Single / not married    House / apartment          1.0     2.0  \n",
       "26456        Civil marriage    House / apartment          2.0     2.0  \n",
       "\n",
       "[26457 rows x 7 columns]"
      ],
      "text/html": "<div>\n<style scoped>\n    .dataframe tbody tr th:only-of-type {\n        vertical-align: middle;\n    }\n\n    .dataframe tbody tr th {\n        vertical-align: top;\n    }\n\n    .dataframe thead th {\n        text-align: right;\n    }\n</style>\n<table border=\"1\" class=\"dataframe\">\n  <thead>\n    <tr style=\"text-align: right;\">\n      <th></th>\n      <th>child_num</th>\n      <th>income_type</th>\n      <th>edu_type</th>\n      <th>family_type</th>\n      <th>house_type</th>\n      <th>family_size</th>\n      <th>credit</th>\n    </tr>\n  </thead>\n  <tbody>\n    <tr>\n      <th>0</th>\n      <td>0</td>\n      <td>Commercial associate</td>\n      <td>Higher education</td>\n      <td>Married</td>\n      <td>Municipal apartment</td>\n      <td>2.0</td>\n      <td>1.0</td>\n    </tr>\n    <tr>\n      <th>1</th>\n      <td>1</td>\n      <td>Commercial associate</td>\n      <td>Secondary / secondary special</td>\n      <td>Civil marriage</td>\n      <td>House / apartment</td>\n      <td>3.0</td>\n      <td>1.0</td>\n    </tr>\n    <tr>\n      <th>2</th>\n      <td>0</td>\n      <td>Working</td>\n      <td>Higher education</td>\n      <td>Married</td>\n      <td>House / apartment</td>\n      <td>2.0</td>\n      <td>2.0</td>\n    </tr>\n    <tr>\n      <th>3</th>\n      <td>0</td>\n      <td>Commercial associate</td>\n      <td>Secondary / secondary special</td>\n      <td>Married</td>\n      <td>House / apartment</td>\n      <td>2.0</td>\n      <td>0.0</td>\n    </tr>\n    <tr>\n      <th>4</th>\n      <td>0</td>\n      <td>State servant</td>\n      <td>Higher education</td>\n      <td>Married</td>\n      <td>House / apartment</td>\n      <td>2.0</td>\n      <td>2.0</td>\n    </tr>\n    <tr>\n      <th>...</th>\n      <td>...</td>\n      <td>...</td>\n      <td>...</td>\n      <td>...</td>\n      <td>...</td>\n      <td>...</td>\n      <td>...</td>\n    </tr>\n    <tr>\n      <th>26452</th>\n      <td>2</td>\n      <td>State servant</td>\n      <td>Secondary / secondary special</td>\n      <td>Married</td>\n      <td>House / apartment</td>\n      <td>4.0</td>\n      <td>1.0</td>\n    </tr>\n    <tr>\n      <th>26453</th>\n      <td>1</td>\n      <td>Working</td>\n      <td>Higher education</td>\n      <td>Separated</td>\n      <td>House / apartment</td>\n      <td>2.0</td>\n      <td>2.0</td>\n    </tr>\n    <tr>\n      <th>26454</th>\n      <td>0</td>\n      <td>Working</td>\n      <td>Secondary / secondary special</td>\n      <td>Civil marriage</td>\n      <td>With parents</td>\n      <td>2.0</td>\n      <td>2.0</td>\n    </tr>\n    <tr>\n      <th>26455</th>\n      <td>0</td>\n      <td>Working</td>\n      <td>Incomplete higher</td>\n      <td>Single / not married</td>\n      <td>House / apartment</td>\n      <td>1.0</td>\n      <td>2.0</td>\n    </tr>\n    <tr>\n      <th>26456</th>\n      <td>0</td>\n      <td>Working</td>\n      <td>Secondary / secondary special</td>\n      <td>Civil marriage</td>\n      <td>House / apartment</td>\n      <td>2.0</td>\n      <td>2.0</td>\n    </tr>\n  </tbody>\n</table>\n<p>26457 rows × 7 columns</p>\n</div>"
     },
     "metadata": {},
     "execution_count": 32
    }
   ],
   "source": [
    "train[group_2]"
   ]
  },
  {
   "cell_type": "code",
   "execution_count": 33,
   "metadata": {
    "colab": {
     "base_uri": "https://localhost:8080/",
     "height": 287
    },
    "executionInfo": {
     "elapsed": 4234,
     "status": "ok",
     "timestamp": 1617445515371,
     "user": {
      "displayName": "youtube dacon",
      "photoUrl": "",
      "userId": "00770885000471893693"
     },
     "user_tz": -540
    },
    "id": "AXlL5Q1WMfQc",
    "outputId": "00d2cfd4-a476-4663-95e2-6444c4635f14"
   },
   "outputs": [
    {
     "output_type": "execute_result",
     "data": {
      "text/plain": [
       "<AxesSubplot:>"
      ]
     },
     "metadata": {},
     "execution_count": 33
    },
    {
     "output_type": "display_data",
     "data": {
      "text/plain": "<Figure size 432x288 with 1 Axes>",
      "image/svg+xml": "<?xml version=\"1.0\" encoding=\"utf-8\" standalone=\"no\"?>\r\n<!DOCTYPE svg PUBLIC \"-//W3C//DTD SVG 1.1//EN\"\r\n  \"http://www.w3.org/Graphics/SVG/1.1/DTD/svg11.dtd\">\r\n<!-- Created with matplotlib (https://matplotlib.org/) -->\r\n<svg height=\"251.565pt\" version=\"1.1\" viewBox=\"0 0 388.0125 251.565\" width=\"388.0125pt\" xmlns=\"http://www.w3.org/2000/svg\" xmlns:xlink=\"http://www.w3.org/1999/xlink\">\r\n <metadata>\r\n  <rdf:RDF xmlns:cc=\"http://creativecommons.org/ns#\" xmlns:dc=\"http://purl.org/dc/elements/1.1/\" xmlns:rdf=\"http://www.w3.org/1999/02/22-rdf-syntax-ns#\">\r\n   <cc:Work>\r\n    <dc:type rdf:resource=\"http://purl.org/dc/dcmitype/StillImage\"/>\r\n    <dc:date>2021-04-21T12:40:05.563810</dc:date>\r\n    <dc:format>image/svg+xml</dc:format>\r\n    <dc:creator>\r\n     <cc:Agent>\r\n      <dc:title>Matplotlib v3.3.3, https://matplotlib.org/</dc:title>\r\n     </cc:Agent>\r\n    </dc:creator>\r\n   </cc:Work>\r\n  </rdf:RDF>\r\n </metadata>\r\n <defs>\r\n  <style type=\"text/css\">*{stroke-linecap:butt;stroke-linejoin:round;}</style>\r\n </defs>\r\n <g id=\"figure_1\">\r\n  <g id=\"patch_1\">\r\n   <path d=\"M 0 251.565 \r\nL 388.0125 251.565 \r\nL 388.0125 0 \r\nL 0 0 \r\nz\r\n\" style=\"fill:none;\"/>\r\n  </g>\r\n  <g id=\"axes_1\">\r\n   <g id=\"patch_2\">\r\n    <path d=\"M 46.0125 224.64 \r\nL 380.8125 224.64 \r\nL 380.8125 7.2 \r\nL 46.0125 7.2 \r\nz\r\n\" style=\"fill:#ffffff;\"/>\r\n   </g>\r\n   <g id=\"patch_3\">\r\n    <path clip-path=\"url(#pe49475195f)\" d=\"M 55.3125 224.64 \r\nL 73.9125 224.64 \r\nL 73.9125 17.554286 \r\nL 55.3125 17.554286 \r\nz\r\n\" style=\"fill:#1f77b4;\"/>\r\n   </g>\r\n   <g id=\"patch_4\">\r\n    <path clip-path=\"url(#pe49475195f)\" d=\"M 92.5125 224.64 \r\nL 111.1125 224.64 \r\nL 111.1125 163.824097 \r\nL 92.5125 163.824097 \r\nz\r\n\" style=\"fill:#1f77b4;\"/>\r\n   </g>\r\n   <g id=\"patch_5\">\r\n    <path clip-path=\"url(#pe49475195f)\" d=\"M 129.7125 224.64 \r\nL 148.3125 224.64 \r\nL 148.3125 197.969528 \r\nL 129.7125 197.969528 \r\nz\r\n\" style=\"fill:#1f77b4;\"/>\r\n   </g>\r\n   <g id=\"patch_6\">\r\n    <path clip-path=\"url(#pe49475195f)\" d=\"M 166.9125 224.64 \r\nL 185.5125 224.64 \r\nL 185.5125 221.184808 \r\nL 166.9125 221.184808 \r\nz\r\n\" style=\"fill:#1f77b4;\"/>\r\n   </g>\r\n   <g id=\"patch_7\">\r\n    <path clip-path=\"url(#pe49475195f)\" d=\"M 204.1125 224.64 \r\nL 222.7125 224.64 \r\nL 222.7125 224.109301 \r\nL 204.1125 224.109301 \r\nz\r\n\" style=\"fill:#1f77b4;\"/>\r\n   </g>\r\n   <g id=\"patch_8\">\r\n    <path clip-path=\"url(#pe49475195f)\" d=\"M 241.3125 224.64 \r\nL 259.9125 224.64 \r\nL 259.9125 224.527085 \r\nL 241.3125 224.527085 \r\nz\r\n\" style=\"fill:#1f77b4;\"/>\r\n   </g>\r\n   <g id=\"patch_9\">\r\n    <path clip-path=\"url(#pe49475195f)\" d=\"M 278.5125 224.64 \r\nL 297.1125 224.64 \r\nL 297.1125 224.606126 \r\nL 278.5125 224.606126 \r\nz\r\n\" style=\"fill:#1f77b4;\"/>\r\n   </g>\r\n   <g id=\"patch_10\">\r\n    <path clip-path=\"url(#pe49475195f)\" d=\"M 315.7125 224.64 \r\nL 334.3125 224.64 \r\nL 334.3125 224.617417 \r\nL 315.7125 224.617417 \r\nz\r\n\" style=\"fill:#1f77b4;\"/>\r\n   </g>\r\n   <g id=\"patch_11\">\r\n    <path clip-path=\"url(#pe49475195f)\" d=\"M 352.9125 224.64 \r\nL 371.5125 224.64 \r\nL 371.5125 224.628709 \r\nL 352.9125 224.628709 \r\nz\r\n\" style=\"fill:#1f77b4;\"/>\r\n   </g>\r\n   <g id=\"matplotlib.axis_1\">\r\n    <g id=\"xtick_1\">\r\n     <g id=\"line2d_1\">\r\n      <defs>\r\n       <path d=\"M 0 0 \r\nL 0 3.5 \r\n\" id=\"mb2e8d4aa6c\" style=\"stroke:#000000;stroke-width:0.8;\"/>\r\n      </defs>\r\n      <g>\r\n       <use style=\"stroke:#000000;stroke-width:0.8;\" x=\"64.6125\" xlink:href=\"#mb2e8d4aa6c\" y=\"224.64\"/>\r\n      </g>\r\n     </g>\r\n     <g id=\"text_1\">\r\n      <!-- 0 -->\r\n      <g transform=\"translate(67.371875 238.0025)rotate(-90)scale(0.1 -0.1)\">\r\n       <defs>\r\n        <path d=\"M 31.78125 66.40625 \r\nQ 24.171875 66.40625 20.328125 58.90625 \r\nQ 16.5 51.421875 16.5 36.375 \r\nQ 16.5 21.390625 20.328125 13.890625 \r\nQ 24.171875 6.390625 31.78125 6.390625 \r\nQ 39.453125 6.390625 43.28125 13.890625 \r\nQ 47.125 21.390625 47.125 36.375 \r\nQ 47.125 51.421875 43.28125 58.90625 \r\nQ 39.453125 66.40625 31.78125 66.40625 \r\nz\r\nM 31.78125 74.21875 \r\nQ 44.046875 74.21875 50.515625 64.515625 \r\nQ 56.984375 54.828125 56.984375 36.375 \r\nQ 56.984375 17.96875 50.515625 8.265625 \r\nQ 44.046875 -1.421875 31.78125 -1.421875 \r\nQ 19.53125 -1.421875 13.0625 8.265625 \r\nQ 6.59375 17.96875 6.59375 36.375 \r\nQ 6.59375 54.828125 13.0625 64.515625 \r\nQ 19.53125 74.21875 31.78125 74.21875 \r\nz\r\n\" id=\"DejaVuSans-48\"/>\r\n       </defs>\r\n       <use xlink:href=\"#DejaVuSans-48\"/>\r\n      </g>\r\n     </g>\r\n    </g>\r\n    <g id=\"xtick_2\">\r\n     <g id=\"line2d_2\">\r\n      <g>\r\n       <use style=\"stroke:#000000;stroke-width:0.8;\" x=\"101.8125\" xlink:href=\"#mb2e8d4aa6c\" y=\"224.64\"/>\r\n      </g>\r\n     </g>\r\n     <g id=\"text_2\">\r\n      <!-- 1 -->\r\n      <g transform=\"translate(104.571875 238.0025)rotate(-90)scale(0.1 -0.1)\">\r\n       <defs>\r\n        <path d=\"M 12.40625 8.296875 \r\nL 28.515625 8.296875 \r\nL 28.515625 63.921875 \r\nL 10.984375 60.40625 \r\nL 10.984375 69.390625 \r\nL 28.421875 72.90625 \r\nL 38.28125 72.90625 \r\nL 38.28125 8.296875 \r\nL 54.390625 8.296875 \r\nL 54.390625 0 \r\nL 12.40625 0 \r\nz\r\n\" id=\"DejaVuSans-49\"/>\r\n       </defs>\r\n       <use xlink:href=\"#DejaVuSans-49\"/>\r\n      </g>\r\n     </g>\r\n    </g>\r\n    <g id=\"xtick_3\">\r\n     <g id=\"line2d_3\">\r\n      <g>\r\n       <use style=\"stroke:#000000;stroke-width:0.8;\" x=\"139.0125\" xlink:href=\"#mb2e8d4aa6c\" y=\"224.64\"/>\r\n      </g>\r\n     </g>\r\n     <g id=\"text_3\">\r\n      <!-- 2 -->\r\n      <g transform=\"translate(141.771875 238.0025)rotate(-90)scale(0.1 -0.1)\">\r\n       <defs>\r\n        <path d=\"M 19.1875 8.296875 \r\nL 53.609375 8.296875 \r\nL 53.609375 0 \r\nL 7.328125 0 \r\nL 7.328125 8.296875 \r\nQ 12.9375 14.109375 22.625 23.890625 \r\nQ 32.328125 33.6875 34.8125 36.53125 \r\nQ 39.546875 41.84375 41.421875 45.53125 \r\nQ 43.3125 49.21875 43.3125 52.78125 \r\nQ 43.3125 58.59375 39.234375 62.25 \r\nQ 35.15625 65.921875 28.609375 65.921875 \r\nQ 23.96875 65.921875 18.8125 64.3125 \r\nQ 13.671875 62.703125 7.8125 59.421875 \r\nL 7.8125 69.390625 \r\nQ 13.765625 71.78125 18.9375 73 \r\nQ 24.125 74.21875 28.421875 74.21875 \r\nQ 39.75 74.21875 46.484375 68.546875 \r\nQ 53.21875 62.890625 53.21875 53.421875 \r\nQ 53.21875 48.921875 51.53125 44.890625 \r\nQ 49.859375 40.875 45.40625 35.40625 \r\nQ 44.1875 33.984375 37.640625 27.21875 \r\nQ 31.109375 20.453125 19.1875 8.296875 \r\nz\r\n\" id=\"DejaVuSans-50\"/>\r\n       </defs>\r\n       <use xlink:href=\"#DejaVuSans-50\"/>\r\n      </g>\r\n     </g>\r\n    </g>\r\n    <g id=\"xtick_4\">\r\n     <g id=\"line2d_4\">\r\n      <g>\r\n       <use style=\"stroke:#000000;stroke-width:0.8;\" x=\"176.2125\" xlink:href=\"#mb2e8d4aa6c\" y=\"224.64\"/>\r\n      </g>\r\n     </g>\r\n     <g id=\"text_4\">\r\n      <!-- 3 -->\r\n      <g transform=\"translate(178.971875 238.0025)rotate(-90)scale(0.1 -0.1)\">\r\n       <defs>\r\n        <path d=\"M 40.578125 39.3125 \r\nQ 47.65625 37.796875 51.625 33 \r\nQ 55.609375 28.21875 55.609375 21.1875 \r\nQ 55.609375 10.40625 48.1875 4.484375 \r\nQ 40.765625 -1.421875 27.09375 -1.421875 \r\nQ 22.515625 -1.421875 17.65625 -0.515625 \r\nQ 12.796875 0.390625 7.625 2.203125 \r\nL 7.625 11.71875 \r\nQ 11.71875 9.328125 16.59375 8.109375 \r\nQ 21.484375 6.890625 26.8125 6.890625 \r\nQ 36.078125 6.890625 40.9375 10.546875 \r\nQ 45.796875 14.203125 45.796875 21.1875 \r\nQ 45.796875 27.640625 41.28125 31.265625 \r\nQ 36.765625 34.90625 28.71875 34.90625 \r\nL 20.21875 34.90625 \r\nL 20.21875 43.015625 \r\nL 29.109375 43.015625 \r\nQ 36.375 43.015625 40.234375 45.921875 \r\nQ 44.09375 48.828125 44.09375 54.296875 \r\nQ 44.09375 59.90625 40.109375 62.90625 \r\nQ 36.140625 65.921875 28.71875 65.921875 \r\nQ 24.65625 65.921875 20.015625 65.03125 \r\nQ 15.375 64.15625 9.8125 62.3125 \r\nL 9.8125 71.09375 \r\nQ 15.4375 72.65625 20.34375 73.4375 \r\nQ 25.25 74.21875 29.59375 74.21875 \r\nQ 40.828125 74.21875 47.359375 69.109375 \r\nQ 53.90625 64.015625 53.90625 55.328125 \r\nQ 53.90625 49.265625 50.4375 45.09375 \r\nQ 46.96875 40.921875 40.578125 39.3125 \r\nz\r\n\" id=\"DejaVuSans-51\"/>\r\n       </defs>\r\n       <use xlink:href=\"#DejaVuSans-51\"/>\r\n      </g>\r\n     </g>\r\n    </g>\r\n    <g id=\"xtick_5\">\r\n     <g id=\"line2d_5\">\r\n      <g>\r\n       <use style=\"stroke:#000000;stroke-width:0.8;\" x=\"213.4125\" xlink:href=\"#mb2e8d4aa6c\" y=\"224.64\"/>\r\n      </g>\r\n     </g>\r\n     <g id=\"text_5\">\r\n      <!-- 4 -->\r\n      <g transform=\"translate(216.171875 238.0025)rotate(-90)scale(0.1 -0.1)\">\r\n       <defs>\r\n        <path d=\"M 37.796875 64.3125 \r\nL 12.890625 25.390625 \r\nL 37.796875 25.390625 \r\nz\r\nM 35.203125 72.90625 \r\nL 47.609375 72.90625 \r\nL 47.609375 25.390625 \r\nL 58.015625 25.390625 \r\nL 58.015625 17.1875 \r\nL 47.609375 17.1875 \r\nL 47.609375 0 \r\nL 37.796875 0 \r\nL 37.796875 17.1875 \r\nL 4.890625 17.1875 \r\nL 4.890625 26.703125 \r\nz\r\n\" id=\"DejaVuSans-52\"/>\r\n       </defs>\r\n       <use xlink:href=\"#DejaVuSans-52\"/>\r\n      </g>\r\n     </g>\r\n    </g>\r\n    <g id=\"xtick_6\">\r\n     <g id=\"line2d_6\">\r\n      <g>\r\n       <use style=\"stroke:#000000;stroke-width:0.8;\" x=\"250.6125\" xlink:href=\"#mb2e8d4aa6c\" y=\"224.64\"/>\r\n      </g>\r\n     </g>\r\n     <g id=\"text_6\">\r\n      <!-- 5 -->\r\n      <g transform=\"translate(253.371875 238.0025)rotate(-90)scale(0.1 -0.1)\">\r\n       <defs>\r\n        <path d=\"M 10.796875 72.90625 \r\nL 49.515625 72.90625 \r\nL 49.515625 64.59375 \r\nL 19.828125 64.59375 \r\nL 19.828125 46.734375 \r\nQ 21.96875 47.46875 24.109375 47.828125 \r\nQ 26.265625 48.1875 28.421875 48.1875 \r\nQ 40.625 48.1875 47.75 41.5 \r\nQ 54.890625 34.8125 54.890625 23.390625 \r\nQ 54.890625 11.625 47.5625 5.09375 \r\nQ 40.234375 -1.421875 26.90625 -1.421875 \r\nQ 22.3125 -1.421875 17.546875 -0.640625 \r\nQ 12.796875 0.140625 7.71875 1.703125 \r\nL 7.71875 11.625 \r\nQ 12.109375 9.234375 16.796875 8.0625 \r\nQ 21.484375 6.890625 26.703125 6.890625 \r\nQ 35.15625 6.890625 40.078125 11.328125 \r\nQ 45.015625 15.765625 45.015625 23.390625 \r\nQ 45.015625 31 40.078125 35.4375 \r\nQ 35.15625 39.890625 26.703125 39.890625 \r\nQ 22.75 39.890625 18.8125 39.015625 \r\nQ 14.890625 38.140625 10.796875 36.28125 \r\nz\r\n\" id=\"DejaVuSans-53\"/>\r\n       </defs>\r\n       <use xlink:href=\"#DejaVuSans-53\"/>\r\n      </g>\r\n     </g>\r\n    </g>\r\n    <g id=\"xtick_7\">\r\n     <g id=\"line2d_7\">\r\n      <g>\r\n       <use style=\"stroke:#000000;stroke-width:0.8;\" x=\"287.8125\" xlink:href=\"#mb2e8d4aa6c\" y=\"224.64\"/>\r\n      </g>\r\n     </g>\r\n     <g id=\"text_7\">\r\n      <!-- 14 -->\r\n      <g transform=\"translate(290.571875 244.365)rotate(-90)scale(0.1 -0.1)\">\r\n       <use xlink:href=\"#DejaVuSans-49\"/>\r\n       <use x=\"63.623047\" xlink:href=\"#DejaVuSans-52\"/>\r\n      </g>\r\n     </g>\r\n    </g>\r\n    <g id=\"xtick_8\">\r\n     <g id=\"line2d_8\">\r\n      <g>\r\n       <use style=\"stroke:#000000;stroke-width:0.8;\" x=\"325.0125\" xlink:href=\"#mb2e8d4aa6c\" y=\"224.64\"/>\r\n      </g>\r\n     </g>\r\n     <g id=\"text_8\">\r\n      <!-- 7 -->\r\n      <g transform=\"translate(327.771875 238.0025)rotate(-90)scale(0.1 -0.1)\">\r\n       <defs>\r\n        <path d=\"M 8.203125 72.90625 \r\nL 55.078125 72.90625 \r\nL 55.078125 68.703125 \r\nL 28.609375 0 \r\nL 18.3125 0 \r\nL 43.21875 64.59375 \r\nL 8.203125 64.59375 \r\nz\r\n\" id=\"DejaVuSans-55\"/>\r\n       </defs>\r\n       <use xlink:href=\"#DejaVuSans-55\"/>\r\n      </g>\r\n     </g>\r\n    </g>\r\n    <g id=\"xtick_9\">\r\n     <g id=\"line2d_9\">\r\n      <g>\r\n       <use style=\"stroke:#000000;stroke-width:0.8;\" x=\"362.2125\" xlink:href=\"#mb2e8d4aa6c\" y=\"224.64\"/>\r\n      </g>\r\n     </g>\r\n     <g id=\"text_9\">\r\n      <!-- 19 -->\r\n      <g transform=\"translate(364.971875 244.365)rotate(-90)scale(0.1 -0.1)\">\r\n       <defs>\r\n        <path d=\"M 10.984375 1.515625 \r\nL 10.984375 10.5 \r\nQ 14.703125 8.734375 18.5 7.8125 \r\nQ 22.3125 6.890625 25.984375 6.890625 \r\nQ 35.75 6.890625 40.890625 13.453125 \r\nQ 46.046875 20.015625 46.78125 33.40625 \r\nQ 43.953125 29.203125 39.59375 26.953125 \r\nQ 35.25 24.703125 29.984375 24.703125 \r\nQ 19.046875 24.703125 12.671875 31.3125 \r\nQ 6.296875 37.9375 6.296875 49.421875 \r\nQ 6.296875 60.640625 12.9375 67.421875 \r\nQ 19.578125 74.21875 30.609375 74.21875 \r\nQ 43.265625 74.21875 49.921875 64.515625 \r\nQ 56.59375 54.828125 56.59375 36.375 \r\nQ 56.59375 19.140625 48.40625 8.859375 \r\nQ 40.234375 -1.421875 26.421875 -1.421875 \r\nQ 22.703125 -1.421875 18.890625 -0.6875 \r\nQ 15.09375 0.046875 10.984375 1.515625 \r\nz\r\nM 30.609375 32.421875 \r\nQ 37.25 32.421875 41.125 36.953125 \r\nQ 45.015625 41.5 45.015625 49.421875 \r\nQ 45.015625 57.28125 41.125 61.84375 \r\nQ 37.25 66.40625 30.609375 66.40625 \r\nQ 23.96875 66.40625 20.09375 61.84375 \r\nQ 16.21875 57.28125 16.21875 49.421875 \r\nQ 16.21875 41.5 20.09375 36.953125 \r\nQ 23.96875 32.421875 30.609375 32.421875 \r\nz\r\n\" id=\"DejaVuSans-57\"/>\r\n       </defs>\r\n       <use xlink:href=\"#DejaVuSans-49\"/>\r\n       <use x=\"63.623047\" xlink:href=\"#DejaVuSans-57\"/>\r\n      </g>\r\n     </g>\r\n    </g>\r\n   </g>\r\n   <g id=\"matplotlib.axis_2\">\r\n    <g id=\"ytick_1\">\r\n     <g id=\"line2d_10\">\r\n      <defs>\r\n       <path d=\"M 0 0 \r\nL -3.5 0 \r\n\" id=\"m6ccb190f05\" style=\"stroke:#000000;stroke-width:0.8;\"/>\r\n      </defs>\r\n      <g>\r\n       <use style=\"stroke:#000000;stroke-width:0.8;\" x=\"46.0125\" xlink:href=\"#m6ccb190f05\" y=\"224.64\"/>\r\n      </g>\r\n     </g>\r\n     <g id=\"text_10\">\r\n      <!-- 0 -->\r\n      <g transform=\"translate(32.65 228.439219)scale(0.1 -0.1)\">\r\n       <use xlink:href=\"#DejaVuSans-48\"/>\r\n      </g>\r\n     </g>\r\n    </g>\r\n    <g id=\"ytick_2\">\r\n     <g id=\"line2d_11\">\r\n      <g>\r\n       <use style=\"stroke:#000000;stroke-width:0.8;\" x=\"46.0125\" xlink:href=\"#m6ccb190f05\" y=\"196.411304\"/>\r\n      </g>\r\n     </g>\r\n     <g id=\"text_11\">\r\n      <!-- 2500 -->\r\n      <g transform=\"translate(13.5625 200.210523)scale(0.1 -0.1)\">\r\n       <use xlink:href=\"#DejaVuSans-50\"/>\r\n       <use x=\"63.623047\" xlink:href=\"#DejaVuSans-53\"/>\r\n       <use x=\"127.246094\" xlink:href=\"#DejaVuSans-48\"/>\r\n       <use x=\"190.869141\" xlink:href=\"#DejaVuSans-48\"/>\r\n      </g>\r\n     </g>\r\n    </g>\r\n    <g id=\"ytick_3\">\r\n     <g id=\"line2d_12\">\r\n      <g>\r\n       <use style=\"stroke:#000000;stroke-width:0.8;\" x=\"46.0125\" xlink:href=\"#m6ccb190f05\" y=\"168.182608\"/>\r\n      </g>\r\n     </g>\r\n     <g id=\"text_12\">\r\n      <!-- 5000 -->\r\n      <g transform=\"translate(13.5625 171.981827)scale(0.1 -0.1)\">\r\n       <use xlink:href=\"#DejaVuSans-53\"/>\r\n       <use x=\"63.623047\" xlink:href=\"#DejaVuSans-48\"/>\r\n       <use x=\"127.246094\" xlink:href=\"#DejaVuSans-48\"/>\r\n       <use x=\"190.869141\" xlink:href=\"#DejaVuSans-48\"/>\r\n      </g>\r\n     </g>\r\n    </g>\r\n    <g id=\"ytick_4\">\r\n     <g id=\"line2d_13\">\r\n      <g>\r\n       <use style=\"stroke:#000000;stroke-width:0.8;\" x=\"46.0125\" xlink:href=\"#m6ccb190f05\" y=\"139.953912\"/>\r\n      </g>\r\n     </g>\r\n     <g id=\"text_13\">\r\n      <!-- 7500 -->\r\n      <g transform=\"translate(13.5625 143.753131)scale(0.1 -0.1)\">\r\n       <use xlink:href=\"#DejaVuSans-55\"/>\r\n       <use x=\"63.623047\" xlink:href=\"#DejaVuSans-53\"/>\r\n       <use x=\"127.246094\" xlink:href=\"#DejaVuSans-48\"/>\r\n       <use x=\"190.869141\" xlink:href=\"#DejaVuSans-48\"/>\r\n      </g>\r\n     </g>\r\n    </g>\r\n    <g id=\"ytick_5\">\r\n     <g id=\"line2d_14\">\r\n      <g>\r\n       <use style=\"stroke:#000000;stroke-width:0.8;\" x=\"46.0125\" xlink:href=\"#m6ccb190f05\" y=\"111.725216\"/>\r\n      </g>\r\n     </g>\r\n     <g id=\"text_14\">\r\n      <!-- 10000 -->\r\n      <g transform=\"translate(7.2 115.524435)scale(0.1 -0.1)\">\r\n       <use xlink:href=\"#DejaVuSans-49\"/>\r\n       <use x=\"63.623047\" xlink:href=\"#DejaVuSans-48\"/>\r\n       <use x=\"127.246094\" xlink:href=\"#DejaVuSans-48\"/>\r\n       <use x=\"190.869141\" xlink:href=\"#DejaVuSans-48\"/>\r\n       <use x=\"254.492188\" xlink:href=\"#DejaVuSans-48\"/>\r\n      </g>\r\n     </g>\r\n    </g>\r\n    <g id=\"ytick_6\">\r\n     <g id=\"line2d_15\">\r\n      <g>\r\n       <use style=\"stroke:#000000;stroke-width:0.8;\" x=\"46.0125\" xlink:href=\"#m6ccb190f05\" y=\"83.49652\"/>\r\n      </g>\r\n     </g>\r\n     <g id=\"text_15\">\r\n      <!-- 12500 -->\r\n      <g transform=\"translate(7.2 87.295738)scale(0.1 -0.1)\">\r\n       <use xlink:href=\"#DejaVuSans-49\"/>\r\n       <use x=\"63.623047\" xlink:href=\"#DejaVuSans-50\"/>\r\n       <use x=\"127.246094\" xlink:href=\"#DejaVuSans-53\"/>\r\n       <use x=\"190.869141\" xlink:href=\"#DejaVuSans-48\"/>\r\n       <use x=\"254.492188\" xlink:href=\"#DejaVuSans-48\"/>\r\n      </g>\r\n     </g>\r\n    </g>\r\n    <g id=\"ytick_7\">\r\n     <g id=\"line2d_16\">\r\n      <g>\r\n       <use style=\"stroke:#000000;stroke-width:0.8;\" x=\"46.0125\" xlink:href=\"#m6ccb190f05\" y=\"55.267824\"/>\r\n      </g>\r\n     </g>\r\n     <g id=\"text_16\">\r\n      <!-- 15000 -->\r\n      <g transform=\"translate(7.2 59.067042)scale(0.1 -0.1)\">\r\n       <use xlink:href=\"#DejaVuSans-49\"/>\r\n       <use x=\"63.623047\" xlink:href=\"#DejaVuSans-53\"/>\r\n       <use x=\"127.246094\" xlink:href=\"#DejaVuSans-48\"/>\r\n       <use x=\"190.869141\" xlink:href=\"#DejaVuSans-48\"/>\r\n       <use x=\"254.492188\" xlink:href=\"#DejaVuSans-48\"/>\r\n      </g>\r\n     </g>\r\n    </g>\r\n    <g id=\"ytick_8\">\r\n     <g id=\"line2d_17\">\r\n      <g>\r\n       <use style=\"stroke:#000000;stroke-width:0.8;\" x=\"46.0125\" xlink:href=\"#m6ccb190f05\" y=\"27.039128\"/>\r\n      </g>\r\n     </g>\r\n     <g id=\"text_17\">\r\n      <!-- 17500 -->\r\n      <g transform=\"translate(7.2 30.838346)scale(0.1 -0.1)\">\r\n       <use xlink:href=\"#DejaVuSans-49\"/>\r\n       <use x=\"63.623047\" xlink:href=\"#DejaVuSans-55\"/>\r\n       <use x=\"127.246094\" xlink:href=\"#DejaVuSans-53\"/>\r\n       <use x=\"190.869141\" xlink:href=\"#DejaVuSans-48\"/>\r\n       <use x=\"254.492188\" xlink:href=\"#DejaVuSans-48\"/>\r\n      </g>\r\n     </g>\r\n    </g>\r\n   </g>\r\n   <g id=\"patch_12\">\r\n    <path d=\"M 46.0125 224.64 \r\nL 46.0125 7.2 \r\n\" style=\"fill:none;stroke:#000000;stroke-linecap:square;stroke-linejoin:miter;stroke-width:0.8;\"/>\r\n   </g>\r\n   <g id=\"patch_13\">\r\n    <path d=\"M 380.8125 224.64 \r\nL 380.8125 7.2 \r\n\" style=\"fill:none;stroke:#000000;stroke-linecap:square;stroke-linejoin:miter;stroke-width:0.8;\"/>\r\n   </g>\r\n   <g id=\"patch_14\">\r\n    <path d=\"M 46.0125 224.64 \r\nL 380.8125 224.64 \r\n\" style=\"fill:none;stroke:#000000;stroke-linecap:square;stroke-linejoin:miter;stroke-width:0.8;\"/>\r\n   </g>\r\n   <g id=\"patch_15\">\r\n    <path d=\"M 46.0125 7.2 \r\nL 380.8125 7.2 \r\n\" style=\"fill:none;stroke:#000000;stroke-linecap:square;stroke-linejoin:miter;stroke-width:0.8;\"/>\r\n   </g>\r\n  </g>\r\n </g>\r\n <defs>\r\n  <clipPath id=\"pe49475195f\">\r\n   <rect height=\"217.44\" width=\"334.8\" x=\"46.0125\" y=\"7.2\"/>\r\n  </clipPath>\r\n </defs>\r\n</svg>\r\n",
      "image/png": "[encoded data removed]"
     },
     "metadata": {
      "needs_background": "light"
     }
    }
   ],
   "source": [
    "train[\"child_num\"].value_counts().plot.bar()"
   ]
  },
  {
   "cell_type": "code",
   "execution_count": 34,
   "metadata": {
    "executionInfo": {
     "elapsed": 4221,
     "status": "ok",
     "timestamp": 1617445515372,
     "user": {
      "displayName": "youtube dacon",
      "photoUrl": "",
      "userId": "00770885000471893693"
     },
     "user_tz": -540
    },
    "id": "SLmMF_gpMvb_"
   },
   "outputs": [],
   "source": [
    "train.loc[train['child_num'] > 2, 'child_num'] = 2"
   ]
  },
  {
   "cell_type": "code",
   "execution_count": 35,
   "metadata": {
    "colab": {
     "base_uri": "https://localhost:8080/",
     "height": 281
    },
    "executionInfo": {
     "elapsed": 4208,
     "status": "ok",
     "timestamp": 1617445515373,
     "user": {
      "displayName": "youtube dacon",
      "photoUrl": "",
      "userId": "00770885000471893693"
     },
     "user_tz": -540
    },
    "id": "7xHE6jD6M-Yj",
    "outputId": "ba5d815b-41e6-4904-8d1f-ef19956487fb"
   },
   "outputs": [
    {
     "output_type": "execute_result",
     "data": {
      "text/plain": [
       "<AxesSubplot:>"
      ]
     },
     "metadata": {},
     "execution_count": 35
    },
    {
     "output_type": "display_data",
     "data": {
      "text/plain": "<Figure size 432x288 with 1 Axes>",
      "image/svg+xml": "<?xml version=\"1.0\" encoding=\"utf-8\" standalone=\"no\"?>\r\n<!DOCTYPE svg PUBLIC \"-//W3C//DTD SVG 1.1//EN\"\r\n  \"http://www.w3.org/Graphics/SVG/1.1/DTD/svg11.dtd\">\r\n<!-- Created with matplotlib (https://matplotlib.org/) -->\r\n<svg height=\"245.2025pt\" version=\"1.1\" viewBox=\"0 0 388.0125 245.2025\" width=\"388.0125pt\" xmlns=\"http://www.w3.org/2000/svg\" xmlns:xlink=\"http://www.w3.org/1999/xlink\">\r\n <metadata>\r\n  <rdf:RDF xmlns:cc=\"http://creativecommons.org/ns#\" xmlns:dc=\"http://purl.org/dc/elements/1.1/\" xmlns:rdf=\"http://www.w3.org/1999/02/22-rdf-syntax-ns#\">\r\n   <cc:Work>\r\n    <dc:type rdf:resource=\"http://purl.org/dc/dcmitype/StillImage\"/>\r\n    <dc:date>2021-04-21T12:40:07.274185</dc:date>\r\n    <dc:format>image/svg+xml</dc:format>\r\n    <dc:creator>\r\n     <cc:Agent>\r\n      <dc:title>Matplotlib v3.3.3, https://matplotlib.org/</dc:title>\r\n     </cc:Agent>\r\n    </dc:creator>\r\n   </cc:Work>\r\n  </rdf:RDF>\r\n </metadata>\r\n <defs>\r\n  <style type=\"text/css\">*{stroke-linecap:butt;stroke-linejoin:round;}</style>\r\n </defs>\r\n <g id=\"figure_1\">\r\n  <g id=\"patch_1\">\r\n   <path d=\"M 0 245.2025 \r\nL 388.0125 245.2025 \r\nL 388.0125 0 \r\nL 0 0 \r\nz\r\n\" style=\"fill:none;\"/>\r\n  </g>\r\n  <g id=\"axes_1\">\r\n   <g id=\"patch_2\">\r\n    <path d=\"M 46.0125 224.64 \r\nL 380.8125 224.64 \r\nL 380.8125 7.2 \r\nL 46.0125 7.2 \r\nz\r\n\" style=\"fill:#ffffff;\"/>\r\n   </g>\r\n   <g id=\"patch_3\">\r\n    <path clip-path=\"url(#p08bba76d4d)\" d=\"M 73.9125 224.64 \r\nL 129.7125 224.64 \r\nL 129.7125 17.554286 \r\nL 73.9125 17.554286 \r\nz\r\n\" style=\"fill:#1f77b4;\"/>\r\n   </g>\r\n   <g id=\"patch_4\">\r\n    <path clip-path=\"url(#p08bba76d4d)\" d=\"M 185.5125 224.64 \r\nL 241.3125 224.64 \r\nL 241.3125 163.824097 \r\nL 185.5125 163.824097 \r\nz\r\n\" style=\"fill:#1f77b4;\"/>\r\n   </g>\r\n   <g id=\"patch_5\">\r\n    <path clip-path=\"url(#p08bba76d4d)\" d=\"M 297.1125 224.64 \r\nL 352.9125 224.64 \r\nL 352.9125 193.802972 \r\nL 297.1125 193.802972 \r\nz\r\n\" style=\"fill:#1f77b4;\"/>\r\n   </g>\r\n   <g id=\"matplotlib.axis_1\">\r\n    <g id=\"xtick_1\">\r\n     <g id=\"line2d_1\">\r\n      <defs>\r\n       <path d=\"M 0 0 \r\nL 0 3.5 \r\n\" id=\"mb5d8400271\" style=\"stroke:#000000;stroke-width:0.8;\"/>\r\n      </defs>\r\n      <g>\r\n       <use style=\"stroke:#000000;stroke-width:0.8;\" x=\"101.8125\" xlink:href=\"#mb5d8400271\" y=\"224.64\"/>\r\n      </g>\r\n     </g>\r\n     <g id=\"text_1\">\r\n      <!-- 0 -->\r\n      <g transform=\"translate(104.571875 238.0025)rotate(-90)scale(0.1 -0.1)\">\r\n       <defs>\r\n        <path d=\"M 31.78125 66.40625 \r\nQ 24.171875 66.40625 20.328125 58.90625 \r\nQ 16.5 51.421875 16.5 36.375 \r\nQ 16.5 21.390625 20.328125 13.890625 \r\nQ 24.171875 6.390625 31.78125 6.390625 \r\nQ 39.453125 6.390625 43.28125 13.890625 \r\nQ 47.125 21.390625 47.125 36.375 \r\nQ 47.125 51.421875 43.28125 58.90625 \r\nQ 39.453125 66.40625 31.78125 66.40625 \r\nz\r\nM 31.78125 74.21875 \r\nQ 44.046875 74.21875 50.515625 64.515625 \r\nQ 56.984375 54.828125 56.984375 36.375 \r\nQ 56.984375 17.96875 50.515625 8.265625 \r\nQ 44.046875 -1.421875 31.78125 -1.421875 \r\nQ 19.53125 -1.421875 13.0625 8.265625 \r\nQ 6.59375 17.96875 6.59375 36.375 \r\nQ 6.59375 54.828125 13.0625 64.515625 \r\nQ 19.53125 74.21875 31.78125 74.21875 \r\nz\r\n\" id=\"DejaVuSans-48\"/>\r\n       </defs>\r\n       <use xlink:href=\"#DejaVuSans-48\"/>\r\n      </g>\r\n     </g>\r\n    </g>\r\n    <g id=\"xtick_2\">\r\n     <g id=\"line2d_2\">\r\n      <g>\r\n       <use style=\"stroke:#000000;stroke-width:0.8;\" x=\"213.4125\" xlink:href=\"#mb5d8400271\" y=\"224.64\"/>\r\n      </g>\r\n     </g>\r\n     <g id=\"text_2\">\r\n      <!-- 1 -->\r\n      <g transform=\"translate(216.171875 238.0025)rotate(-90)scale(0.1 -0.1)\">\r\n       <defs>\r\n        <path d=\"M 12.40625 8.296875 \r\nL 28.515625 8.296875 \r\nL 28.515625 63.921875 \r\nL 10.984375 60.40625 \r\nL 10.984375 69.390625 \r\nL 28.421875 72.90625 \r\nL 38.28125 72.90625 \r\nL 38.28125 8.296875 \r\nL 54.390625 8.296875 \r\nL 54.390625 0 \r\nL 12.40625 0 \r\nz\r\n\" id=\"DejaVuSans-49\"/>\r\n       </defs>\r\n       <use xlink:href=\"#DejaVuSans-49\"/>\r\n      </g>\r\n     </g>\r\n    </g>\r\n    <g id=\"xtick_3\">\r\n     <g id=\"line2d_3\">\r\n      <g>\r\n       <use style=\"stroke:#000000;stroke-width:0.8;\" x=\"325.0125\" xlink:href=\"#mb5d8400271\" y=\"224.64\"/>\r\n      </g>\r\n     </g>\r\n     <g id=\"text_3\">\r\n      <!-- 2 -->\r\n      <g transform=\"translate(327.771875 238.0025)rotate(-90)scale(0.1 -0.1)\">\r\n       <defs>\r\n        <path d=\"M 19.1875 8.296875 \r\nL 53.609375 8.296875 \r\nL 53.609375 0 \r\nL 7.328125 0 \r\nL 7.328125 8.296875 \r\nQ 12.9375 14.109375 22.625 23.890625 \r\nQ 32.328125 33.6875 34.8125 36.53125 \r\nQ 39.546875 41.84375 41.421875 45.53125 \r\nQ 43.3125 49.21875 43.3125 52.78125 \r\nQ 43.3125 58.59375 39.234375 62.25 \r\nQ 35.15625 65.921875 28.609375 65.921875 \r\nQ 23.96875 65.921875 18.8125 64.3125 \r\nQ 13.671875 62.703125 7.8125 59.421875 \r\nL 7.8125 69.390625 \r\nQ 13.765625 71.78125 18.9375 73 \r\nQ 24.125 74.21875 28.421875 74.21875 \r\nQ 39.75 74.21875 46.484375 68.546875 \r\nQ 53.21875 62.890625 53.21875 53.421875 \r\nQ 53.21875 48.921875 51.53125 44.890625 \r\nQ 49.859375 40.875 45.40625 35.40625 \r\nQ 44.1875 33.984375 37.640625 27.21875 \r\nQ 31.109375 20.453125 19.1875 8.296875 \r\nz\r\n\" id=\"DejaVuSans-50\"/>\r\n       </defs>\r\n       <use xlink:href=\"#DejaVuSans-50\"/>\r\n      </g>\r\n     </g>\r\n    </g>\r\n   </g>\r\n   <g id=\"matplotlib.axis_2\">\r\n    <g id=\"ytick_1\">\r\n     <g id=\"line2d_4\">\r\n      <defs>\r\n       <path d=\"M 0 0 \r\nL -3.5 0 \r\n\" id=\"ma94c13d2e7\" style=\"stroke:#000000;stroke-width:0.8;\"/>\r\n      </defs>\r\n      <g>\r\n       <use style=\"stroke:#000000;stroke-width:0.8;\" x=\"46.0125\" xlink:href=\"#ma94c13d2e7\" y=\"224.64\"/>\r\n      </g>\r\n     </g>\r\n     <g id=\"text_4\">\r\n      <!-- 0 -->\r\n      <g transform=\"translate(32.65 228.439219)scale(0.1 -0.1)\">\r\n       <use xlink:href=\"#DejaVuSans-48\"/>\r\n      </g>\r\n     </g>\r\n    </g>\r\n    <g id=\"ytick_2\">\r\n     <g id=\"line2d_5\">\r\n      <g>\r\n       <use style=\"stroke:#000000;stroke-width:0.8;\" x=\"46.0125\" xlink:href=\"#ma94c13d2e7\" y=\"196.411304\"/>\r\n      </g>\r\n     </g>\r\n     <g id=\"text_5\">\r\n      <!-- 2500 -->\r\n      <g transform=\"translate(13.5625 200.210523)scale(0.1 -0.1)\">\r\n       <defs>\r\n        <path d=\"M 10.796875 72.90625 \r\nL 49.515625 72.90625 \r\nL 49.515625 64.59375 \r\nL 19.828125 64.59375 \r\nL 19.828125 46.734375 \r\nQ 21.96875 47.46875 24.109375 47.828125 \r\nQ 26.265625 48.1875 28.421875 48.1875 \r\nQ 40.625 48.1875 47.75 41.5 \r\nQ 54.890625 34.8125 54.890625 23.390625 \r\nQ 54.890625 11.625 47.5625 5.09375 \r\nQ 40.234375 -1.421875 26.90625 -1.421875 \r\nQ 22.3125 -1.421875 17.546875 -0.640625 \r\nQ 12.796875 0.140625 7.71875 1.703125 \r\nL 7.71875 11.625 \r\nQ 12.109375 9.234375 16.796875 8.0625 \r\nQ 21.484375 6.890625 26.703125 6.890625 \r\nQ 35.15625 6.890625 40.078125 11.328125 \r\nQ 45.015625 15.765625 45.015625 23.390625 \r\nQ 45.015625 31 40.078125 35.4375 \r\nQ 35.15625 39.890625 26.703125 39.890625 \r\nQ 22.75 39.890625 18.8125 39.015625 \r\nQ 14.890625 38.140625 10.796875 36.28125 \r\nz\r\n\" id=\"DejaVuSans-53\"/>\r\n       </defs>\r\n       <use xlink:href=\"#DejaVuSans-50\"/>\r\n       <use x=\"63.623047\" xlink:href=\"#DejaVuSans-53\"/>\r\n       <use x=\"127.246094\" xlink:href=\"#DejaVuSans-48\"/>\r\n       <use x=\"190.869141\" xlink:href=\"#DejaVuSans-48\"/>\r\n      </g>\r\n     </g>\r\n    </g>\r\n    <g id=\"ytick_3\">\r\n     <g id=\"line2d_6\">\r\n      <g>\r\n       <use style=\"stroke:#000000;stroke-width:0.8;\" x=\"46.0125\" xlink:href=\"#ma94c13d2e7\" y=\"168.182608\"/>\r\n      </g>\r\n     </g>\r\n     <g id=\"text_6\">\r\n      <!-- 5000 -->\r\n      <g transform=\"translate(13.5625 171.981827)scale(0.1 -0.1)\">\r\n       <use xlink:href=\"#DejaVuSans-53\"/>\r\n       <use x=\"63.623047\" xlink:href=\"#DejaVuSans-48\"/>\r\n       <use x=\"127.246094\" xlink:href=\"#DejaVuSans-48\"/>\r\n       <use x=\"190.869141\" xlink:href=\"#DejaVuSans-48\"/>\r\n      </g>\r\n     </g>\r\n    </g>\r\n    <g id=\"ytick_4\">\r\n     <g id=\"line2d_7\">\r\n      <g>\r\n       <use style=\"stroke:#000000;stroke-width:0.8;\" x=\"46.0125\" xlink:href=\"#ma94c13d2e7\" y=\"139.953912\"/>\r\n      </g>\r\n     </g>\r\n     <g id=\"text_7\">\r\n      <!-- 7500 -->\r\n      <g transform=\"translate(13.5625 143.753131)scale(0.1 -0.1)\">\r\n       <defs>\r\n        <path d=\"M 8.203125 72.90625 \r\nL 55.078125 72.90625 \r\nL 55.078125 68.703125 \r\nL 28.609375 0 \r\nL 18.3125 0 \r\nL 43.21875 64.59375 \r\nL 8.203125 64.59375 \r\nz\r\n\" id=\"DejaVuSans-55\"/>\r\n       </defs>\r\n       <use xlink:href=\"#DejaVuSans-55\"/>\r\n       <use x=\"63.623047\" xlink:href=\"#DejaVuSans-53\"/>\r\n       <use x=\"127.246094\" xlink:href=\"#DejaVuSans-48\"/>\r\n       <use x=\"190.869141\" xlink:href=\"#DejaVuSans-48\"/>\r\n      </g>\r\n     </g>\r\n    </g>\r\n    <g id=\"ytick_5\">\r\n     <g id=\"line2d_8\">\r\n      <g>\r\n       <use style=\"stroke:#000000;stroke-width:0.8;\" x=\"46.0125\" xlink:href=\"#ma94c13d2e7\" y=\"111.725216\"/>\r\n      </g>\r\n     </g>\r\n     <g id=\"text_8\">\r\n      <!-- 10000 -->\r\n      <g transform=\"translate(7.2 115.524435)scale(0.1 -0.1)\">\r\n       <use xlink:href=\"#DejaVuSans-49\"/>\r\n       <use x=\"63.623047\" xlink:href=\"#DejaVuSans-48\"/>\r\n       <use x=\"127.246094\" xlink:href=\"#DejaVuSans-48\"/>\r\n       <use x=\"190.869141\" xlink:href=\"#DejaVuSans-48\"/>\r\n       <use x=\"254.492188\" xlink:href=\"#DejaVuSans-48\"/>\r\n      </g>\r\n     </g>\r\n    </g>\r\n    <g id=\"ytick_6\">\r\n     <g id=\"line2d_9\">\r\n      <g>\r\n       <use style=\"stroke:#000000;stroke-width:0.8;\" x=\"46.0125\" xlink:href=\"#ma94c13d2e7\" y=\"83.49652\"/>\r\n      </g>\r\n     </g>\r\n     <g id=\"text_9\">\r\n      <!-- 12500 -->\r\n      <g transform=\"translate(7.2 87.295738)scale(0.1 -0.1)\">\r\n       <use xlink:href=\"#DejaVuSans-49\"/>\r\n       <use x=\"63.623047\" xlink:href=\"#DejaVuSans-50\"/>\r\n       <use x=\"127.246094\" xlink:href=\"#DejaVuSans-53\"/>\r\n       <use x=\"190.869141\" xlink:href=\"#DejaVuSans-48\"/>\r\n       <use x=\"254.492188\" xlink:href=\"#DejaVuSans-48\"/>\r\n      </g>\r\n     </g>\r\n    </g>\r\n    <g id=\"ytick_7\">\r\n     <g id=\"line2d_10\">\r\n      <g>\r\n       <use style=\"stroke:#000000;stroke-width:0.8;\" x=\"46.0125\" xlink:href=\"#ma94c13d2e7\" y=\"55.267824\"/>\r\n      </g>\r\n     </g>\r\n     <g id=\"text_10\">\r\n      <!-- 15000 -->\r\n      <g transform=\"translate(7.2 59.067042)scale(0.1 -0.1)\">\r\n       <use xlink:href=\"#DejaVuSans-49\"/>\r\n       <use x=\"63.623047\" xlink:href=\"#DejaVuSans-53\"/>\r\n       <use x=\"127.246094\" xlink:href=\"#DejaVuSans-48\"/>\r\n       <use x=\"190.869141\" xlink:href=\"#DejaVuSans-48\"/>\r\n       <use x=\"254.492188\" xlink:href=\"#DejaVuSans-48\"/>\r\n      </g>\r\n     </g>\r\n    </g>\r\n    <g id=\"ytick_8\">\r\n     <g id=\"line2d_11\">\r\n      <g>\r\n       <use style=\"stroke:#000000;stroke-width:0.8;\" x=\"46.0125\" xlink:href=\"#ma94c13d2e7\" y=\"27.039128\"/>\r\n      </g>\r\n     </g>\r\n     <g id=\"text_11\">\r\n      <!-- 17500 -->\r\n      <g transform=\"translate(7.2 30.838346)scale(0.1 -0.1)\">\r\n       <use xlink:href=\"#DejaVuSans-49\"/>\r\n       <use x=\"63.623047\" xlink:href=\"#DejaVuSans-55\"/>\r\n       <use x=\"127.246094\" xlink:href=\"#DejaVuSans-53\"/>\r\n       <use x=\"190.869141\" xlink:href=\"#DejaVuSans-48\"/>\r\n       <use x=\"254.492188\" xlink:href=\"#DejaVuSans-48\"/>\r\n      </g>\r\n     </g>\r\n    </g>\r\n   </g>\r\n   <g id=\"patch_6\">\r\n    <path d=\"M 46.0125 224.64 \r\nL 46.0125 7.2 \r\n\" style=\"fill:none;stroke:#000000;stroke-linecap:square;stroke-linejoin:miter;stroke-width:0.8;\"/>\r\n   </g>\r\n   <g id=\"patch_7\">\r\n    <path d=\"M 380.8125 224.64 \r\nL 380.8125 7.2 \r\n\" style=\"fill:none;stroke:#000000;stroke-linecap:square;stroke-linejoin:miter;stroke-width:0.8;\"/>\r\n   </g>\r\n   <g id=\"patch_8\">\r\n    <path d=\"M 46.0125 224.64 \r\nL 380.8125 224.64 \r\n\" style=\"fill:none;stroke:#000000;stroke-linecap:square;stroke-linejoin:miter;stroke-width:0.8;\"/>\r\n   </g>\r\n   <g id=\"patch_9\">\r\n    <path d=\"M 46.0125 7.2 \r\nL 380.8125 7.2 \r\n\" style=\"fill:none;stroke:#000000;stroke-linecap:square;stroke-linejoin:miter;stroke-width:0.8;\"/>\r\n   </g>\r\n  </g>\r\n </g>\r\n <defs>\r\n  <clipPath id=\"p08bba76d4d\">\r\n   <rect height=\"217.44\" width=\"334.8\" x=\"46.0125\" y=\"7.2\"/>\r\n  </clipPath>\r\n </defs>\r\n</svg>\r\n",
      "image/png": "[encoded data removed]"
     },
     "metadata": {
      "needs_background": "light"
     }
    }
   ],
   "source": [
    "train[\"child_num\"].value_counts().plot.bar()"
   ]
  },
  {
   "cell_type": "code",
   "execution_count": 36,
   "metadata": {
    "colab": {
     "base_uri": "https://localhost:8080/"
    },
    "executionInfo": {
     "elapsed": 4189,
     "status": "ok",
     "timestamp": 1617445515375,
     "user": {
      "displayName": "youtube dacon",
      "photoUrl": "",
      "userId": "00770885000471893693"
     },
     "user_tz": -540
    },
    "id": "qhej_yB_NPJb",
    "outputId": "19f56336-b417-496c-a137-1e53373ffba8"
   },
   "outputs": [
    {
     "output_type": "execute_result",
     "data": {
      "text/plain": [
       "child_num       3\n",
       "income_type     5\n",
       "edu_type        5\n",
       "family_type     5\n",
       "house_type      6\n",
       "family_size    10\n",
       "credit          3\n",
       "dtype: int64"
      ]
     },
     "metadata": {},
     "execution_count": 36
    }
   ],
   "source": [
    "train[group_2].apply(lambda x : len(x.unique()))"
   ]
  },
  {
   "cell_type": "code",
   "execution_count": 37,
   "metadata": {
    "executionInfo": {
     "elapsed": 4179,
     "status": "ok",
     "timestamp": 1617445515376,
     "user": {
      "displayName": "youtube dacon",
      "photoUrl": "",
      "userId": "00770885000471893693"
     },
     "user_tz": -540
    },
    "id": "Sa-11x95Nfr2"
   },
   "outputs": [],
   "source": [
    "from sklearn import preprocessing"
   ]
  },
  {
   "cell_type": "code",
   "execution_count": 38,
   "metadata": {
    "executionInfo": {
     "elapsed": 4173,
     "status": "ok",
     "timestamp": 1617445515377,
     "user": {
      "displayName": "youtube dacon",
      "photoUrl": "",
      "userId": "00770885000471893693"
     },
     "user_tz": -540
    },
    "id": "UHlwUq64N4hK"
   },
   "outputs": [],
   "source": [
    "label_encoder = preprocessing.LabelEncoder()"
   ]
  },
  {
   "cell_type": "code",
   "execution_count": 39,
   "metadata": {
    "colab": {
     "base_uri": "https://localhost:8080/"
    },
    "executionInfo": {
     "elapsed": 4162,
     "status": "ok",
     "timestamp": 1617445515378,
     "user": {
      "displayName": "youtube dacon",
      "photoUrl": "",
      "userId": "00770885000471893693"
     },
     "user_tz": -540
    },
    "id": "Al69Suo_OFOA",
    "outputId": "4fb2e834-18f8-44e7-d6fb-bd2afce98d3d"
   },
   "outputs": [
    {
     "output_type": "execute_result",
     "data": {
      "text/plain": [
       "array(['Commercial associate', 'Working', 'State servant', 'Pensioner',\n",
       "       'Student'], dtype=object)"
      ]
     },
     "metadata": {},
     "execution_count": 39
    }
   ],
   "source": [
    "train['income_type'].unique()"
   ]
  },
  {
   "cell_type": "code",
   "execution_count": 40,
   "metadata": {
    "colab": {
     "base_uri": "https://localhost:8080/"
    },
    "executionInfo": {
     "elapsed": 4147,
     "status": "ok",
     "timestamp": 1617445515379,
     "user": {
      "displayName": "youtube dacon",
      "photoUrl": "",
      "userId": "00770885000471893693"
     },
     "user_tz": -540
    },
    "id": "qIJZoMmkOBu8",
    "outputId": "8cb6de2e-6d90-412b-d62c-7eb5f2db6a83"
   },
   "outputs": [
    {
     "output_type": "execute_result",
     "data": {
      "text/plain": [
       "{0, 1, 2, 3, 4}"
      ]
     },
     "metadata": {},
     "execution_count": 40
    }
   ],
   "source": [
    "set(label_encoder.fit_transform(train['income_type']))"
   ]
  },
  {
   "cell_type": "code",
   "execution_count": 41,
   "metadata": {
    "executionInfo": {
     "elapsed": 4137,
     "status": "ok",
     "timestamp": 1617445515380,
     "user": {
      "displayName": "youtube dacon",
      "photoUrl": "",
      "userId": "00770885000471893693"
     },
     "user_tz": -540
    },
    "id": "61sL9EtXOMI4"
   },
   "outputs": [],
   "source": [
    "train['income_type'] = label_encoder.fit_transform(train['income_type'])\n",
    "test['income_type'] = label_encoder.transform(test['income_type'])\n",
    "\n",
    "train['edu_type'] = label_encoder.fit_transform(train['edu_type'])\n",
    "test['edu_type'] = label_encoder.transform(test['edu_type'])\n",
    "\n",
    "train['family_type'] = label_encoder.fit_transform(train['family_type'])\n",
    "test['family_type'] = label_encoder.transform(test['family_type'])\n",
    "\n",
    "train['house_type'] = label_encoder.fit_transform(train['house_type'])\n",
    "test['house_type'] = label_encoder.transform(test['house_type'])"
   ]
  },
  {
   "cell_type": "code",
   "execution_count": 42,
   "metadata": {
    "colab": {
     "base_uri": "https://localhost:8080/",
     "height": 415
    },
    "executionInfo": {
     "elapsed": 4126,
     "status": "ok",
     "timestamp": 1617445515380,
     "user": {
      "displayName": "youtube dacon",
      "photoUrl": "",
      "userId": "00770885000471893693"
     },
     "user_tz": -540
    },
    "id": "PHmcI4qhOiwX",
    "outputId": "ea3eab4f-f30b-4d5d-c82d-8ec3fbabfbc6"
   },
   "outputs": [
    {
     "output_type": "execute_result",
     "data": {
      "text/plain": [
       "       child_num  income_type  edu_type  family_type  house_type  family_size  \\\n",
       "0              0            0         1            1           2          2.0   \n",
       "1              1            0         4            0           1          3.0   \n",
       "2              0            4         1            1           1          2.0   \n",
       "3              0            0         4            1           1          2.0   \n",
       "4              0            2         1            1           1          2.0   \n",
       "...          ...          ...       ...          ...         ...          ...   \n",
       "26452          2            2         4            1           1          4.0   \n",
       "26453          1            4         1            2           1          2.0   \n",
       "26454          0            4         4            0           5          2.0   \n",
       "26455          0            4         2            3           1          1.0   \n",
       "26456          0            4         4            0           1          2.0   \n",
       "\n",
       "       credit  \n",
       "0         1.0  \n",
       "1         1.0  \n",
       "2         2.0  \n",
       "3         0.0  \n",
       "4         2.0  \n",
       "...       ...  \n",
       "26452     1.0  \n",
       "26453     2.0  \n",
       "26454     2.0  \n",
       "26455     2.0  \n",
       "26456     2.0  \n",
       "\n",
       "[26457 rows x 7 columns]"
      ],
      "text/html": "<div>\n<style scoped>\n    .dataframe tbody tr th:only-of-type {\n        vertical-align: middle;\n    }\n\n    .dataframe tbody tr th {\n        vertical-align: top;\n    }\n\n    .dataframe thead th {\n        text-align: right;\n    }\n</style>\n<table border=\"1\" class=\"dataframe\">\n  <thead>\n    <tr style=\"text-align: right;\">\n      <th></th>\n      <th>child_num</th>\n      <th>income_type</th>\n      <th>edu_type</th>\n      <th>family_type</th>\n      <th>house_type</th>\n      <th>family_size</th>\n      <th>credit</th>\n    </tr>\n  </thead>\n  <tbody>\n    <tr>\n      <th>0</th>\n      <td>0</td>\n      <td>0</td>\n      <td>1</td>\n      <td>1</td>\n      <td>2</td>\n      <td>2.0</td>\n      <td>1.0</td>\n    </tr>\n    <tr>\n      <th>1</th>\n      <td>1</td>\n      <td>0</td>\n      <td>4</td>\n      <td>0</td>\n      <td>1</td>\n      <td>3.0</td>\n      <td>1.0</td>\n    </tr>\n    <tr>\n      <th>2</th>\n      <td>0</td>\n      <td>4</td>\n      <td>1</td>\n      <td>1</td>\n      <td>1</td>\n      <td>2.0</td>\n      <td>2.0</td>\n    </tr>\n    <tr>\n      <th>3</th>\n      <td>0</td>\n      <td>0</td>\n      <td>4</td>\n      <td>1</td>\n      <td>1</td>\n      <td>2.0</td>\n      <td>0.0</td>\n    </tr>\n    <tr>\n      <th>4</th>\n      <td>0</td>\n      <td>2</td>\n      <td>1</td>\n      <td>1</td>\n      <td>1</td>\n      <td>2.0</td>\n      <td>2.0</td>\n    </tr>\n    <tr>\n      <th>...</th>\n      <td>...</td>\n      <td>...</td>\n      <td>...</td>\n      <td>...</td>\n      <td>...</td>\n      <td>...</td>\n      <td>...</td>\n    </tr>\n    <tr>\n      <th>26452</th>\n      <td>2</td>\n      <td>2</td>\n      <td>4</td>\n      <td>1</td>\n      <td>1</td>\n      <td>4.0</td>\n      <td>1.0</td>\n    </tr>\n    <tr>\n      <th>26453</th>\n      <td>1</td>\n      <td>4</td>\n      <td>1</td>\n      <td>2</td>\n      <td>1</td>\n      <td>2.0</td>\n      <td>2.0</td>\n    </tr>\n    <tr>\n      <th>26454</th>\n      <td>0</td>\n      <td>4</td>\n      <td>4</td>\n      <td>0</td>\n      <td>5</td>\n      <td>2.0</td>\n      <td>2.0</td>\n    </tr>\n    <tr>\n      <th>26455</th>\n      <td>0</td>\n      <td>4</td>\n      <td>2</td>\n      <td>3</td>\n      <td>1</td>\n      <td>1.0</td>\n      <td>2.0</td>\n    </tr>\n    <tr>\n      <th>26456</th>\n      <td>0</td>\n      <td>4</td>\n      <td>4</td>\n      <td>0</td>\n      <td>1</td>\n      <td>2.0</td>\n      <td>2.0</td>\n    </tr>\n  </tbody>\n</table>\n<p>26457 rows × 7 columns</p>\n</div>"
     },
     "metadata": {},
     "execution_count": 42
    }
   ],
   "source": [
    "train[group_2]"
   ]
  },
  {
   "cell_type": "code",
   "execution_count": 43,
   "metadata": {
    "colab": {
     "base_uri": "https://localhost:8080/",
     "height": 415
    },
    "executionInfo": {
     "elapsed": 4110,
     "status": "ok",
     "timestamp": 1617445515381,
     "user": {
      "displayName": "youtube dacon",
      "photoUrl": "",
      "userId": "00770885000471893693"
     },
     "user_tz": -540
    },
    "id": "hOEvvS7TJ4KG",
    "outputId": "2b510d29-0ddf-4739-8c01-ad915d56789e"
   },
   "outputs": [
    {
     "output_type": "execute_result",
     "data": {
      "text/plain": [
       "       index  income_total  DAYS_BIRTH  DAYS_EMPLOYED  begin_month\n",
       "0          0      202500.0      -13899          -4709         -6.0\n",
       "1          1      247500.0      -11380          -1540         -5.0\n",
       "2          2      450000.0      -19087          -4434        -22.0\n",
       "3          3      202500.0      -15088          -2092        -37.0\n",
       "4          4      157500.0      -15037          -2105        -26.0\n",
       "...      ...           ...         ...            ...          ...\n",
       "26452  26452      225000.0      -12079          -1984         -2.0\n",
       "26453  26453      180000.0      -15291          -2475        -47.0\n",
       "26454  26454      292500.0      -10082          -2015        -25.0\n",
       "26455  26455      171000.0      -10145           -107        -59.0\n",
       "26456  26456       81000.0      -19569          -1013         -9.0\n",
       "\n",
       "[26457 rows x 5 columns]"
      ],
      "text/html": "<div>\n<style scoped>\n    .dataframe tbody tr th:only-of-type {\n        vertical-align: middle;\n    }\n\n    .dataframe tbody tr th {\n        vertical-align: top;\n    }\n\n    .dataframe thead th {\n        text-align: right;\n    }\n</style>\n<table border=\"1\" class=\"dataframe\">\n  <thead>\n    <tr style=\"text-align: right;\">\n      <th></th>\n      <th>index</th>\n      <th>income_total</th>\n      <th>DAYS_BIRTH</th>\n      <th>DAYS_EMPLOYED</th>\n      <th>begin_month</th>\n    </tr>\n  </thead>\n  <tbody>\n    <tr>\n      <th>0</th>\n      <td>0</td>\n      <td>202500.0</td>\n      <td>-13899</td>\n      <td>-4709</td>\n      <td>-6.0</td>\n    </tr>\n    <tr>\n      <th>1</th>\n      <td>1</td>\n      <td>247500.0</td>\n      <td>-11380</td>\n      <td>-1540</td>\n      <td>-5.0</td>\n    </tr>\n    <tr>\n      <th>2</th>\n      <td>2</td>\n      <td>450000.0</td>\n      <td>-19087</td>\n      <td>-4434</td>\n      <td>-22.0</td>\n    </tr>\n    <tr>\n      <th>3</th>\n      <td>3</td>\n      <td>202500.0</td>\n      <td>-15088</td>\n      <td>-2092</td>\n      <td>-37.0</td>\n    </tr>\n    <tr>\n      <th>4</th>\n      <td>4</td>\n      <td>157500.0</td>\n      <td>-15037</td>\n      <td>-2105</td>\n      <td>-26.0</td>\n    </tr>\n    <tr>\n      <th>...</th>\n      <td>...</td>\n      <td>...</td>\n      <td>...</td>\n      <td>...</td>\n      <td>...</td>\n    </tr>\n    <tr>\n      <th>26452</th>\n      <td>26452</td>\n      <td>225000.0</td>\n      <td>-12079</td>\n      <td>-1984</td>\n      <td>-2.0</td>\n    </tr>\n    <tr>\n      <th>26453</th>\n      <td>26453</td>\n      <td>180000.0</td>\n      <td>-15291</td>\n      <td>-2475</td>\n      <td>-47.0</td>\n    </tr>\n    <tr>\n      <th>26454</th>\n      <td>26454</td>\n      <td>292500.0</td>\n      <td>-10082</td>\n      <td>-2015</td>\n      <td>-25.0</td>\n    </tr>\n    <tr>\n      <th>26455</th>\n      <td>26455</td>\n      <td>171000.0</td>\n      <td>-10145</td>\n      <td>-107</td>\n      <td>-59.0</td>\n    </tr>\n    <tr>\n      <th>26456</th>\n      <td>26456</td>\n      <td>81000.0</td>\n      <td>-19569</td>\n      <td>-1013</td>\n      <td>-9.0</td>\n    </tr>\n  </tbody>\n</table>\n<p>26457 rows × 5 columns</p>\n</div>"
     },
     "metadata": {},
     "execution_count": 43
    }
   ],
   "source": [
    "train[group_3]"
   ]
  },
  {
   "cell_type": "code",
   "execution_count": 44,
   "metadata": {
    "colab": {
     "base_uri": "https://localhost:8080/",
     "height": 415
    },
    "executionInfo": {
     "elapsed": 4095,
     "status": "ok",
     "timestamp": 1617445515383,
     "user": {
      "displayName": "youtube dacon",
      "photoUrl": "",
      "userId": "00770885000471893693"
     },
     "user_tz": -540
    },
    "id": "MzqAGWsDKTIJ",
    "outputId": "f2b7154f-e8e4-4ee1-bca7-20a2042fb552"
   },
   "outputs": [
    {
     "output_type": "execute_result",
     "data": {
      "text/plain": [
       "       index  income_total  DAYS_BIRTH  DAYS_EMPLOYED  begin_month\n",
       "0          0      202500.0      -13899          -4709         -6.0\n",
       "1          1      247500.0      -11380          -1540         -5.0\n",
       "2          2      450000.0      -19087          -4434        -22.0\n",
       "3          3      202500.0      -15088          -2092        -37.0\n",
       "4          4      157500.0      -15037          -2105        -26.0\n",
       "...      ...           ...         ...            ...          ...\n",
       "26452  26452      225000.0      -12079          -1984         -2.0\n",
       "26453  26453      180000.0      -15291          -2475        -47.0\n",
       "26454  26454      292500.0      -10082          -2015        -25.0\n",
       "26455  26455      171000.0      -10145           -107        -59.0\n",
       "26456  26456       81000.0      -19569          -1013         -9.0\n",
       "\n",
       "[26457 rows x 5 columns]"
      ],
      "text/html": "<div>\n<style scoped>\n    .dataframe tbody tr th:only-of-type {\n        vertical-align: middle;\n    }\n\n    .dataframe tbody tr th {\n        vertical-align: top;\n    }\n\n    .dataframe thead th {\n        text-align: right;\n    }\n</style>\n<table border=\"1\" class=\"dataframe\">\n  <thead>\n    <tr style=\"text-align: right;\">\n      <th></th>\n      <th>index</th>\n      <th>income_total</th>\n      <th>DAYS_BIRTH</th>\n      <th>DAYS_EMPLOYED</th>\n      <th>begin_month</th>\n    </tr>\n  </thead>\n  <tbody>\n    <tr>\n      <th>0</th>\n      <td>0</td>\n      <td>202500.0</td>\n      <td>-13899</td>\n      <td>-4709</td>\n      <td>-6.0</td>\n    </tr>\n    <tr>\n      <th>1</th>\n      <td>1</td>\n      <td>247500.0</td>\n      <td>-11380</td>\n      <td>-1540</td>\n      <td>-5.0</td>\n    </tr>\n    <tr>\n      <th>2</th>\n      <td>2</td>\n      <td>450000.0</td>\n      <td>-19087</td>\n      <td>-4434</td>\n      <td>-22.0</td>\n    </tr>\n    <tr>\n      <th>3</th>\n      <td>3</td>\n      <td>202500.0</td>\n      <td>-15088</td>\n      <td>-2092</td>\n      <td>-37.0</td>\n    </tr>\n    <tr>\n      <th>4</th>\n      <td>4</td>\n      <td>157500.0</td>\n      <td>-15037</td>\n      <td>-2105</td>\n      <td>-26.0</td>\n    </tr>\n    <tr>\n      <th>...</th>\n      <td>...</td>\n      <td>...</td>\n      <td>...</td>\n      <td>...</td>\n      <td>...</td>\n    </tr>\n    <tr>\n      <th>26452</th>\n      <td>26452</td>\n      <td>225000.0</td>\n      <td>-12079</td>\n      <td>-1984</td>\n      <td>-2.0</td>\n    </tr>\n    <tr>\n      <th>26453</th>\n      <td>26453</td>\n      <td>180000.0</td>\n      <td>-15291</td>\n      <td>-2475</td>\n      <td>-47.0</td>\n    </tr>\n    <tr>\n      <th>26454</th>\n      <td>26454</td>\n      <td>292500.0</td>\n      <td>-10082</td>\n      <td>-2015</td>\n      <td>-25.0</td>\n    </tr>\n    <tr>\n      <th>26455</th>\n      <td>26455</td>\n      <td>171000.0</td>\n      <td>-10145</td>\n      <td>-107</td>\n      <td>-59.0</td>\n    </tr>\n    <tr>\n      <th>26456</th>\n      <td>26456</td>\n      <td>81000.0</td>\n      <td>-19569</td>\n      <td>-1013</td>\n      <td>-9.0</td>\n    </tr>\n  </tbody>\n</table>\n<p>26457 rows × 5 columns</p>\n</div>"
     },
     "metadata": {},
     "execution_count": 44
    }
   ],
   "source": [
    "train[group_3]"
   ]
  },
  {
   "cell_type": "code",
   "execution_count": 45,
   "metadata": {
    "colab": {
     "base_uri": "https://localhost:8080/"
    },
    "executionInfo": {
     "elapsed": 4078,
     "status": "ok",
     "timestamp": 1617445515384,
     "user": {
      "displayName": "youtube dacon",
      "photoUrl": "",
      "userId": "00770885000471893693"
     },
     "user_tz": -540
    },
    "id": "6WBEgA8PKeap",
    "outputId": "0ebd20ee-b729-40fd-d540-e92a136546f7"
   },
   "outputs": [
    {
     "output_type": "execute_result",
     "data": {
      "text/plain": [
       "27000.0"
      ]
     },
     "metadata": {},
     "execution_count": 45
    }
   ],
   "source": [
    "train['income_total'].min()"
   ]
  },
  {
   "cell_type": "code",
   "execution_count": 46,
   "metadata": {
    "colab": {
     "base_uri": "https://localhost:8080/"
    },
    "executionInfo": {
     "elapsed": 4060,
     "status": "ok",
     "timestamp": 1617445515385,
     "user": {
      "displayName": "youtube dacon",
      "photoUrl": "",
      "userId": "00770885000471893693"
     },
     "user_tz": -540
    },
    "id": "oKdQyMonKlIA",
    "outputId": "8ca68fd6-a96b-4934-b05a-3b810ff5ba0a"
   },
   "outputs": [
    {
     "output_type": "execute_result",
     "data": {
      "text/plain": [
       "1575000.0"
      ]
     },
     "metadata": {},
     "execution_count": 46
    }
   ],
   "source": [
    "train['income_total'].max()"
   ]
  },
  {
   "cell_type": "code",
   "execution_count": 47,
   "metadata": {
    "colab": {
     "base_uri": "https://localhost:8080/"
    },
    "executionInfo": {
     "elapsed": 4045,
     "status": "ok",
     "timestamp": 1617445515385,
     "user": {
      "displayName": "youtube dacon",
      "photoUrl": "",
      "userId": "00770885000471893693"
     },
     "user_tz": -540
    },
    "id": "7AYoKtunKpH-",
    "outputId": "5b0f1f9d-a626-4600-adad-3b16420d9afa"
   },
   "outputs": [
    {
     "output_type": "execute_result",
     "data": {
      "text/plain": [
       "249"
      ]
     },
     "metadata": {},
     "execution_count": 47
    }
   ],
   "source": [
    "len(train['income_total'].unique())"
   ]
  },
  {
   "cell_type": "code",
   "execution_count": 48,
   "metadata": {
    "executionInfo": {
     "elapsed": 4035,
     "status": "ok",
     "timestamp": 1617445515387,
     "user": {
      "displayName": "youtube dacon",
      "photoUrl": "",
      "userId": "00770885000471893693"
     },
     "user_tz": -540
    },
    "id": "NBbwIu6xKtVD"
   },
   "outputs": [],
   "source": [
    "import numpy as np"
   ]
  },
  {
   "cell_type": "code",
   "execution_count": 49,
   "metadata": {
    "executionInfo": {
     "elapsed": 4028,
     "status": "ok",
     "timestamp": 1617445515388,
     "user": {
      "displayName": "youtube dacon",
      "photoUrl": "",
      "userId": "00770885000471893693"
     },
     "user_tz": -540
    },
    "id": "PRDUAnAlK8GU"
   },
   "outputs": [],
   "source": [
    "counts, bin_dividers = np.histogram(train['income_total'], bins = 7)"
   ]
  },
  {
   "cell_type": "code",
   "execution_count": 50,
   "metadata": {
    "colab": {
     "base_uri": "https://localhost:8080/"
    },
    "executionInfo": {
     "elapsed": 4017,
     "status": "ok",
     "timestamp": 1617445515388,
     "user": {
      "displayName": "youtube dacon",
      "photoUrl": "",
      "userId": "00770885000471893693"
     },
     "user_tz": -540
    },
    "id": "AqVv-MwQLPUk",
    "outputId": "2c560879-a0db-4f40-a12d-4ce651a1a01e"
   },
   "outputs": [
    {
     "output_type": "execute_result",
     "data": {
      "text/plain": [
       "0        202500.0\n",
       "1        247500.0\n",
       "2        450000.0\n",
       "3        202500.0\n",
       "4        157500.0\n",
       "           ...   \n",
       "26452    225000.0\n",
       "26453    180000.0\n",
       "26454    292500.0\n",
       "26455    171000.0\n",
       "26456     81000.0\n",
       "Name: income_total, Length: 26457, dtype: float64"
      ]
     },
     "metadata": {},
     "execution_count": 50
    }
   ],
   "source": [
    "train['income_total']"
   ]
  },
  {
   "cell_type": "code",
   "execution_count": 51,
   "metadata": {
    "executionInfo": {
     "elapsed": 4008,
     "status": "ok",
     "timestamp": 1617445515390,
     "user": {
      "displayName": "youtube dacon",
      "photoUrl": "",
      "userId": "00770885000471893693"
     },
     "user_tz": -540
    },
    "id": "TJgodj0HLAxV"
   },
   "outputs": [],
   "source": [
    "train['income_total'] = pd.factorize(pd.cut(train['income_total'],\n",
    "                                        bins = bin_dividers,\n",
    "                                        include_lowest=True,\n",
    "                                        labels = [i for i in range(7)]))[0]\n",
    "                                        \n",
    "test['income_total'] = pd.factorize(pd.cut(test['income_total'],\n",
    "                                     bins = bin_dividers,\n",
    "                                     include_lowest=True,\n",
    "                                      labels = [i for i in range(7)]))[0]"
   ]
  },
  {
   "cell_type": "code",
   "execution_count": 52,
   "metadata": {
    "colab": {
     "base_uri": "https://localhost:8080/"
    },
    "executionInfo": {
     "elapsed": 3998,
     "status": "ok",
     "timestamp": 1617445515390,
     "user": {
      "displayName": "youtube dacon",
      "photoUrl": "",
      "userId": "00770885000471893693"
     },
     "user_tz": -540
    },
    "id": "ZvoDY-p8LNUl",
    "outputId": "33c4952a-251a-432f-c4bd-359445b9992b"
   },
   "outputs": [
    {
     "output_type": "execute_result",
     "data": {
      "text/plain": [
       "0        0\n",
       "1        0\n",
       "2        1\n",
       "3        0\n",
       "4        0\n",
       "        ..\n",
       "26452    0\n",
       "26453    0\n",
       "26454    1\n",
       "26455    0\n",
       "26456    0\n",
       "Name: income_total, Length: 26457, dtype: int64"
      ]
     },
     "metadata": {},
     "execution_count": 52
    }
   ],
   "source": [
    "train['income_total']"
   ]
  },
  {
   "cell_type": "code",
   "execution_count": 53,
   "metadata": {
    "colab": {
     "base_uri": "https://localhost:8080/"
    },
    "executionInfo": {
     "elapsed": 3986,
     "status": "ok",
     "timestamp": 1617445515391,
     "user": {
      "displayName": "youtube dacon",
      "photoUrl": "",
      "userId": "00770885000471893693"
     },
     "user_tz": -540
    },
    "id": "CyeF9Mh7MM2F",
    "outputId": "ea97fbd8-ac6d-4619-d4d4-5493c7551e44"
   },
   "outputs": [
    {
     "output_type": "execute_result",
     "data": {
      "text/plain": [
       "0       -13899\n",
       "1       -11380\n",
       "2       -19087\n",
       "3       -15088\n",
       "4       -15037\n",
       "         ...  \n",
       "26452   -12079\n",
       "26453   -15291\n",
       "26454   -10082\n",
       "26455   -10145\n",
       "26456   -19569\n",
       "Name: DAYS_BIRTH, Length: 26457, dtype: int64"
      ]
     },
     "metadata": {},
     "execution_count": 53
    }
   ],
   "source": [
    "train['DAYS_BIRTH']"
   ]
  },
  {
   "cell_type": "code",
   "execution_count": 54,
   "metadata": {},
   "outputs": [
    {
     "output_type": "execute_result",
     "data": {
      "text/plain": [
       "(26457, 19)"
      ]
     },
     "metadata": {},
     "execution_count": 54
    }
   ],
   "source": [
    "train.shape"
   ]
  },
  {
   "cell_type": "code",
   "execution_count": 55,
   "metadata": {
    "executionInfo": {
     "elapsed": 3975,
     "status": "ok",
     "timestamp": 1617445515392,
     "user": {
      "displayName": "youtube dacon",
      "photoUrl": "",
      "userId": "00770885000471893693"
     },
     "user_tz": -540
    },
    "id": "bD4d7_uYL9E3"
   },
   "outputs": [],
   "source": [
    "def make_bin(variable, n):\n",
    "    train[variable]=-train[variable]\n",
    "    test[variable]=-test[variable]\n",
    "    count, bin_dividers =np.histogram(train[variable], bins=n) #train의 구간화를 적용\n",
    "    bin_names=[str(i) for i in range(n)]\n",
    "    train[variable]=pd.cut(x=train[variable], bins=bin_dividers, labels=bin_names, include_lowest=True)\n",
    "    test[variable]=pd.cut(x=test[variable], bins=bin_dividers, labels=bin_names, include_lowest=True)\n",
    "    test[variable].fillna(str(0), inplace=True) #test에는 없는 것을 임의의 값으로 채움\n",
    "    ##########################################################\n",
    "    train[variable]=label_encoder.fit_transform(train[variable])\n",
    "    test[variable]=label_encoder.transform(test[variable])"
   ]
  },
  {
   "cell_type": "code",
   "execution_count": 56,
   "metadata": {
    "executionInfo": {
     "elapsed": 3954,
     "status": "ok",
     "timestamp": 1617445515394,
     "user": {
      "displayName": "youtube dacon",
      "photoUrl": "",
      "userId": "00770885000471893693"
     },
     "user_tz": -540
    },
    "id": "2v4xANnPM-d8"
   },
   "outputs": [],
   "source": [
    "make_bin('DAYS_BIRTH', n=10)\n",
    "make_bin('DAYS_EMPLOYED', n=6)\n",
    "make_bin('begin_month', n=4)"
   ]
  },
  {
   "cell_type": "code",
   "execution_count": 57,
   "metadata": {
    "colab": {
     "base_uri": "https://localhost:8080/",
     "height": 415
    },
    "executionInfo": {
     "elapsed": 3944,
     "status": "ok",
     "timestamp": 1617445515394,
     "user": {
      "displayName": "youtube dacon",
      "photoUrl": "",
      "userId": "00770885000471893693"
     },
     "user_tz": -540
    },
    "id": "SyoVjrC_NZqZ",
    "outputId": "d671fa59-641a-409e-9a68-f8c162dc63a2"
   },
   "outputs": [
    {
     "output_type": "execute_result",
     "data": {
      "text/plain": [
       "       index  income_total  DAYS_BIRTH  DAYS_EMPLOYED  begin_month\n",
       "0          0             0           3              1            0\n",
       "1          1             0           2              1            0\n",
       "2          2             1           6              1            1\n",
       "3          3             0           4              1            2\n",
       "4          4             0           4              1            1\n",
       "...      ...           ...         ...            ...          ...\n",
       "26452  26452             0           2              1            0\n",
       "26453  26453             0           4              1            3\n",
       "26454  26454             1           1              1            1\n",
       "26455  26455             0           1              1            3\n",
       "26456  26456             0           6              1            0\n",
       "\n",
       "[26457 rows x 5 columns]"
      ],
      "text/html": "<div>\n<style scoped>\n    .dataframe tbody tr th:only-of-type {\n        vertical-align: middle;\n    }\n\n    .dataframe tbody tr th {\n        vertical-align: top;\n    }\n\n    .dataframe thead th {\n        text-align: right;\n    }\n</style>\n<table border=\"1\" class=\"dataframe\">\n  <thead>\n    <tr style=\"text-align: right;\">\n      <th></th>\n      <th>index</th>\n      <th>income_total</th>\n      <th>DAYS_BIRTH</th>\n      <th>DAYS_EMPLOYED</th>\n      <th>begin_month</th>\n    </tr>\n  </thead>\n  <tbody>\n    <tr>\n      <th>0</th>\n      <td>0</td>\n      <td>0</td>\n      <td>3</td>\n      <td>1</td>\n      <td>0</td>\n    </tr>\n    <tr>\n      <th>1</th>\n      <td>1</td>\n      <td>0</td>\n      <td>2</td>\n      <td>1</td>\n      <td>0</td>\n    </tr>\n    <tr>\n      <th>2</th>\n      <td>2</td>\n      <td>1</td>\n      <td>6</td>\n      <td>1</td>\n      <td>1</td>\n    </tr>\n    <tr>\n      <th>3</th>\n      <td>3</td>\n      <td>0</td>\n      <td>4</td>\n      <td>1</td>\n      <td>2</td>\n    </tr>\n    <tr>\n      <th>4</th>\n      <td>4</td>\n      <td>0</td>\n      <td>4</td>\n      <td>1</td>\n      <td>1</td>\n    </tr>\n    <tr>\n      <th>...</th>\n      <td>...</td>\n      <td>...</td>\n      <td>...</td>\n      <td>...</td>\n      <td>...</td>\n    </tr>\n    <tr>\n      <th>26452</th>\n      <td>26452</td>\n      <td>0</td>\n      <td>2</td>\n      <td>1</td>\n      <td>0</td>\n    </tr>\n    <tr>\n      <th>26453</th>\n      <td>26453</td>\n      <td>0</td>\n      <td>4</td>\n      <td>1</td>\n      <td>3</td>\n    </tr>\n    <tr>\n      <th>26454</th>\n      <td>26454</td>\n      <td>1</td>\n      <td>1</td>\n      <td>1</td>\n      <td>1</td>\n    </tr>\n    <tr>\n      <th>26455</th>\n      <td>26455</td>\n      <td>0</td>\n      <td>1</td>\n      <td>1</td>\n      <td>3</td>\n    </tr>\n    <tr>\n      <th>26456</th>\n      <td>26456</td>\n      <td>0</td>\n      <td>6</td>\n      <td>1</td>\n      <td>0</td>\n    </tr>\n  </tbody>\n</table>\n<p>26457 rows × 5 columns</p>\n</div>"
     },
     "metadata": {},
     "execution_count": 57
    }
   ],
   "source": [
    "train[group_3]"
   ]
  },
  {
   "cell_type": "code",
   "execution_count": 58,
   "metadata": {
    "colab": {
     "base_uri": "https://localhost:8080/"
    },
    "executionInfo": {
     "elapsed": 4514,
     "status": "ok",
     "timestamp": 1617445515981,
     "user": {
      "displayName": "youtube dacon",
      "photoUrl": "",
      "userId": "00770885000471893693"
     },
     "user_tz": -540
    },
    "id": "rkylHOigU2Zy",
    "outputId": "92347042-c03d-4a26-9725-d9feab0410bb"
   },
   "outputs": [
    {
     "output_type": "execute_result",
     "data": {
      "text/plain": [
       "(26457, 19)"
      ]
     },
     "metadata": {},
     "execution_count": 58
    }
   ],
   "source": [
    "train.shape"
   ]
  },
  {
   "cell_type": "code",
   "execution_count": 59,
   "metadata": {
    "colab": {
     "base_uri": "https://localhost:8080/"
    },
    "executionInfo": {
     "elapsed": 4499,
     "status": "ok",
     "timestamp": 1617445515982,
     "user": {
      "displayName": "youtube dacon",
      "photoUrl": "",
      "userId": "00770885000471893693"
     },
     "user_tz": -540
    },
    "id": "aaxKXV-9U4Ej",
    "outputId": "85f9943d-9ff5-4506-bab4-0f110b582a34"
   },
   "outputs": [
    {
     "output_type": "execute_result",
     "data": {
      "text/plain": [
       "(10000, 18)"
      ]
     },
     "metadata": {},
     "execution_count": 59
    }
   ],
   "source": [
    "test.shape"
   ]
  },
  {
   "source": [
    "**[ch3 모델 학습하기 (영상)](https://dacon.io/competitions/official/235713/talkboard/402878?page=1&dtype=recent)** \n",
    "\n",
    "[![ch3 모델 학습하기 (영상)](https://i9.ytimg.com/vi/fBBHiShcJZo/mq2.jpg?sqp=CIC3tIMG&rs=AOn4CLC4bxuo8l_N4x_wEBHWxRbmborLiw)](https://dacon.io/competitions/official/235713/talkboard/402878?page=1&dtype=recent) "
   ],
   "cell_type": "markdown",
   "metadata": {}
  },
  {
   "cell_type": "code",
   "execution_count": 61,
   "metadata": {},
   "outputs": [],
   "source": [
    "#test = data[-10000:]"
   ]
  },
  {
   "cell_type": "code",
   "execution_count": 159,
   "metadata": {
    "executionInfo": {
     "elapsed": 4475,
     "status": "ok",
     "timestamp": 1617445515983,
     "user": {
      "displayName": "youtube dacon",
      "photoUrl": "",
      "userId": "00770885000471893693"
     },
     "user_tz": -540
    },
    "id": "wY59_omkT3ij"
   },
   "outputs": [],
   "source": [
    "#train = data[:-10000]"
   ]
  },
  {
   "cell_type": "code",
   "execution_count": 62,
   "metadata": {
    "executionInfo": {
     "elapsed": 4469,
     "status": "ok",
     "timestamp": 1617445515983,
     "user": {
      "displayName": "youtube dacon",
      "photoUrl": "",
      "userId": "00770885000471893693"
     },
     "user_tz": -540
    },
    "id": "CHgkjhKHU0jD"
   },
   "outputs": [],
   "source": [
    "train_x = train.drop(\"credit\", axis = 1)"
   ]
  },
  {
   "cell_type": "code",
   "execution_count": 63,
   "metadata": {
    "executionInfo": {
     "elapsed": 4462,
     "status": "ok",
     "timestamp": 1617445515984,
     "user": {
      "displayName": "youtube dacon",
      "photoUrl": "",
      "userId": "00770885000471893693"
     },
     "user_tz": -540
    },
    "id": "BNyoVBqFVGSa"
   },
   "outputs": [],
   "source": [
    "train_y = train['credit']"
   ]
  },
  {
   "cell_type": "code",
   "execution_count": 69,
   "metadata": {
    "executionInfo": {
     "elapsed": 4454,
     "status": "ok",
     "timestamp": 1617445515984,
     "user": {
      "displayName": "youtube dacon",
      "photoUrl": "",
      "userId": "00770885000471893693"
     },
     "user_tz": -540
    },
    "id": "VTLo1PBjVb1h"
   },
   "outputs": [],
   "source": [
    "#test_x = test.drop(\"credit\", axis = 1)\n",
    "test_x = test"
   ]
  },
  {
   "cell_type": "code",
   "execution_count": 70,
   "metadata": {
    "colab": {
     "base_uri": "https://localhost:8080/"
    },
    "executionInfo": {
     "elapsed": 4436,
     "status": "ok",
     "timestamp": 1617445515985,
     "user": {
      "displayName": "youtube dacon",
      "photoUrl": "",
      "userId": "00770885000471893693"
     },
     "user_tz": -540
    },
    "id": "w308hDL5VfaS",
    "outputId": "1a8c0606-baa1-415a-d60e-30bfa1aba487"
   },
   "outputs": [
    {
     "output_type": "execute_result",
     "data": {
      "text/plain": [
       "(26457, 18)"
      ]
     },
     "metadata": {},
     "execution_count": 70
    }
   ],
   "source": [
    "train_x.shape"
   ]
  },
  {
   "cell_type": "code",
   "execution_count": 71,
   "metadata": {
    "colab": {
     "base_uri": "https://localhost:8080/"
    },
    "executionInfo": {
     "elapsed": 4418,
     "status": "ok",
     "timestamp": 1617445515985,
     "user": {
      "displayName": "youtube dacon",
      "photoUrl": "",
      "userId": "00770885000471893693"
     },
     "user_tz": -540
    },
    "id": "Csc4POhBVhot",
    "outputId": "0d2ed2a8-ba96-4e18-871d-499c12ca3979"
   },
   "outputs": [
    {
     "output_type": "execute_result",
     "data": {
      "text/plain": [
       "(26457,)"
      ]
     },
     "metadata": {},
     "execution_count": 71
    }
   ],
   "source": [
    "train_y.shape"
   ]
  },
  {
   "cell_type": "code",
   "execution_count": 72,
   "metadata": {
    "colab": {
     "base_uri": "https://localhost:8080/"
    },
    "executionInfo": {
     "elapsed": 4400,
     "status": "ok",
     "timestamp": 1617445515986,
     "user": {
      "displayName": "youtube dacon",
      "photoUrl": "",
      "userId": "00770885000471893693"
     },
     "user_tz": -540
    },
    "id": "_DxbO2PcVlcv",
    "outputId": "49c43ef7-9824-43d9-9773-44c95ec1a85f"
   },
   "outputs": [
    {
     "output_type": "execute_result",
     "data": {
      "text/plain": [
       "(10000, 18)"
      ]
     },
     "metadata": {},
     "execution_count": 72
    }
   ],
   "source": [
    "test_x.shape"
   ]
  },
  {
   "cell_type": "code",
   "execution_count": 73,
   "metadata": {
    "executionInfo": {
     "elapsed": 4383,
     "status": "ok",
     "timestamp": 1617445515986,
     "user": {
      "displayName": "youtube dacon",
      "photoUrl": "",
      "userId": "00770885000471893693"
     },
     "user_tz": -540
    },
    "id": "cyE9IY3Cm1oP"
   },
   "outputs": [],
   "source": [
    "from sklearn.ensemble import RandomForestClassifier"
   ]
  },
  {
   "cell_type": "code",
   "execution_count": 74,
   "metadata": {
    "executionInfo": {
     "elapsed": 4375,
     "status": "ok",
     "timestamp": 1617445515987,
     "user": {
      "displayName": "youtube dacon",
      "photoUrl": "",
      "userId": "00770885000471893693"
     },
     "user_tz": -540
    },
    "id": "N9pKGsN9nB3R"
   },
   "outputs": [],
   "source": [
    "clf = RandomForestClassifier()"
   ]
  },
  {
   "cell_type": "code",
   "execution_count": 75,
   "metadata": {
    "colab": {
     "base_uri": "https://localhost:8080/"
    },
    "executionInfo": {
     "elapsed": 7852,
     "status": "ok",
     "timestamp": 1617445519477,
     "user": {
      "displayName": "youtube dacon",
      "photoUrl": "",
      "userId": "00770885000471893693"
     },
     "user_tz": -540
    },
    "id": "2VGFrHjnnByK",
    "outputId": "d55fd4dc-ee8a-435d-d384-9c986baa9d9e"
   },
   "outputs": [
    {
     "output_type": "execute_result",
     "data": {
      "text/plain": [
       "RandomForestClassifier()"
      ]
     },
     "metadata": {},
     "execution_count": 75
    }
   ],
   "source": [
    "clf.fit(train_x, train_y)"
   ]
  },
  {
   "cell_type": "code",
   "execution_count": 76,
   "metadata": {
    "executionInfo": {
     "elapsed": 8793,
     "status": "ok",
     "timestamp": 1617445520432,
     "user": {
      "displayName": "youtube dacon",
      "photoUrl": "",
      "userId": "00770885000471893693"
     },
     "user_tz": -540
    },
    "id": "gtp6Bk-3nBwP"
   },
   "outputs": [],
   "source": [
    "train_proba = clf.predict_proba(train_x)"
   ]
  },
  {
   "cell_type": "code",
   "execution_count": 77,
   "metadata": {
    "colab": {
     "base_uri": "https://localhost:8080/"
    },
    "executionInfo": {
     "elapsed": 8781,
     "status": "ok",
     "timestamp": 1617445520433,
     "user": {
      "displayName": "youtube dacon",
      "photoUrl": "",
      "userId": "00770885000471893693"
     },
     "user_tz": -540
    },
    "id": "hFVARmhpnBua",
    "outputId": "708119a3-c4e3-4415-b609-7530a24a1f60"
   },
   "outputs": [
    {
     "output_type": "execute_result",
     "data": {
      "text/plain": [
       "array([[0.02, 0.69, 0.29],\n",
       "       [0.08, 0.7 , 0.22],\n",
       "       [0.04, 0.05, 0.91],\n",
       "       [0.78, 0.07, 0.15],\n",
       "       [0.1 , 0.02, 0.88],\n",
       "       [0.09, 0.71, 0.2 ],\n",
       "       [0.08, 0.07, 0.85],\n",
       "       [0.76, 0.09, 0.15],\n",
       "       [0.07, 0.01, 0.92],\n",
       "       [0.06, 0.04, 0.9 ]])"
      ]
     },
     "metadata": {},
     "execution_count": 77
    }
   ],
   "source": [
    "train_proba[:10]"
   ]
  },
  {
   "cell_type": "code",
   "execution_count": 78,
   "metadata": {
    "colab": {
     "base_uri": "https://localhost:8080/"
    },
    "executionInfo": {
     "elapsed": 8762,
     "status": "ok",
     "timestamp": 1617445520435,
     "user": {
      "displayName": "youtube dacon",
      "photoUrl": "",
      "userId": "00770885000471893693"
     },
     "user_tz": -540
    },
    "id": "iqYpGf97nBsC",
    "outputId": "77a4784e-0815-40cc-dabd-4498909cf8e3"
   },
   "outputs": [
    {
     "output_type": "execute_result",
     "data": {
      "text/plain": [
       "array([1, 1, 2, 0, 2, 1, 2, 0, 2, 2], dtype=int64)"
      ]
     },
     "metadata": {},
     "execution_count": 78
    }
   ],
   "source": [
    "np.argmax(train_proba, axis = 1)[:10]"
   ]
  },
  {
   "cell_type": "code",
   "execution_count": 171,
   "metadata": {
    "executionInfo": {
     "elapsed": 8751,
     "status": "ok",
     "timestamp": 1617445520436,
     "user": {
      "displayName": "youtube dacon",
      "photoUrl": "",
      "userId": "00770885000471893693"
     },
     "user_tz": -540
    },
    "id": "jlS4FtJ-nBpw"
   },
   "outputs": [],
   "source": []
  },
  {
   "cell_type": "code",
   "execution_count": 79,
   "metadata": {
    "executionInfo": {
     "elapsed": 8745,
     "status": "ok",
     "timestamp": 1617445520436,
     "user": {
      "displayName": "youtube dacon",
      "photoUrl": "",
      "userId": "00770885000471893693"
     },
     "user_tz": -540
    },
    "id": "L11P8djboDem"
   },
   "outputs": [],
   "source": [
    "sample_submission.iloc[:,1:] =  clf.predict_proba(test_x)"
   ]
  },
  {
   "cell_type": "code",
   "execution_count": 80,
   "metadata": {
    "colab": {
     "base_uri": "https://localhost:8080/",
     "height": 415
    },
    "executionInfo": {
     "elapsed": 8735,
     "status": "ok",
     "timestamp": 1617445520437,
     "user": {
      "displayName": "youtube dacon",
      "photoUrl": "",
      "userId": "00770885000471893693"
     },
     "user_tz": -540
    },
    "id": "T-j4PhWBoGqj",
    "outputId": "2d413d1f-a177-4022-a1a0-7d3764600eda"
   },
   "outputs": [
    {
     "output_type": "execute_result",
     "data": {
      "text/plain": [
       "      index     0     1     2\n",
       "0     26457  0.16  0.21  0.63\n",
       "1     26458  0.09  0.24  0.67\n",
       "2     26459  0.06  0.27  0.67\n",
       "3     26460  0.11  0.15  0.74\n",
       "4     26461  0.12  0.42  0.46\n",
       "...     ...   ...   ...   ...\n",
       "9995  36452  0.09  0.33  0.58\n",
       "9996  36453  0.15  0.28  0.57\n",
       "9997  36454  0.21  0.11  0.68\n",
       "9998  36455  0.11  0.43  0.46\n",
       "9999  36456  0.15  0.41  0.44\n",
       "\n",
       "[10000 rows x 4 columns]"
      ],
      "text/html": "<div>\n<style scoped>\n    .dataframe tbody tr th:only-of-type {\n        vertical-align: middle;\n    }\n\n    .dataframe tbody tr th {\n        vertical-align: top;\n    }\n\n    .dataframe thead th {\n        text-align: right;\n    }\n</style>\n<table border=\"1\" class=\"dataframe\">\n  <thead>\n    <tr style=\"text-align: right;\">\n      <th></th>\n      <th>index</th>\n      <th>0</th>\n      <th>1</th>\n      <th>2</th>\n    </tr>\n  </thead>\n  <tbody>\n    <tr>\n      <th>0</th>\n      <td>26457</td>\n      <td>0.16</td>\n      <td>0.21</td>\n      <td>0.63</td>\n    </tr>\n    <tr>\n      <th>1</th>\n      <td>26458</td>\n      <td>0.09</td>\n      <td>0.24</td>\n      <td>0.67</td>\n    </tr>\n    <tr>\n      <th>2</th>\n      <td>26459</td>\n      <td>0.06</td>\n      <td>0.27</td>\n      <td>0.67</td>\n    </tr>\n    <tr>\n      <th>3</th>\n      <td>26460</td>\n      <td>0.11</td>\n      <td>0.15</td>\n      <td>0.74</td>\n    </tr>\n    <tr>\n      <th>4</th>\n      <td>26461</td>\n      <td>0.12</td>\n      <td>0.42</td>\n      <td>0.46</td>\n    </tr>\n    <tr>\n      <th>...</th>\n      <td>...</td>\n      <td>...</td>\n      <td>...</td>\n      <td>...</td>\n    </tr>\n    <tr>\n      <th>9995</th>\n      <td>36452</td>\n      <td>0.09</td>\n      <td>0.33</td>\n      <td>0.58</td>\n    </tr>\n    <tr>\n      <th>9996</th>\n      <td>36453</td>\n      <td>0.15</td>\n      <td>0.28</td>\n      <td>0.57</td>\n    </tr>\n    <tr>\n      <th>9997</th>\n      <td>36454</td>\n      <td>0.21</td>\n      <td>0.11</td>\n      <td>0.68</td>\n    </tr>\n    <tr>\n      <th>9998</th>\n      <td>36455</td>\n      <td>0.11</td>\n      <td>0.43</td>\n      <td>0.46</td>\n    </tr>\n    <tr>\n      <th>9999</th>\n      <td>36456</td>\n      <td>0.15</td>\n      <td>0.41</td>\n      <td>0.44</td>\n    </tr>\n  </tbody>\n</table>\n<p>10000 rows × 4 columns</p>\n</div>"
     },
     "metadata": {},
     "execution_count": 80
    }
   ],
   "source": [
    "sample_submission"
   ]
  },
  {
   "cell_type": "code",
   "execution_count": 81,
   "metadata": {
    "executionInfo": {
     "elapsed": 8723,
     "status": "ok",
     "timestamp": 1617445520438,
     "user": {
      "displayName": "youtube dacon",
      "photoUrl": "",
      "userId": "00770885000471893693"
     },
     "user_tz": -540
    },
    "id": "VGR5qFLuoQmi"
   },
   "outputs": [],
   "source": [
    "sample_submission.to_csv(\"sample_submission_ver1.csv\", index = False)"
   ]
  },
  {
   "cell_type": "code",
   "execution_count": 174,
   "metadata": {
    "executionInfo": {
     "elapsed": 8718,
     "status": "ok",
     "timestamp": 1617445520439,
     "user": {
      "displayName": "youtube dacon",
      "photoUrl": "",
      "userId": "00770885000471893693"
     },
     "user_tz": -540
    },
    "id": "znd-S6G7hbnP"
   },
   "outputs": [],
   "source": []
  },
  {
   "cell_type": "code",
   "execution_count": 82,
   "metadata": {
    "executionInfo": {
     "elapsed": 8713,
     "status": "ok",
     "timestamp": 1617445520440,
     "user": {
      "displayName": "youtube dacon",
      "photoUrl": "",
      "userId": "00770885000471893693"
     },
     "user_tz": -540
    },
    "id": "xY7-qNrpi4CM"
   },
   "outputs": [],
   "source": [
    "from sklearn.model_selection import train_test_split"
   ]
  },
  {
   "cell_type": "code",
   "execution_count": 83,
   "metadata": {
    "executionInfo": {
     "elapsed": 8706,
     "status": "ok",
     "timestamp": 1617445520442,
     "user": {
      "displayName": "youtube dacon",
      "photoUrl": "",
      "userId": "00770885000471893693"
     },
     "user_tz": -540
    },
    "id": "ggsgakMmjLKm"
   },
   "outputs": [],
   "source": [
    "X_train, X_val, y_train, y_val = train_test_split(train_x, train_y,\n",
    "                 stratify = train_y, \n",
    "                 test_size = 0.25,\n",
    "                 random_state = 10086\n",
    "                 )"
   ]
  },
  {
   "cell_type": "code",
   "execution_count": 84,
   "metadata": {
    "colab": {
     "base_uri": "https://localhost:8080/"
    },
    "executionInfo": {
     "elapsed": 8696,
     "status": "ok",
     "timestamp": 1617445520443,
     "user": {
      "displayName": "youtube dacon",
      "photoUrl": "",
      "userId": "00770885000471893693"
     },
     "user_tz": -540
    },
    "id": "TE5e2wTdjetw",
    "outputId": "c19cfcea-aee5-4d48-b032-f8c7a782da65"
   },
   "outputs": [
    {
     "output_type": "stream",
     "name": "stdout",
     "text": [
      "(19842, 18) (6615, 18) (19842,) (6615,)\n"
     ]
    }
   ],
   "source": [
    "print(X_train.shape, X_val.shape, y_train.shape, y_val.shape)"
   ]
  },
  {
   "cell_type": "code",
   "execution_count": 85,
   "metadata": {
    "executionInfo": {
     "elapsed": 8686,
     "status": "ok",
     "timestamp": 1617445520444,
     "user": {
      "displayName": "youtube dacon",
      "photoUrl": "",
      "userId": "00770885000471893693"
     },
     "user_tz": -540
    },
    "id": "G3Ox_CHMjuMl"
   },
   "outputs": [],
   "source": [
    "clf = RandomForestClassifier()"
   ]
  },
  {
   "cell_type": "code",
   "execution_count": 86,
   "metadata": {
    "colab": {
     "base_uri": "https://localhost:8080/"
    },
    "executionInfo": {
     "elapsed": 11293,
     "status": "ok",
     "timestamp": 1617445523062,
     "user": {
      "displayName": "youtube dacon",
      "photoUrl": "",
      "userId": "00770885000471893693"
     },
     "user_tz": -540
    },
    "id": "TYKN0OOfjz0L",
    "outputId": "24eebad6-ff0d-4190-8496-12fe13e940b0"
   },
   "outputs": [
    {
     "output_type": "execute_result",
     "data": {
      "text/plain": [
       "RandomForestClassifier()"
      ]
     },
     "metadata": {},
     "execution_count": 86
    }
   ],
   "source": [
    "clf.fit(X_train, y_train)"
   ]
  },
  {
   "cell_type": "code",
   "execution_count": 87,
   "metadata": {
    "executionInfo": {
     "elapsed": 11283,
     "status": "ok",
     "timestamp": 1617445523063,
     "user": {
      "displayName": "youtube dacon",
      "photoUrl": "",
      "userId": "00770885000471893693"
     },
     "user_tz": -540
    },
    "id": "1aaG89dwj3Km"
   },
   "outputs": [],
   "source": [
    "y_proba = clf.predict_proba(X_val)"
   ]
  },
  {
   "cell_type": "code",
   "execution_count": 88,
   "metadata": {
    "executionInfo": {
     "elapsed": 11278,
     "status": "ok",
     "timestamp": 1617445523064,
     "user": {
      "displayName": "youtube dacon",
      "photoUrl": "",
      "userId": "00770885000471893693"
     },
     "user_tz": -540
    },
    "id": "X-VYnE84j7p5"
   },
   "outputs": [],
   "source": [
    "y_val_onehot = pd.get_dummies(y_val)"
   ]
  },
  {
   "cell_type": "code",
   "execution_count": 89,
   "metadata": {
    "colab": {
     "base_uri": "https://localhost:8080/"
    },
    "executionInfo": {
     "elapsed": 11269,
     "status": "ok",
     "timestamp": 1617445523065,
     "user": {
      "displayName": "youtube dacon",
      "photoUrl": "",
      "userId": "00770885000471893693"
     },
     "user_tz": -540
    },
    "id": "HpTMOJBej9kS",
    "outputId": "82802adf-688c-4079-bea1-6fdfe5828b6f"
   },
   "outputs": [
    {
     "output_type": "execute_result",
     "data": {
      "text/plain": [
       "array([[0.18, 0.35, 0.47],\n",
       "       [0.06, 0.29, 0.65],\n",
       "       [0.17, 0.02, 0.81],\n",
       "       ...,\n",
       "       [0.05, 0.1 , 0.85],\n",
       "       [0.01, 0.2 , 0.79],\n",
       "       [0.17, 0.19, 0.64]])"
      ]
     },
     "metadata": {},
     "execution_count": 89
    }
   ],
   "source": [
    "y_proba"
   ]
  },
  {
   "cell_type": "code",
   "execution_count": 90,
   "metadata": {
    "colab": {
     "base_uri": "https://localhost:8080/",
     "height": 415
    },
    "executionInfo": {
     "elapsed": 11255,
     "status": "ok",
     "timestamp": 1617445523066,
     "user": {
      "displayName": "youtube dacon",
      "photoUrl": "",
      "userId": "00770885000471893693"
     },
     "user_tz": -540
    },
    "id": "6zjjDZCXkZ_C",
    "outputId": "ab58754d-5827-40eb-e56f-090f0050bb2d"
   },
   "outputs": [
    {
     "output_type": "execute_result",
     "data": {
      "text/plain": [
       "       0.0  1.0  2.0\n",
       "36       0    0    1\n",
       "3464     0    0    1\n",
       "2640     0    0    1\n",
       "22500    0    1    0\n",
       "17275    0    1    0\n",
       "...    ...  ...  ...\n",
       "6806     0    1    0\n",
       "23096    0    0    1\n",
       "7756     0    0    1\n",
       "23331    0    0    1\n",
       "25457    0    0    1\n",
       "\n",
       "[6615 rows x 3 columns]"
      ],
      "text/html": "<div>\n<style scoped>\n    .dataframe tbody tr th:only-of-type {\n        vertical-align: middle;\n    }\n\n    .dataframe tbody tr th {\n        vertical-align: top;\n    }\n\n    .dataframe thead th {\n        text-align: right;\n    }\n</style>\n<table border=\"1\" class=\"dataframe\">\n  <thead>\n    <tr style=\"text-align: right;\">\n      <th></th>\n      <th>0.0</th>\n      <th>1.0</th>\n      <th>2.0</th>\n    </tr>\n  </thead>\n  <tbody>\n    <tr>\n      <th>36</th>\n      <td>0</td>\n      <td>0</td>\n      <td>1</td>\n    </tr>\n    <tr>\n      <th>3464</th>\n      <td>0</td>\n      <td>0</td>\n      <td>1</td>\n    </tr>\n    <tr>\n      <th>2640</th>\n      <td>0</td>\n      <td>0</td>\n      <td>1</td>\n    </tr>\n    <tr>\n      <th>22500</th>\n      <td>0</td>\n      <td>1</td>\n      <td>0</td>\n    </tr>\n    <tr>\n      <th>17275</th>\n      <td>0</td>\n      <td>1</td>\n      <td>0</td>\n    </tr>\n    <tr>\n      <th>...</th>\n      <td>...</td>\n      <td>...</td>\n      <td>...</td>\n    </tr>\n    <tr>\n      <th>6806</th>\n      <td>0</td>\n      <td>1</td>\n      <td>0</td>\n    </tr>\n    <tr>\n      <th>23096</th>\n      <td>0</td>\n      <td>0</td>\n      <td>1</td>\n    </tr>\n    <tr>\n      <th>7756</th>\n      <td>0</td>\n      <td>0</td>\n      <td>1</td>\n    </tr>\n    <tr>\n      <th>23331</th>\n      <td>0</td>\n      <td>0</td>\n      <td>1</td>\n    </tr>\n    <tr>\n      <th>25457</th>\n      <td>0</td>\n      <td>0</td>\n      <td>1</td>\n    </tr>\n  </tbody>\n</table>\n<p>6615 rows × 3 columns</p>\n</div>"
     },
     "metadata": {},
     "execution_count": 90
    }
   ],
   "source": [
    "y_val_onehot"
   ]
  },
  {
   "cell_type": "code",
   "execution_count": 91,
   "metadata": {
    "executionInfo": {
     "elapsed": 11244,
     "status": "ok",
     "timestamp": 1617445523067,
     "user": {
      "displayName": "youtube dacon",
      "photoUrl": "",
      "userId": "00770885000471893693"
     },
     "user_tz": -540
    },
    "id": "HABu1i0lka7r"
   },
   "outputs": [],
   "source": [
    "from sklearn.metrics import log_loss"
   ]
  },
  {
   "cell_type": "code",
   "execution_count": 92,
   "metadata": {
    "colab": {
     "base_uri": "https://localhost:8080/"
    },
    "executionInfo": {
     "elapsed": 11235,
     "status": "ok",
     "timestamp": 1617445523068,
     "user": {
      "displayName": "youtube dacon",
      "photoUrl": "",
      "userId": "00770885000471893693"
     },
     "user_tz": -540
    },
    "id": "lqT76p3-kip4",
    "outputId": "4fa6d75b-79cb-4ac1-8ab3-f79c11457eb4"
   },
   "outputs": [
    {
     "output_type": "execute_result",
     "data": {
      "text/plain": [
       "1.076741923213718"
      ]
     },
     "metadata": {},
     "execution_count": 92
    }
   ],
   "source": [
    "log_loss(y_val_onehot, y_proba)"
   ]
  },
  {
   "cell_type": "code",
   "execution_count": 93,
   "metadata": {
    "executionInfo": {
     "elapsed": 1156,
     "status": "ok",
     "timestamp": 1617445680594,
     "user": {
      "displayName": "youtube dacon",
      "photoUrl": "",
      "userId": "00770885000471893693"
     },
     "user_tz": -540
    },
    "id": "QjV35o1_LtFD"
   },
   "outputs": [],
   "source": [
    "from sklearn.model_selection import StratifiedKFold"
   ]
  },
  {
   "cell_type": "code",
   "execution_count": 94,
   "metadata": {
    "executionInfo": {
     "elapsed": 595,
     "status": "ok",
     "timestamp": 1617445738461,
     "user": {
      "displayName": "youtube dacon",
      "photoUrl": "",
      "userId": "00770885000471893693"
     },
     "user_tz": -540
    },
    "id": "HqVxgXgjLtCG"
   },
   "outputs": [],
   "source": [
    "folds = StratifiedKFold(n_splits=5, shuffle=True, random_state=55)\n"
   ]
  },
  {
   "cell_type": "code",
   "execution_count": 95,
   "metadata": {
    "executionInfo": {
     "elapsed": 15069,
     "status": "ok",
     "timestamp": 1617447400041,
     "user": {
      "displayName": "youtube dacon",
      "photoUrl": "",
      "userId": "00770885000471893693"
     },
     "user_tz": -540
    },
    "id": "ihh8R9bnLs_h"
   },
   "outputs": [
    {
     "output_type": "execute_result",
     "data": {
      "text/plain": [
       "1.0603078743290344"
      ]
     },
     "metadata": {},
     "execution_count": 95
    }
   ],
   "source": [
    "outcomes = []\n",
    "for n_fold, (train_index, val_index)  in enumerate(folds.split(train_x, train_y)):\n",
    "    X_train, X_val = train_x.iloc[train_index], train_x.iloc[val_index]\n",
    "    y_train, y_val = train_y.iloc[train_index], train_y.iloc[val_index]\n",
    "    clf = RandomForestClassifier()\n",
    "    clf.fit(X_train, y_train)\n",
    "    predictions = clf.predict_proba(X_val)\n",
    "    y_val_onehot = pd.get_dummies(y_val)\n",
    "\n",
    "    logloss = log_loss(y_val_onehot, predictions)\n",
    "    outcomes.append(logloss)\n",
    "    \n",
    "np.mean(outcomes)"
   ]
  },
  {
   "cell_type": "code",
   "execution_count": 96,
   "metadata": {
    "colab": {
     "base_uri": "https://localhost:8080/"
    },
    "executionInfo": {
     "elapsed": 741,
     "status": "ok",
     "timestamp": 1617447452205,
     "user": {
      "displayName": "youtube dacon",
      "photoUrl": "",
      "userId": "00770885000471893693"
     },
     "user_tz": -540
    },
    "id": "o2PhvDjtSwkj",
    "outputId": "ee58c51c-9ed4-48d1-c90b-eb63d740eef0"
   },
   "outputs": [
    {
     "output_type": "execute_result",
     "data": {
      "text/plain": [
       "1.0603078743290344"
      ]
     },
     "metadata": {},
     "execution_count": 96
    }
   ],
   "source": [
    "np.mean(outcomes)"
   ]
  },
  {
   "cell_type": "code",
   "execution_count": 97,
   "metadata": {
    "colab": {
     "base_uri": "https://localhost:8080/"
    },
    "executionInfo": {
     "elapsed": 15247,
     "status": "ok",
     "timestamp": 1617447920570,
     "user": {
      "displayName": "youtube dacon",
      "photoUrl": "",
      "userId": "00770885000471893693"
     },
     "user_tz": -540
    },
    "id": "XSNho9KfSjxK",
    "outputId": "2d95a7d7-6cde-4348-c61f-c34b6f9ac30d"
   },
   "outputs": [
    {
     "output_type": "execute_result",
     "data": {
      "text/plain": [
       "1.0649665521122453"
      ]
     },
     "metadata": {},
     "execution_count": 97
    }
   ],
   "source": [
    "outcomes = []\n",
    "sub = np.zeros((test_x.shape[0],3))\n",
    "for n_fold, (train_index, val_index)  in enumerate(folds.split(train_x, train_y)):\n",
    "    X_train, X_val = train_x.iloc[train_index], train_x.iloc[val_index]\n",
    "    y_train, y_val = train_y.iloc[train_index], train_y.iloc[val_index]\n",
    "    clf = RandomForestClassifier()\n",
    "    clf.fit(X_train, y_train)\n",
    "    predictions = clf.predict_proba(X_val)\n",
    "    y_val_onehot = pd.get_dummies(y_val)\n",
    "\n",
    "    sub += clf.predict_proba(test_x)\n",
    "\n",
    "    logloss = log_loss(y_val_onehot, predictions)\n",
    "    outcomes.append(logloss)\n",
    "\n",
    "sub = sub / 5\n",
    "   \n",
    "np.mean(outcomes)"
   ]
  },
  {
   "cell_type": "code",
   "execution_count": 98,
   "metadata": {
    "colab": {
     "base_uri": "https://localhost:8080/"
    },
    "executionInfo": {
     "elapsed": 812,
     "status": "ok",
     "timestamp": 1617447925913,
     "user": {
      "displayName": "youtube dacon",
      "photoUrl": "",
      "userId": "00770885000471893693"
     },
     "user_tz": -540
    },
    "id": "N5WtF2ubSjuC",
    "outputId": "4c52c208-3420-4d52-84d2-67c1083ca025"
   },
   "outputs": [
    {
     "output_type": "execute_result",
     "data": {
      "text/plain": [
       "array([[0.132, 0.194, 0.674],\n",
       "       [0.076, 0.208, 0.716],\n",
       "       [0.068, 0.254, 0.678],\n",
       "       ...,\n",
       "       [0.142, 0.086, 0.772],\n",
       "       [0.112, 0.384, 0.504],\n",
       "       [0.156, 0.368, 0.476]])"
      ]
     },
     "metadata": {},
     "execution_count": 98
    }
   ],
   "source": [
    "sub"
   ]
  },
  {
   "cell_type": "code",
   "execution_count": 99,
   "metadata": {
    "executionInfo": {
     "elapsed": 634,
     "status": "ok",
     "timestamp": 1617447957036,
     "user": {
      "displayName": "youtube dacon",
      "photoUrl": "",
      "userId": "00770885000471893693"
     },
     "user_tz": -540
    },
    "id": "Nc5_mjGJSjrA"
   },
   "outputs": [],
   "source": [
    "sample_submission.iloc[:,1:] =  sub"
   ]
  },
  {
   "cell_type": "code",
   "execution_count": 100,
   "metadata": {
    "executionInfo": {
     "elapsed": 708,
     "status": "ok",
     "timestamp": 1617447993881,
     "user": {
      "displayName": "youtube dacon",
      "photoUrl": "",
      "userId": "00770885000471893693"
     },
     "user_tz": -540
    },
    "id": "nlF0HUn7Sjl-"
   },
   "outputs": [],
   "source": [
    "sample_submission.to_csv(\"5fold_prediction.csv\", index = False)"
   ]
  },
  {
   "cell_type": "code",
   "execution_count": null,
   "metadata": {},
   "outputs": [],
   "source": []
  }
 ],
 "metadata": {
  "colab": {
   "authorship_tag": "ABX9TyOYtTkYj21ll5RVdvP7w2Dg",
   "collapsed_sections": [],
   "mount_file_id": "1GxujCu2C6ryL1WOMuQKh_J5qQxiKb6Cf",
   "name": "Baseline.ipynb",
   "provenance": []
  },
  "kernelspec": {
   "name": "python3612jvsc74a57bd02091fe89c84f74a5e3e429b7cb844a9c0f2bace986f522b7f9463220cb14ec72",
   "display_name": "Python 3.6.12 64-bit ('gpu': conda)"
  },
  "language_info": {
   "codemirror_mode": {
    "name": "ipython",
    "version": 3
   },
   "file_extension": ".py",
   "mimetype": "text/x-python",
   "name": "python",
   "nbconvert_exporter": "python",
   "pygments_lexer": "ipython3",
   "version": "3.6.12"
  }
 },
 "nbformat": 4,
 "nbformat_minor": 4
}